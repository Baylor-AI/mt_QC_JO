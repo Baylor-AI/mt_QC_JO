{
 "cells": [
  {
   "cell_type": "code",
   "execution_count": 28,
   "metadata": {},
   "outputs": [],
   "source": [
    "import numpy as np\n",
    "ket_0 = np.array([1,0])\n",
    "ket_1 = np.array([0,1])\n",
    "ket_add = (np.array(ket_0 + ket_1))/np.sqrt(2) #doesnot look good\n",
    "# ket_add = np.array([1,1])/np.sqrt(2)\n",
    "ket_sub = (np.array(ket_0 - ket_1))/np.sqrt(2)\n",
    "# ket_sub = np.array([1,-1])/np.sqrt(2)"
   ]
  },
  {
   "cell_type": "code",
   "execution_count": 29,
   "metadata": {},
   "outputs": [
    {
     "name": "stdout",
     "output_type": "stream",
     "text": [
      "[0.70710678 0.70710678]\n",
      "[0.70710678 0.70710678]\n",
      "[ 0.70710678 -0.70710678]\n",
      "[ 0.70710678 -0.70710678]\n"
     ]
    }
   ],
   "source": [
    "print(ket_add)\n",
    "print(np.array([1,1])/np.sqrt(2))\n",
    "print(ket_sub)\n",
    "print(np.array([1,-1])/np.sqrt(2))"
   ]
  },
  {
   "cell_type": "code",
   "execution_count": 32,
   "metadata": {},
   "outputs": [
    {
     "name": "stdout",
     "output_type": "stream",
     "text": [
      "0\n",
      "0.0\n"
     ]
    }
   ],
   "source": [
    "print(np.dot(np.conj(ket_1),ket_0))\n",
    "print(np.dot(ket_sub.T,ket_add))\n"
   ]
  },
  {
   "cell_type": "code",
   "execution_count": 33,
   "metadata": {},
   "outputs": [
    {
     "data": {
      "text/plain": [
       "0.0"
      ]
     },
     "execution_count": 33,
     "metadata": {},
     "output_type": "execute_result"
    }
   ],
   "source": [
    "np.dot(ket_add.T,ket_sub)"
   ]
  },
  {
   "cell_type": "code",
   "execution_count": 34,
   "metadata": {},
   "outputs": [
    {
     "data": {
      "text/plain": [
       "0"
      ]
     },
     "execution_count": 34,
     "metadata": {},
     "output_type": "execute_result"
    }
   ],
   "source": [
    "np.dot(ket_0,ket_1)"
   ]
  },
  {
   "cell_type": "code",
   "execution_count": 36,
   "metadata": {},
   "outputs": [
    {
     "name": "stdout",
     "output_type": "stream",
     "text": [
      "-0.4999999999999999\n"
     ]
    }
   ],
   "source": [
    "a = np.conj(np.dot(ket_add.T,ket_0))\n",
    "b = np.conj(np.dot(ket_sub.T,ket_1))\n",
    "print(np.dot(a,b))"
   ]
  }
 ],
 "metadata": {
  "interpreter": {
   "hash": "31e5e0eac53311b16f1a24251c2c0b728254265bc4d2d75c24517654bf7026f2"
  },
  "kernelspec": {
   "display_name": "Python 3.7.11 ('ML')",
   "language": "python",
   "name": "python3"
  },
  "language_info": {
   "codemirror_mode": {
    "name": "ipython",
    "version": 3
   },
   "file_extension": ".py",
   "mimetype": "text/x-python",
   "name": "python",
   "nbconvert_exporter": "python",
   "pygments_lexer": "ipython3",
   "version": "3.7.11"
  },
  "orig_nbformat": 4
 },
 "nbformat": 4,
 "nbformat_minor": 2
}
