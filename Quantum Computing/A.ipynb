{
 "cells": [
  {
   "cell_type": "markdown",
   "metadata": {},
   "source": [
    "# Quantum Algorithm Section"
   ]
  },
  {
   "cell_type": "code",
   "execution_count": 1,
   "metadata": {},
   "outputs": [],
   "source": [
    "import pennylane as qml\n",
    "import numpy as np"
   ]
  },
  {
   "cell_type": "markdown",
   "metadata": {},
   "source": [
    "## A.1\n",
    "Fill in the following code to create the uniform superposition over n qubits.\n",
    "It will plot the probability of observing different outcomes. Does putting the circuit in a uniform superposition help us break the lock"
   ]
  },
  {
   "cell_type": "code",
   "execution_count": 2,
   "metadata": {},
   "outputs": [],
   "source": [
    "n_bits = 4\n",
    "dev = qml.device(\"default.qubit\", wires=n_bits)\n",
    "\n",
    "@qml.qnode(dev)\n",
    "def naive_circuit():\n",
    "    \"\"\"Create a uniform superposition and return the probabilities.\n",
    "\n",
    "    Returns: \n",
    "        array[float]: Probabilities for observing different outcomes.\n",
    "    \"\"\"\n",
    "    for wire in range(n_bits):\n",
    "\n",
    "        ##################\n",
    "        qml.Hadamard(wires = wire)\n",
    "\n",
    "    return qml.probs(wires=range(n_bits))\n"
   ]
  },
  {
   "cell_type": "markdown",
   "metadata": {},
   "source": [
    "# A.2"
   ]
  },
  {
   "cell_type": "markdown",
   "metadata": {},
   "source": [
    "#### Codercise A.2.1. \n",
    "Write a function which returns the oracle in matrix form for a given secret combination.\n",
    "\n"
   ]
  },
  {
   "cell_type": "code",
   "execution_count": 3,
   "metadata": {},
   "outputs": [],
   "source": [
    "def oracle_matrix(combo):\n",
    "    \"\"\"Return the oracle matrix for a secret combination.\n",
    "    \n",
    "    Args:\n",
    "        combo (list[int]): A list of bits representing a secret combination.\n",
    "         \n",
    "    Returns: \n",
    "        array[float]: The matrix representation of the oracle.\n",
    "    \"\"\"\n",
    "    index = np.ravel_multi_index(combo, [2]*len(combo)) # Index of solution ,[0],[2]\n",
    "    print(\"Index\", index)\n",
    "    my_array = np.identity(2**len(combo)) # Create the identity matrix\n",
    "    my_array[index][index] = -1\n",
    "    ##################\n",
    "    # YOUR CODE HERE #\n",
    "    ##################\n",
    "\n",
    "    # MODIFY DIAGONAL ENTRY CORRESPONDING TO SOLUTION INDEX\n",
    "\n",
    "    return my_array\n"
   ]
  },
  {
   "cell_type": "code",
   "execution_count": 4,
   "metadata": {},
   "outputs": [
    {
     "name": "stdout",
     "output_type": "stream",
     "text": [
      "Index 2\n"
     ]
    }
   ],
   "source": [
    "combo = [1,0]\n",
    "ans = oracle_matrix(combo=combo)"
   ]
  },
  {
   "cell_type": "code",
   "execution_count": 5,
   "metadata": {},
   "outputs": [
    {
     "name": "stdout",
     "output_type": "stream",
     "text": [
      "[[ 1  2  3  4]\n",
      " [ 5  6  7  8]\n",
      " [ 9 10 11 12]\n",
      " [13 14 15 16]]\n",
      "----------\n"
     ]
    },
    {
     "data": {
      "text/plain": [
       "27"
      ]
     },
     "execution_count": 5,
     "metadata": {},
     "output_type": "execute_result"
    }
   ],
   "source": [
    "a = np.arange(1,17).reshape(4,4)\n",
    "print(a)\n",
    "print(\"-\"*10)\n",
    "np.ravel_multi_index([2,7],[10,10])"
   ]
  },
  {
   "cell_type": "markdown",
   "metadata": {},
   "source": [
    "### A.2.2"
   ]
  },
  {
   "cell_type": "code",
   "execution_count": 6,
   "metadata": {},
   "outputs": [],
   "source": [
    "n_bits = 4\n",
    "dev = qml.device(\"default.qubit\", wires=n_bits)\n",
    "\n",
    "@qml.qnode(dev)\n",
    "def oracle_circuit(combo):\n",
    "    \"\"\"Create a uniform superposition, apply the oracle, and return probabilities.\n",
    "    \n",
    "    Args:\n",
    "        combo (list[int]): A list of bits representing a secret combination.\n",
    "\n",
    "    Returns:\n",
    "        list[float]: The output probabilities.\n",
    "    \"\"\"\n",
    "    mat = oracle_matrix(combo)\n",
    "    for wire in range(n_bits):\n",
    "        qml.Hadamard(wires = wire)\n",
    "    qml.QubitUnitary(mat,wires = [0,1,2,3])\n",
    "    ##################\n",
    "    # YOUR CODE HERE #\n",
    "    ##################\n",
    "\n",
    "    return qml.probs(wires=range(n_bits))\n"
   ]
  },
  {
   "cell_type": "markdown",
   "metadata": {},
   "source": [
    "### A.3.1\n",
    " Implement this circuit and return the probabilities on the last qubit. The function oracle_matrix is defined for you. You can expand the box below to see the docstring and implementation."
   ]
  },
  {
   "cell_type": "code",
   "execution_count": 7,
   "metadata": {},
   "outputs": [],
   "source": [
    "n_bits = 4\n",
    "dev = qml.device(\"default.qubit\", wires=n_bits)\n",
    "\n",
    "@qml.qnode(dev)\n",
    "def pair_circuit(x_tilde, combo):\n",
    "    \"\"\"Test a pair labelled by x_tilde for the presence of a solution.\n",
    "    \n",
    "    Args:\n",
    "        x_tilde (list[int]): An (n_bits - 1)-string labelling the pair to test.\n",
    "        combo (list[int]): A secret combination of n_bits 0s and 1s.\n",
    "        \n",
    "    Returns:\n",
    "        array[float]: Probabilities on the last qubit.\n",
    "    \"\"\"\n",
    "    for i in range(n_bits-1): # Initialize x_tilde part of state\n",
    "        if x_tilde[i] == 1:\n",
    "            qml.PauliX(wires=i)\n",
    "\n",
    "    ##################\n",
    "    # YOUR CODE HERE #\n",
    "    ##################\n",
    "    oracle = oracle_matrix(combo)\n",
    "    qml.Hadamard(wires = 3)\n",
    "    qml.QubitUnitary(oracle,wires = range(n_bits))\n",
    "    qml.Hadamard(wires = 3)\n",
    "    \n",
    "    return qml.probs(wires=n_bits-1)\n",
    "    return qml.state()\n"
   ]
  },
  {
   "cell_type": "code",
   "execution_count": 8,
   "metadata": {},
   "outputs": [
    {
     "name": "stdout",
     "output_type": "stream",
     "text": [
      "Index 14\n"
     ]
    },
    {
     "data": {
      "text/plain": [
       "tensor([0., 1.], requires_grad=True)"
      ]
     },
     "execution_count": 8,
     "metadata": {},
     "output_type": "execute_result"
    }
   ],
   "source": [
    "x_tilde = [1,1,1]\n",
    "comb = [1,1,1,0]\n",
    "ans = pair_circuit(x_tilde,comb)\n",
    "ans"
   ]
  },
  {
   "cell_type": "markdown",
   "metadata": {},
   "source": [
    "### A.2.3\n",
    "\n",
    "Complete the function below to see how many attempts it takes to break the lock using our quantum circuit. You should find an improvement over the brute force approach, which takes around 9 guesses (on average) for 4 qubits. Note that pair_circuit is available."
   ]
  },
  {
   "cell_type": "code",
   "execution_count": 9,
   "metadata": {},
   "outputs": [
    {
     "name": "stdout",
     "output_type": "stream",
     "text": [
      "[0, 0, 1]\n",
      "[0, 0, 0]\n",
      "[0, 0, 1]\n",
      "[0, 0, 1]\n",
      "[0, 0, 0]\n",
      "[0, 0, 1]\n",
      "[0, 0, 1]\n",
      "[0, 0, 0]\n",
      "[0, 0, 1]\n",
      "[0, 0, 1]\n",
      "[0, 0, 0]\n",
      "[0, 0, 1]\n",
      "[0, 0, 1]\n",
      "[0, 0, 0]\n",
      "[0, 0, 1]\n",
      "For 4 bits, it takes 2.0 pair tests on average.\n"
     ]
    }
   ],
   "source": [
    "def pair_lock_picker(trials):\n",
    "    \"\"\"Create a combo, run pair_circuit until it succeeds, and tally success rate.\n",
    "    \n",
    "    Args:\n",
    "        trials (int): Number of times to test the lock picker.\n",
    "\n",
    "    Returns:\n",
    "        float: The average number of times the lock picker uses pair_circuit.\n",
    "    \"\"\"\n",
    "    x_tilde_strs = [np.binary_repr(n, n_bits-1) for n in range(2**(n_bits-1))]\n",
    "    x_tildes = [[int(s) for s in x_tilde_str] for x_tilde_str in x_tilde_strs] \n",
    "\n",
    "    test_numbers = []\n",
    "\n",
    "    for trial in range(trials):\n",
    "        combo = [0,0,1,0] # Random list of bits\n",
    "        combo.pop()\n",
    "        print(combo)\n",
    "        counter = 0\n",
    "        for x_tilde in x_tildes:\n",
    "            counter += 1\n",
    "            print(x_tilde)\n",
    "            if np.isclose(combo,x_tilde).all():break\n",
    "            ##################\n",
    "            # YOUR CODE HERE #\n",
    "            ##################\n",
    "\n",
    "        test_numbers.append(counter)\n",
    "    return sum(test_numbers)/trials\n",
    "\n",
    "trials = 5\n",
    "output = pair_lock_picker(trials)\n",
    "\n",
    "print(f\"For {n_bits} bits, it takes\", output, \"pair tests on average.\")\n"
   ]
  },
  {
   "cell_type": "code",
   "execution_count": 10,
   "metadata": {},
   "outputs": [],
   "source": [
    "n_bits = 4\n",
    "dev = qml.device(\"default.qubit\", wires=n_bits)\n",
    "\n",
    "def multisol_oracle_matrix(combos):\n",
    "    \"\"\"Return the oracle matrix for a set of solutions.\n",
    "\n",
    "    Args:\n",
    "        combos (list[list[int]]): A list of secret bit strings.\n",
    "\n",
    "    Returns:\n",
    "        array[float]: The matrix representation of the oracle.\n",
    "    \"\"\"\n",
    "    #print([[2]*len(combo) for combo in combos])\n",
    "    indices = [np.ravel_multi_index(combo, [2]*len(combo)) for combo in combos]\n",
    "    #print(indices)\n",
    "    my_array = [np.identity(2**len(combo))for combo in combos] # Create the identity matrix\n",
    "    # print(len(my_array))\n",
    "    # print(type(my_array))\n",
    "    for a,arr in enumerate(my_array):\n",
    "        my_array[a][indices[a],indices[a]] = -1\n",
    "    # print(type(my_array))\n",
    "    return my_array\n"
   ]
  },
  {
   "cell_type": "code",
   "execution_count": 11,
   "metadata": {},
   "outputs": [
    {
     "name": "stdout",
     "output_type": "stream",
     "text": [
      "\n",
      "[[ 1.  0.  0.  0.  0.  0.  0.  0.  0.  0.  0.  0.  0.  0.  0.  0.]\n",
      " [ 0.  1.  0.  0.  0.  0.  0.  0.  0.  0.  0.  0.  0.  0.  0.  0.]\n",
      " [ 0.  0.  1.  0.  0.  0.  0.  0.  0.  0.  0.  0.  0.  0.  0.  0.]\n",
      " [ 0.  0.  0.  1.  0.  0.  0.  0.  0.  0.  0.  0.  0.  0.  0.  0.]\n",
      " [ 0.  0.  0.  0.  1.  0.  0.  0.  0.  0.  0.  0.  0.  0.  0.  0.]\n",
      " [ 0.  0.  0.  0.  0.  1.  0.  0.  0.  0.  0.  0.  0.  0.  0.  0.]\n",
      " [ 0.  0.  0.  0.  0.  0.  1.  0.  0.  0.  0.  0.  0.  0.  0.  0.]\n",
      " [ 0.  0.  0.  0.  0.  0.  0.  1.  0.  0.  0.  0.  0.  0.  0.  0.]\n",
      " [ 0.  0.  0.  0.  0.  0.  0.  0.  1.  0.  0.  0.  0.  0.  0.  0.]\n",
      " [ 0.  0.  0.  0.  0.  0.  0.  0.  0.  1.  0.  0.  0.  0.  0.  0.]\n",
      " [ 0.  0.  0.  0.  0.  0.  0.  0.  0.  0.  1.  0.  0.  0.  0.  0.]\n",
      " [ 0.  0.  0.  0.  0.  0.  0.  0.  0.  0.  0.  1.  0.  0.  0.  0.]\n",
      " [ 0.  0.  0.  0.  0.  0.  0.  0.  0.  0.  0.  0.  1.  0.  0.  0.]\n",
      " [ 0.  0.  0.  0.  0.  0.  0.  0.  0.  0.  0.  0.  0.  1.  0.  0.]\n",
      " [ 0.  0.  0.  0.  0.  0.  0.  0.  0.  0.  0.  0.  0.  0.  1.  0.]\n",
      " [ 0.  0.  0.  0.  0.  0.  0.  0.  0.  0.  0.  0.  0.  0.  0. -1.]]\n",
      "\n",
      "[[ 1.  0.  0.  0.  0.  0.  0.  0.  0.  0.  0.  0.  0.  0.  0.  0.]\n",
      " [ 0.  1.  0.  0.  0.  0.  0.  0.  0.  0.  0.  0.  0.  0.  0.  0.]\n",
      " [ 0.  0.  1.  0.  0.  0.  0.  0.  0.  0.  0.  0.  0.  0.  0.  0.]\n",
      " [ 0.  0.  0.  1.  0.  0.  0.  0.  0.  0.  0.  0.  0.  0.  0.  0.]\n",
      " [ 0.  0.  0.  0.  1.  0.  0.  0.  0.  0.  0.  0.  0.  0.  0.  0.]\n",
      " [ 0.  0.  0.  0.  0.  1.  0.  0.  0.  0.  0.  0.  0.  0.  0.  0.]\n",
      " [ 0.  0.  0.  0.  0.  0.  1.  0.  0.  0.  0.  0.  0.  0.  0.  0.]\n",
      " [ 0.  0.  0.  0.  0.  0.  0.  1.  0.  0.  0.  0.  0.  0.  0.  0.]\n",
      " [ 0.  0.  0.  0.  0.  0.  0.  0.  1.  0.  0.  0.  0.  0.  0.  0.]\n",
      " [ 0.  0.  0.  0.  0.  0.  0.  0.  0.  1.  0.  0.  0.  0.  0.  0.]\n",
      " [ 0.  0.  0.  0.  0.  0.  0.  0.  0.  0.  1.  0.  0.  0.  0.  0.]\n",
      " [ 0.  0.  0.  0.  0.  0.  0.  0.  0.  0.  0.  1.  0.  0.  0.  0.]\n",
      " [ 0.  0.  0.  0.  0.  0.  0.  0.  0.  0.  0.  0.  1.  0.  0.  0.]\n",
      " [ 0.  0.  0.  0.  0.  0.  0.  0.  0.  0.  0.  0.  0.  1.  0.  0.]\n",
      " [ 0.  0.  0.  0.  0.  0.  0.  0.  0.  0.  0.  0.  0.  0. -1.  0.]\n",
      " [ 0.  0.  0.  0.  0.  0.  0.  0.  0.  0.  0.  0.  0.  0.  0.  1.]]\n"
     ]
    }
   ],
   "source": [
    "x_tilde = [1,1,1,]\n",
    "combos = [[1,1,1,1],[1,1,1,0]]\n",
    "answer = multisol_oracle_matrix(combos)\n",
    "len(answer)\n",
    "for ans  in answer:\n",
    "    print()\n",
    "    print(ans)"
   ]
  },
  {
   "cell_type": "code",
   "execution_count": 12,
   "metadata": {},
   "outputs": [],
   "source": [
    "\n",
    "@qml.qnode(dev)\n",
    "def multisol_pair_circuit(x_tilde, combos):\n",
    "    \"\"\"Implements the circuit for testing a pair of combinations labelled by x_tilde.\n",
    "    \n",
    "    Args:\n",
    "        x_tilde (list[int]): An (n_bits - 1)-bit string labelling the pair to test.\n",
    "        combos (list[list[int]]): A list of secret bit strings.\n",
    "\n",
    "    Returns:\n",
    "        array[float]: Probabilities on the last qubit.\n",
    "    \"\"\"\n",
    "    for i in range(n_bits-1): # Initialize x_tilde part of state\n",
    "        if x_tilde[i] == 1:\n",
    "            qml.PauliX(wires=i)\n",
    "\n",
    "    ##################\n",
    "    # YOUR CODE HERE #\n",
    "    ##################\n",
    "    oracle = multisol_oracle_matrix(combos)\n",
    "    qml.Hadamard(wires = n_bits - 1)\n",
    "    for o in oracle: \n",
    "        o = np.asarray(o)\n",
    "        # print(o)\n",
    "        qml.QubitUnitary(np.asarray(o),wires = [0,1,2,3])\n",
    "    qml.Hadamard(wires = n_bits-1)\n",
    "\n",
    "    return qml.probs(wires=n_bits-1)\n"
   ]
  },
  {
   "cell_type": "code",
   "execution_count": 13,
   "metadata": {},
   "outputs": [
    {
     "data": {
      "text/plain": [
       "tensor([0., 1.], requires_grad=True)"
      ]
     },
     "execution_count": 13,
     "metadata": {},
     "output_type": "execute_result"
    }
   ],
   "source": [
    "x_tilde = [1,1,1,]\n",
    "combos = [[1,0,1,0],[1,1,1,1]]\n",
    "ans = multisol_pair_circuit(x_tilde,combos=combos)\n",
    "ans"
   ]
  },
  {
   "cell_type": "code",
   "execution_count": 14,
   "metadata": {},
   "outputs": [
    {
     "name": "stdout",
     "output_type": "stream",
     "text": [
      "combos [[1, 0, 1, 0], [1, 1, 1, 1]], x_tildes = [[0, 0, 0], [0, 0, 1], [0, 1, 0], [0, 1, 1], [1, 0, 0], [1, 0, 1], [1, 1, 0], [1, 1, 1]]\n"
     ]
    },
    {
     "data": {
      "text/plain": [
       "0"
      ]
     },
     "execution_count": 14,
     "metadata": {},
     "output_type": "execute_result"
    }
   ],
   "source": [
    "def parity_checker(combos):\n",
    "    \"\"\"Use multisol_pair_circuit to determine the parity of a solution set.\n",
    "\n",
    "    Args:\n",
    "        combos (list[list[int]]): A list of secret combinations.\n",
    "\n",
    "    Returns: \n",
    "        int: The parity of the solution set.\n",
    "    \"\"\"\n",
    "    parity = 0\n",
    "    x_tilde_strs = [np.binary_repr(n, n_bits-1) for n in range(2**(n_bits-1))]\n",
    "    x_tildes = [[int(s) for s in x_tilde_str] for x_tilde_str in x_tilde_strs]\n",
    "    print(f\"combos {combos}, x_tildes = {x_tildes}\")\n",
    "    for x_tilde in x_tildes:\n",
    "        ans1 = multisol_pair_circuit(x_tilde,combos)\n",
    "        # print(\"Ans1: \",ans1,\"Ans1[1]\",ans1[1],np.isclose(ans1[1],1,0.0001))\n",
    "        if np.isclose(ans1[1],1,0.0001):parity += 1\n",
    "    \"\"\"_summary_:\n",
    "    This is true because for each x_tilde we can generate a pair. x_tilde+0 and x_tilde+1, so if only odd soln\n",
    "    is present in the solution, we will have only odd oracle applied and then get a \"1\" for the last qubit,\n",
    "    else we will apply none or even oracle which will always yield +-(x_tilde + 0) which is not good. \n",
    "    Thus,we get the parity which will be same for actual soln parity.\n",
    "    \"\"\"\n",
    "\n",
    "        ##################\n",
    "        # YOUR CODE HERE #\n",
    "        ##################\n",
    "\n",
    "        # IMPLEMENT PARITY COUNTING ALGORITHM\n",
    "\n",
    "    return parity%2\n",
    "x_tilde = [1,1,1,]\n",
    "combos = [[1,0,1,0],[1,1,1,1]]\n",
    "parity_checker(combos)"
   ]
  },
  {
   "cell_type": "markdown",
   "metadata": {},
   "source": [
    "### A.5 Hadamard Transformation"
   ]
  },
  {
   "cell_type": "code",
   "execution_count": 15,
   "metadata": {},
   "outputs": [],
   "source": [
    "n_bits = 4\n",
    "dev = qml.device(\"default.qubit\", wires=n_bits)\n",
    "\n",
    "@qml.qnode(dev)\n",
    "def hoh_circuit(combo):\n",
    "    \"\"\"A circuit which applies Hadamard-oracle-Hadamard and returns probabilities.\n",
    "    \n",
    "    Args:\n",
    "        combo (list[int]): A list of bits representing a secret combination.\n",
    "\n",
    "    Returns:\n",
    "        list[float]: Measurement outcome probabilities.\n",
    "    \"\"\"\n",
    "    def apply_hadamard():\n",
    "        for i in range(n_bits):\n",
    "            qml.Hadamard(wires = i)\n",
    "    apply_hadamard()\n",
    "    oracle = oracle_matrix(combo)\n",
    "    qml.QubitUnitary(oracle, wires = [0,1,2,3])\n",
    "    apply_hadamard()\n",
    "    \n",
    "\n",
    "    ##################\n",
    "    # YOUR CODE HERE #\n",
    "    ##################\n",
    "\n",
    "    return qml.probs(wires=range(n_bits))\n"
   ]
  },
  {
   "cell_type": "markdown",
   "metadata": {},
   "source": [
    "### A.6 Deutsch-Jozsa"
   ]
  },
  {
   "cell_type": "code",
   "execution_count": 16,
   "metadata": {},
   "outputs": [],
   "source": [
    "n_bits = 4\n",
    "dev = qml.device(\"default.qubit\", wires=n_bits)\n",
    "\n",
    "@qml.qnode(dev)\n",
    "def multisol_hoh_circuit(combos):\n",
    "    \"\"\"A circuit which applies Hadamard, multi-solution oracle, then Hadamard.\n",
    "    \n",
    "    Args:\n",
    "        combos (list[list[int]]): A list of secret bit strings.\n",
    "\n",
    "    Returns: \n",
    "        array[float]: Probabilities for observing different outcomes.\n",
    "    \"\"\"\n",
    "    ##################\n",
    "    # YOUR CODE HERE #\n",
    "    ##################\n",
    "    qml.broadcast(qml.Hadamard,wires = [i for i in range(n_bits)],pattern = \"single\")\n",
    "    oracles = multisol_oracle_matrix(combos)\n",
    "    # for orc in oracles:\n",
    "    #     orc= np.asarray(orc)\n",
    "    #     rng = int(np.log2(orc.shape[0]))\n",
    "    qml.QubitUnitary(oracles[0],wires = [0,1,2,3])\n",
    "    qml.broadcast(qml.Hadamard,wires = [i for i in range(n_bits)],pattern = \"single\")\n",
    "    return qml.probs(wires=range(n_bits))\n",
    "\n",
    "#Tested with the following values\n",
    "combos = [[1,0,1,1],[0,1,1,1]]\n",
    "ans = multisol_hoh_circuit(combos)"
   ]
  },
  {
   "cell_type": "code",
   "execution_count": 17,
   "metadata": {},
   "outputs": [
    {
     "data": {
      "image/png": "[encoded data removed]",
      "text/plain": [
       "<Figure size 432x288 with 1 Axes>"
      ]
     },
     "metadata": {
      "needs_background": "light"
     },
     "output_type": "display_data"
    }
   ],
   "source": [
    "import matplotlib.pyplot as plt\n",
    "fig = plt.figure()\n",
    "ax = fig.add_axes([0,0,1,1])\n",
    "students = [0.5625, 0.0625,0.0625, 0.0625, 0.    , 0.    , 0.    , 0.    ,\n",
    "        0.    , 0.    , 0.    , 0.    , 0.0625, 0.0625, 0.0625, 0.0625]\n",
    "langs = [i for i in range(len(students))]\n",
    "\n",
    "ax.bar(langs,ans)\n",
    "plt.show()"
   ]
  },
  {
   "cell_type": "code",
   "execution_count": 18,
   "metadata": {},
   "outputs": [],
   "source": [
    "def deutsch_jozsa(promise_var):\n",
    "    \"\"\"Implement the Deutsch-Jozsa algorithm and guess the promise variable.\n",
    "    \n",
    "    Args:\n",
    "        promise_var (int): Indicates whether the function is balanced (0) or constant (1).\n",
    "        \n",
    "    Returns: \n",
    "        int: A guess at the promise variable.\n",
    "    \"\"\"\n",
    "    if promise_var == 0:\n",
    "        how_many = 2**(n_bits - 1)\n",
    "    else:\n",
    "        how_many = np.random.choice([0, 2**n_bits]) # Choose all or nothing randomly\n",
    "    combos = multisol_combo(n_bits, how_many) # Generate random combinations\n",
    "\n",
    "    ##################\n",
    "    # YOUR CODE HERE #\n",
    "    ##################\n",
    "    array = multisol_hoh_circuit(combos)\n",
    "    a,b = np.unique(array.all(),return_counts = True)\n",
    "    return promise_var"
   ]
  }
 ],
 "metadata": {
  "interpreter": {
   "hash": "de048136058b0b72a0d95292452e0f3525c6ee0eacdcff77f1b0fbb3b3e12a63"
  },
  "kernelspec": {
   "display_name": "Python 3.9.12 ('base')",
   "language": "python",
   "name": "python3"
  },
  "language_info": {
   "codemirror_mode": {
    "name": "ipython",
    "version": 3
   },
   "file_extension": ".py",
   "mimetype": "text/x-python",
   "name": "python",
   "nbconvert_exporter": "python",
   "pygments_lexer": "ipython3",
   "version": "3.9.12"
  },
  "orig_nbformat": 4
 },
 "nbformat": 4,
 "nbformat_minor": 2
}
