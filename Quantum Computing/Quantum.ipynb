{
 "cells": [
  {
   "cell_type": "code",
   "execution_count": 119,
   "id": "799f5ddd",
   "metadata": {},
   "outputs": [],
   "source": [
    "import math\n",
    "import numpy as np\n",
    "import pennylane as qml\n",
    "import matplotlib.pyplot as plt"
   ]
  },
  {
   "cell_type": "code",
   "execution_count": null,
   "id": "f4db029e",
   "metadata": {},
   "outputs": [],
   "source": [
    "0.8/math.sqrt(2)"
   ]
  },
  {
   "cell_type": "code",
   "execution_count": null,
   "id": "d049e08f",
   "metadata": {},
   "outputs": [],
   "source": [
    "state_1 = np.array([0.8, 0.6])\n",
    "state_2 = np.array([1 / np.sqrt(2), 1j / np.sqrt(2)]) \n",
    "print(state_1)\n",
    "print(state_2)"
   ]
  },
  {
   "cell_type": "code",
   "execution_count": null,
   "id": "745f7a1f",
   "metadata": {},
   "outputs": [],
   "source": [
    "np.dot(np.conj(state_2),state_1)"
   ]
  },
  {
   "cell_type": "code",
   "execution_count": null,
   "id": "b2e244e4",
   "metadata": {},
   "outputs": [],
   "source": [
    "np.dot(np.conj(state_1),state_2)"
   ]
  },
  {
   "cell_type": "code",
   "execution_count": null,
   "id": "4a9924ae",
   "metadata": {},
   "outputs": [],
   "source": [
    "print(state_2)\n",
    "print(np.conj(state_2))\n",
    "print(np.conjugate(state_2))"
   ]
  },
  {
   "cell_type": "code",
   "execution_count": null,
   "id": "2fd0fb0a",
   "metadata": {},
   "outputs": [],
   "source": [
    "State = np.array([1 / np.sqrt(2), 1j / np.sqrt(2)])\n",
    "def measure_state(state, num_meas=10):\n",
    "    x_prob = state[0] * np.conj(state[0])\n",
    "    x_prob = x_prob.real\n",
    "    y_prob = state[1] * np.conj(state[1])\n",
    "    y_prob = y_prob.real\n",
    "    choice_ = [0,1]\n",
    "    arr = np.random.choice(choice_,num_meas,p=[x_prob,y_prob])\n",
    "    return arr\n",
    "measure_state(State)"
   ]
  },
  {
   "cell_type": "code",
   "execution_count": null,
   "id": "a50e0a4f",
   "metadata": {},
   "outputs": [],
   "source": [
    "np.square(0.8) + np.square(0.6)"
   ]
  },
  {
   "cell_type": "code",
   "execution_count": null,
   "id": "40027d45",
   "metadata": {},
   "outputs": [],
   "source": [
    "1j * 1j"
   ]
  },
  {
   "cell_type": "code",
   "execution_count": null,
   "id": "778d12e7",
   "metadata": {},
   "outputs": [],
   "source": [
    "ket_0 = np.array([1, 0])\n",
    "ket_1 = np.array([0, 1])\n",
    "H = [[1/np.sqrt(2),1/np.sqrt(2)],\n",
    "                 [1/np.sqrt(2),-1/np.sqrt(2)]]\n",
    "\n",
    "T = [[1,0],[0,np.exp(1j * np.pi/4)]]\n",
    "S = [[1,0],[0,-1]]\n",
    "Z = [[1,0],[0,-1]]\n",
    "Y = [[0,-1j],[1j,0]]\n",
    "X = [[0,1],[1,0]]\n"
   ]
  },
  {
   "cell_type": "code",
   "execution_count": null,
   "id": "d812f5ef",
   "metadata": {},
   "outputs": [],
   "source": [
    "H_T = np.matmul(T,H)\n",
    "H_T_S = np.matmul(S,H_T)\n",
    "H_S_T_H = np.matmul(H,H_T_S)\n",
    "ans = np.matmul(H_S_T_H,ket_0)\n",
    "print(ans)"
   ]
  },
  {
   "cell_type": "code",
   "execution_count": null,
   "id": "5f1f2676",
   "metadata": {},
   "outputs": [],
   "source": [
    "np.matmul(np.matmul(H,X),H)"
   ]
  },
  {
   "cell_type": "code",
   "execution_count": null,
   "id": "a88e621f",
   "metadata": {},
   "outputs": [],
   "source": [
    "np.matmul(np.matmul(X,Y),ket_0) == 1j * np.matmul(Z,ket_0)"
   ]
  },
  {
   "cell_type": "code",
   "execution_count": null,
   "id": "d218543f",
   "metadata": {},
   "outputs": [],
   "source": [
    "U = np.array([[1, 1], [1, -1]]) / np.sqrt(2)\n",
    "\n",
    "def initialize_state():\n",
    "    \"\"\"Prepare a qubit in state |0>.\n",
    "    \n",
    "    Returns:\n",
    "        array[float]: the vector representation of state |0>.\n",
    "    \"\"\"\n",
    "\n",
    "    ##################\n",
    "    # YOUR CODE HERE #\n",
    "    ##################\n",
    "    ket_0 = np.array([1,0])\n",
    "    \n",
    "    ket_1 = np.array([0,1])\n",
    "    return ket_0"
   ]
  },
  {
   "cell_type": "code",
   "execution_count": null,
   "id": "baa2466c",
   "metadata": {},
   "outputs": [],
   "source": [
    "def apply_u(state):\n",
    "    \"\"\"Apply a quantum operation.\"\"\"\n",
    "    return np.dot(U, state)"
   ]
  },
  {
   "cell_type": "code",
   "execution_count": null,
   "id": "737d30b1",
   "metadata": {},
   "outputs": [],
   "source": [
    "def measure_state(state, num_meas):\n",
    "    \"\"\"Measure a quantum state num_meas times.\"\"\"\n",
    "    p_alpha = np.abs(state[0]) ** 2\n",
    "    p_beta = np.abs(state[1]) ** 2\n",
    "    meas_outcome = np.random.choice([0, 1], p=[p_alpha, p_beta], size=num_meas)\n",
    "    return meas_outcome"
   ]
  },
  {
   "cell_type": "code",
   "execution_count": null,
   "id": "db58e475",
   "metadata": {},
   "outputs": [],
   "source": [
    "def quantum_algorithm():\n",
    "    \"\"\"Use the functions above to implement the quantum algorithm described above.\n",
    "    \n",
    "    Try and do so using three lines of code or less!\n",
    "    \n",
    "    Returns:\n",
    "        array[int]: the measurement results after running the algorithm 100 times\n",
    "    \"\"\"\n",
    "    \n",
    "    ##################\n",
    "    # YOUR CODE HERE #\n",
    "    new_state = apply_u(initialize_state())\n",
    "    measure_state_temp = measure_state(new_state,100)\n",
    "    return(measure_state_temp)\n",
    "    ##################\n",
    "\n",
    "    # PREPARE THE STATE, APPLY U, THEN TAKE 100 MEASUREMENT SAMPLES\n",
    "    pass"
   ]
  },
  {
   "cell_type": "code",
   "execution_count": null,
   "id": "af28939d",
   "metadata": {},
   "outputs": [],
   "source": [
    "quantum_algorithm()"
   ]
  },
  {
   "cell_type": "code",
   "execution_count": null,
   "id": "bdf5d37b",
   "metadata": {},
   "outputs": [],
   "source": [
    "U = np.array([[1, 1], [1, -1]]) / np.sqrt(2)\n",
    "\n",
    "def initialize_state():\n",
    "    \"\"\"Prepare a qubit in state |0>.\n",
    "    \n",
    "    Returns:\n",
    "        array[float]: the vector representation of state |0>.\n",
    "    \"\"\"\n",
    "\n",
    "    ##################\n",
    "    # YOUR CODE HERE #\n",
    "    ##################\n",
    "    ket_0 = np.array([1,0])\n",
    "    ket_1 = np.array([0,1])\n",
    "    return ket_0\n",
    "\n",
    "    # PREPARE THE STATE |0>   \n",
    "    pass\n",
    "\n",
    "\n",
    "def apply_u(state):\n",
    "    \"\"\"Apply a quantum operation.\"\"\"\n",
    "    return np.dot(U, state)\n",
    "\n",
    "\n",
    "def measure_state(state, num_meas):\n",
    "    \"\"\"Measure a quantum state num_meas times.\"\"\"\n",
    "    p_alpha = np.abs(state[0]) ** 2\n",
    "    p_beta = np.abs(state[1]) ** 2\n",
    "    meas_outcome = np.random.choice([0, 1], p=[p_alpha, p_beta], size=num_meas)\n",
    "    return meas_outcome\n",
    "\n",
    "\n",
    "def quantum_algorithm():\n",
    "    \"\"\"Use the functions above to implement the quantum algorithm described above.\n",
    "    \n",
    "    Try and do so using three lines of code or less!\n",
    "    \n",
    "    Returns:\n",
    "        array[int]: the measurement results after running the algorithm 100 times\n",
    "    \"\"\"\n",
    "    \n",
    "    ##################\n",
    "    # YOUR CODE HERE #\n",
    "    new_state = apply_u(initialize_state())\n",
    "    measure_state_temp = measure_state(new_state,100)\n",
    "    return(measure_state_temp)\n",
    "    ##################\n",
    "\n",
    "    # PREPARE THE STATE, APPLY U, THEN TAKE 100 MEASUREMENT SAMPLES\n",
    "    pass\n"
   ]
  },
  {
   "cell_type": "code",
   "execution_count": null,
   "id": "52ace0f0",
   "metadata": {},
   "outputs": [],
   "source": [
    "quantum_algorithm()"
   ]
  },
  {
   "cell_type": "code",
   "execution_count": null,
   "id": "7eeb90a5",
   "metadata": {},
   "outputs": [],
   "source": [
    "import pennylane as qml\n",
    "\n",
    "def my_circuit(theta, phi): \n",
    "    ##################\n",
    "    # YOUR CODE HERE #\n",
    "    ##################\n",
    "\n",
    "    # REORDER THESE 5 GATES TO MATCH THE CIRCUIT IN THE PICTURE\n",
    "\n",
    "    qml.CNOT(wires=[0, 1])\n",
    "    qml.RX(theta, wires=2)\n",
    "    qml.Hadamard(wires=0)\n",
    "    qml.CNOT(wires=[2, 0])\n",
    "    qml.RY(phi, wires=1)\n",
    "    # This is the measurement; we return the probabilities of all possible output states\n",
    "    # You'll learn more about what types of measurements are available in a later node\n",
    "    return qml.probs(wires=[0, 1, 2])\n",
    "my_circuit(90,180)"
   ]
  },
  {
   "cell_type": "code",
   "execution_count": null,
   "id": "8f72ea25",
   "metadata": {},
   "outputs": [],
   "source": [
    "#To run any quantum \n",
    "dev = qml.device('default.qubit', wires=['wire_a','wire_b'])\n"
   ]
  },
  {
   "cell_type": "markdown",
   "id": "80b65e02",
   "metadata": {},
   "source": [
    "## Creating QNode"
   ]
  },
  {
   "cell_type": "code",
   "execution_count": null,
   "id": "e853449c",
   "metadata": {},
   "outputs": [],
   "source": [
    "# This creates a device with three wires on which PennyLane can run computations\n",
    "dev = qml.device(\"default.qubit\", wires=3)\n",
    "\n",
    "@qml.qnode(dev)\n",
    "def my_circuit(theta, phi, omega):\n",
    "\n",
    "    ##################\n",
    "    # YOUR CODE HERE #\n",
    "    qml.RX(theta,wires=0)\n",
    "    qml.RY(phi,wires=1)\n",
    "    qml.RZ(omega,wires=2)\n",
    "    qml.CNOT(wires=[0,1])\n",
    "    qml.CNOT(wires=[1,2])\n",
    "    qml.CNOT(wires=[2,0])\n",
    "    ##################\n",
    "\n",
    "    # IMPLEMENT THE CIRCUIT BY ADDING THE GATES\n",
    "\n",
    "    # Here are two examples, so you can see the format:\n",
    "    # qml.CNOT(wires=[0, 1])\n",
    "    # qml.RX(theta, wires=0)\n",
    "    \n",
    "\n",
    "\n",
    "\n",
    "    return qml.probs(wires=[0, 1, 2])\n",
    "\n",
    "\n",
    "# This creates a QNode, binding the function and device\n",
    "my_qnode = qml.QNode(my_circuit, dev)\n",
    "\n",
    "# We set up some values for the input parameters\n",
    "theta, phi, omega = 0.1, 0.2, 0.3\n",
    "\n",
    "# Now we can execute the QNode by calling it like we would a regular function\n",
    "my_qnode(theta, phi, omega)\n"
   ]
  },
  {
   "cell_type": "code",
   "execution_count": null,
   "id": "92b36f50",
   "metadata": {},
   "outputs": [],
   "source": [
    "dev = qml.device(\"default.qubit\", wires=1)\n",
    "\n",
    "U = np.array([[1, 1], [1, -1]]) / np.sqrt(2)\n",
    "\n",
    "@qml.qnode(dev)\n",
    "def apply_u():\n",
    "\n",
    "    ##################\n",
    "    # YOUR CODE HERE #\n",
    "    ##################\n",
    "    qml.QubitUnitary(U,wires=0)\n",
    "    # USE QubitUnitary TO APPLY U TO THE QUBIT\n",
    "    \n",
    "\n",
    "\n",
    "    # Return the state\n",
    "    return qml.state()\n"
   ]
  },
  {
   "cell_type": "code",
   "execution_count": null,
   "id": "bef343df",
   "metadata": {},
   "outputs": [],
   "source": [
    "apply_u()"
   ]
  },
  {
   "cell_type": "code",
   "execution_count": null,
   "id": "629f8c64",
   "metadata": {},
   "outputs": [],
   "source": [
    "dev = qml.device(\"default.qubit\", wires=1)\n",
    "\n",
    "@qml.qnode(dev)\n",
    "def apply_u_as_rot(phi, theta, omega):\n",
    "\n",
    "    ##################\n",
    "    # YOUR CODE HERE #\n",
    "    ##################\n",
    "    qml.Rot(phi, theta, omega,wires = 0)\n",
    "    # APPLY A ROT GATE USING THE PROVIDED INPUT PARAMETERS\n",
    "    \n",
    "    # RETURN THE QUANTUM STATE VECTOR\n",
    "\n",
    "    return qml.state()\n",
    "theta, phi, omega = 0.1, 0.2, 0.3\n",
    "apply_u_as_rot(theta, phi, omega )\n"
   ]
  },
  {
   "cell_type": "code",
   "execution_count": null,
   "id": "ed5003ed",
   "metadata": {},
   "outputs": [],
   "source": [
    "import pennylane as qml\n",
    "dev = qml.device(\"default.qubit\",wires = 1)"
   ]
  },
  {
   "cell_type": "code",
   "execution_count": null,
   "id": "4c44903b",
   "metadata": {},
   "outputs": [],
   "source": [
    "@qml.qnode(dev)\n",
    "def HPH(state):\n",
    "    qml.Hadamard(wires=0)\n",
    "    qml.PauliX(wires=0)\n",
    "    qml.Hadamard(wires=0)\n",
    "    return qml.state()\n",
    "ket_0 = np.array([1,0])\n",
    "ket_1 = np.array([0,1])\n",
    "\n"
   ]
  },
  {
   "cell_type": "code",
   "execution_count": null,
   "id": "9a2e39a1",
   "metadata": {},
   "outputs": [],
   "source": [
    "print(HPH(ket_0).real,ket_0)\n",
    "print(HPH(ket_1).real,ket_1)"
   ]
  },
  {
   "cell_type": "code",
   "execution_count": null,
   "id": "582e8a63",
   "metadata": {},
   "outputs": [],
   "source": [
    "@qml.qnode(dev)\n",
    "def apply_Z_to_plus():\n",
    "    ket_0 = np.array([1,0])\n",
    "    qml.Hadamard(wires = 0)\n",
    "    qml.PauliZ(wires = 0)\n",
    "    return qml.state()\n",
    "apply_Z_to_plus()"
   ]
  },
  {
   "cell_type": "code",
   "execution_count": null,
   "id": "0f7c199d",
   "metadata": {},
   "outputs": [],
   "source": [
    "#Using RZ gate to obtain same effect on |+>\n",
    "dev = qml.device(\"default.qubit\",wires = 1)\n",
    "@qml.qnode(dev)\n",
    "def fake_z():\n",
    "    qml.Hadamard(wires = 0)\n",
    "    qml.RZ(np.pi,wires = 0)\n",
    "    return qml.state()\n",
    "    "
   ]
  },
  {
   "cell_type": "code",
   "execution_count": null,
   "id": "613c2c8f",
   "metadata": {},
   "outputs": [],
   "source": [
    "fake_z()"
   ]
  },
  {
   "cell_type": "code",
   "execution_count": null,
   "id": "d0db4683",
   "metadata": {},
   "outputs": [],
   "source": [
    "dev = qml.device(\"default.qubit\", wires=1)\n",
    "\n",
    "@qml.qnode(dev)\n",
    "def many_rotations():\n",
    "    \"\"\"Implement the circuit depicted above and return the quantum state.\n",
    "\n",
    "    Returns:\n",
    "        array[complex]: The state of the qubit after the operations.\n",
    "    \"\"\"\n",
    "\n",
    "    ##################\n",
    "    # YOUR CODE HERE #\n",
    "    ##################\n",
    "    qml.Hadamard(wires = 0 )\n",
    "    qml.S(wires=0)\n",
    "    # qml.T(wires = 0)\n",
    "    qml.adjoint(qml.T)(wires = 0)\n",
    "    qml.RZ(0.3,wires = 0)\n",
    "    # qml.S(wires = 0)\n",
    "    qml.adjoint(qml.S)(wires = 0)\n",
    "    return qml.state()\n",
    "    # IMPLEMENT THE CIRCUIT\n",
    "\n",
    "    # RETURN THE STATE\n",
    "\n",
    "\n",
    "many_rotations()"
   ]
  },
  {
   "cell_type": "code",
   "execution_count": null,
   "metadata": {},
   "outputs": [],
   "source": [
    "import pennylane as qml\n",
    "dev = qml.device('default.qubit',wires = 3)\n",
    "qml.qnode(dev)\n",
    "def just_enough():\n",
    "    qml.Hadamard(wires=0)\n",
    "    qml.Hadamard(wires=1)\n",
    "    qml.Hadamard(wires=2)\n",
    "    qml.S(wires=0)\n",
    "    qml.Hadamard(wires = 0)\n",
    "    qml.adjoint(qml.S)(wires = 0)\n",
    "    qml.Hadamard(wires=0)\n",
    "    qml.T(wires=1)\n",
    "    qml.Hadamard(wires=1)\n",
    "    qml.PauliZ(wires=1)\n",
    "    qml.Hadamard(wires=1)\n",
    "    qml.adjoint(qml.T)(wires=2)\n",
    "    qml.Hadamard(wires=2)\n",
    "    qml.adjoint(qml.S)(wires=2)\n",
    "    qml.adjoint(qml.T)(wires = 2)\n",
    "    qml.Hadamard(wires=2)\n",
    "    return qml.probs(wires=[0,1,2])"
   ]
  },
  {
   "cell_type": "code",
   "execution_count": 2,
   "id": "96150130",
   "metadata": {},
   "outputs": [],
   "source": [
    "#March 22\n",
    "import pennylane as qml\n",
    "import numpy as np\n",
    "import matplotlib.pyplot as plt"
   ]
  },
  {
   "cell_type": "code",
   "execution_count": 3,
   "id": "281f5e95",
   "metadata": {},
   "outputs": [],
   "source": [
    "dev = qml.device('default.qubit',wires=1)"
   ]
  },
  {
   "cell_type": "code",
   "execution_count": 4,
   "id": "89c28cb1",
   "metadata": {},
   "outputs": [],
   "source": [
    "''' Write a QNode that applies qml.RX with an angle of  π to one of the computational basis states. What operation is this? '''\n",
    "@qml.qnode(dev)\n",
    "def apply_rx_pi(states):\n",
    "    if states == 1:\n",
    "        qml.X(wires=0)\n",
    "    qml.RX(np.pi,wires=0)\n",
    "    return qml.state()\n",
    "ans = apply_rx_pi(1)\n"
   ]
  },
  {
   "cell_type": "code",
   "execution_count": 62,
   "id": "e21b5d1a",
   "metadata": {},
   "outputs": [],
   "source": [
    "dev = qml.device('default.qubit', wires=1)\n",
    "\n",
    "@qml.qnode(dev)\n",
    "def apply_rx(theta, state):\n",
    "    \"\"\"Apply an RX gate with an angle of theta to a particular basis state.\n",
    "    \n",
    "    Args:\n",
    "        theta (float): A rotation angle.\n",
    "        state (int): Either 0 or 1. If 1, initialize the qubit to state |1>\n",
    "            before applying other operations.\n",
    "    \n",
    "    Returns:\n",
    "        array[complex]: The state of the qubit after the operations.\n",
    "    \"\"\"\n",
    "    if state == 1:\n",
    "        qml.PauliX(wires=0)\n",
    "\n",
    "    ##################\n",
    "    # YOUR CODE HERE #\n",
    "    ##################\n",
    "\n",
    "    # APPLY RX(theta) AND RETURN THE STATE\n",
    "    qml.RX(theta,wires = 0)\n",
    "    return qml.state()\n",
    "\n",
    "# Code for plotting\n",
    "angles = np.linspace(0, 4*np.pi, 200)\n",
    "output_states = np.array([apply_rx(t, 0) for t in angles])\n",
    "\n",
    "\n"
   ]
  },
  {
   "cell_type": "code",
   "execution_count": 61,
   "id": "01eb3049",
   "metadata": {},
   "outputs": [],
   "source": [
    "dev = qml.device('default.qubit', wires=1)\n",
    "\n",
    "@qml.qnode(dev)\n",
    "def apply_ry(theta, state):\n",
    "    \"\"\"Apply an RY gate with an angle of theta to a particular basis state.\n",
    "    \n",
    "    Args:\n",
    "        theta (float): A rotation angle.\n",
    "        state (int): Either 0 or 1. If 1, initialize the qubit to state |1>\n",
    "            before applying other operations.\n",
    "    \n",
    "    Returns:\n",
    "        array[complex]: The state of the qubit after the operations.\n",
    "    \"\"\"\n",
    "    if state == 1:\n",
    "        qml.PauliX(wires=0)\n",
    "\n",
    "    ##################\n",
    "    # YOUR CODE HERE #\n",
    "    ##################\n",
    "    qml.RY(theta,wires = 0)\n",
    "    return qml.state()\n",
    "    # APPLY RY(theta) AND RETURN THE STATE\n",
    "\n",
    "    return\n",
    "\n",
    "# Code for plotting\n",
    "# angles_Y = np.linspace(0, 4*np.pi, 200)\n",
    "output_states_Y= np.array([apply_ry(t, 0) for t in angles])\n",
    "\n"
   ]
  },
  {
   "cell_type": "code",
   "execution_count": 73,
   "id": "bcc0a109",
   "metadata": {},
   "outputs": [
    {
     "name": "stderr",
     "output_type": "stream",
     "text": [
      "/Users/bikramkhanal/miniforge3/envs/pythonDatastructure/lib/python3.9/site-packages/matplotlib/cbook/__init__.py:1298: ComplexWarning: Casting complex values to real discards the imaginary part\n",
      "  return np.asarray(x, float)\n",
      "/Users/bikramkhanal/miniforge3/envs/pythonDatastructure/lib/python3.9/site-packages/matplotlib/cbook/__init__.py:1298: ComplexWarning: Casting complex values to real discards the imaginary part\n",
      "  return np.asarray(x, float)\n"
     ]
    },
    {
     "data": {
      "image/png": "[encoded data removed]",
      "text/plain": [
       "<Figure size 432x288 with 1 Axes>"
      ]
     },
     "metadata": {
      "needs_background": "light"
     },
     "output_type": "display_data"
    }
   ],
   "source": [
    "plt.plot(angles,output_states)\n",
    "plt.plot(angles,output_states_Y)\n",
    "plt.show()"
   ]
  },
  {
   "cell_type": "code",
   "execution_count": 79,
   "id": "1456fedc",
   "metadata": {},
   "outputs": [
    {
     "name": "stdout",
     "output_type": "stream",
     "text": [
      "[-0.5+0.5j  0.5-0.5j]\n"
     ]
    }
   ],
   "source": [
    "dev = qml.device(\"default.qubit\", wires=1)\n",
    "\n",
    "##################\n",
    "# YOUR CODE HERE #\n",
    "##################\n",
    "\n",
    "# ADJUST THE VALUES OF PHI, THETA, AND OMEGA\n",
    "phi, theta, omega = 0, np.pi/2, np.pi/2\n",
    "\n",
    "@qml.qnode(dev)\n",
    "def hadamard_with_rz_rx():\n",
    "    qml.RZ(np.pi, wires=0)\n",
    "    qml.RX(1/2 * np.pi, wires=0)\n",
    "    qml.RZ(3/2 * np.pi, wires=0)\n",
    "    return qml.state()\n",
    "print(hadamard_with_rz_rx())\n"
   ]
  },
  {
   "cell_type": "code",
   "execution_count": 93,
   "id": "8d87c64c",
   "metadata": {},
   "outputs": [
    {
     "data": {
      "text/plain": [
       "tensor([0.5-0.5j       , 0. +0.70710678j], requires_grad=True)"
      ]
     },
     "execution_count": 93,
     "metadata": {},
     "output_type": "execute_result"
    }
   ],
   "source": [
    "'''\n",
    "We have |0> ---H---S---T*----Y---\n",
    "'''\n",
    "dev = qml.device('default.qubit',wires = 1)\n",
    "@qml.qnode(dev)\n",
    "def convert_to_rz_rz():\n",
    "    qml.Hadamard(wires=0)\n",
    "    qml.S(wires=0)\n",
    "    qml.adjoint(qml.T)(wires = 0)\n",
    "    qml.PauliY(wires=0)\n",
    "    return qml.state()\n",
    "convert_to_rz_rz()\n"
   ]
  },
  {
   "cell_type": "code",
   "execution_count": 94,
   "id": "276974c7",
   "metadata": {},
   "outputs": [
    {
     "data": {
      "text/plain": [
       "tensor([-0.27059805+0.65328148j, -0.27059805-0.65328148j], requires_grad=True)"
      ]
     },
     "execution_count": 94,
     "metadata": {},
     "output_type": "execute_result"
    }
   ],
   "source": [
    "'''\n",
    "We have |0> ---H---S---T*----Y---\n",
    "'''\n",
    "phi, theta, omega =np.pi/2 , np.pi/2, np.pi/2\n",
    "dev = qml.device('default.qubit',wires = 1)\n",
    "@qml.qnode(dev)\n",
    "def convert_to_rz_rz():\n",
    "    # IMPLEMENT THE CIRCUIT IN THE PICTURE USING ONLY RZ AND RX\n",
    "    qml.RZ(np.pi/2, wires=0)\n",
    "    qml.RX(np.pi/2, wires=0)\n",
    "    qml.RZ(np.pi/2, wires=0)\n",
    "    qml.RZ(np.pi/2, wires=0)\n",
    "    qml.adjoint(qml.RZ)(np.pi/4,wires = 0)\n",
    "    qml.RX(np.pi,wires= 0 )\n",
    "    qml.RZ(np.pi,wires = 0)\n",
    "    return qml.state()\n",
    "convert_to_rz_rz()\n"
   ]
  },
  {
   "cell_type": "code",
   "execution_count": 105,
   "id": "afa07a3a",
   "metadata": {},
   "outputs": [
    {
     "name": "stdout",
     "output_type": "stream",
     "text": [
      "Direct S:  [1.+0.j 0.+0.j]\n",
      "Direct T:  [1.+0.j 0.+0.j]\n",
      "Rotate Z by 90 for S: [0.70710678+0.70710678j 0.        +0.j        ]\n",
      "Rotate Z by 45 for T: [0.92387953-0.38268343j 0.        +0.j        ]\n"
     ]
    }
   ],
   "source": [
    "@qml.qnode(dev)\n",
    "def check_s_and_t():\n",
    "    qml.S(wires = 0)\n",
    "    return qml.state()\n",
    "print(\"Direct S: \",check_s_and_t())\n",
    "\n",
    "@qml.qnode(dev)\n",
    "def check_s_and_t():\n",
    "    qml.T(wires = 0)\n",
    "    return qml.state()\n",
    "print(\"Direct T: \",check_s_and_t())\n",
    "\n",
    "@qml.qnode(dev)\n",
    "def check_s_and_t():\n",
    "    qml.RZ(-np.pi/2,wires = 0)\n",
    "    return qml.state()\n",
    "print(\"Rotate Z by 90 for S:\",check_s_and_t())\n",
    "\n",
    "@qml.qnode(dev)\n",
    "def check_s_and_t():\n",
    "    qml.RZ(np.pi/4,wires = 0)\n",
    "    return qml.state()\n",
    "print(\"Rotate Z by 45 for T:\",check_s_and_t())"
   ]
  },
  {
   "cell_type": "code",
   "execution_count": 106,
   "id": "22a6af7c",
   "metadata": {},
   "outputs": [
    {
     "data": {
      "text/plain": [
       "tensor([0.85355339+0.35355339j, 0.35355339+0.14644661j], requires_grad=True)"
      ]
     },
     "execution_count": 106,
     "metadata": {},
     "output_type": "execute_result"
    }
   ],
   "source": [
    "'''\n",
    "given U = (1/sqrt(2))^3[[[1 + T + i(1-T)],[1 - T + i(1+T)]],\n",
    "           [[1 + T - i(1-T)],[1 - T - i(1+T)]]]\n",
    "where T = e^(ipi/4)\n",
    "Obtain above gate using H and T gates.\n",
    "'''\n",
    "@qml.qnode(dev)\n",
    "def U_from_H_and_T():\n",
    "    qml.Hadamard(wires = 0)\n",
    "    qml.T(wires=0)\n",
    "    qml.Hadamard(wires=0)\n",
    "    qml.T(wires=0)\n",
    "    qml.T(wires=0)\n",
    "    qml.Hadamard(wires=0)\n",
    "    return qml.state()\n",
    "U_from_H_and_T()\n",
    "\n",
    "\n"
   ]
  },
  {
   "cell_type": "code",
   "execution_count": 107,
   "id": "9e7bbc39",
   "metadata": {},
   "outputs": [
    {
     "name": "stdout",
     "output_type": "stream",
     "text": [
      "[0.49365933-0.24166034j 0.75032489+0.36730546j]\n",
      "\n",
      "0: ──MottonenStatePreparation(M0)─┤  State\n"
     ]
    }
   ],
   "source": [
    "v = np.array([0.52889389-0.14956775j, 0.67262317+0.49545818j])\n",
    "\n",
    "##################\n",
    "# YOUR CODE HERE #\n",
    "##################\n",
    "\n",
    "# CREATE A DEVICE\n",
    "\n",
    "\n",
    "# CONSTRUCT A QNODE THAT USES qml.MottonenStatePreparation\n",
    "# TO PREPARE A QUBIT IN STATE V, AND RETURN THE STATE\n",
    "dev = qml.device(\"default.qubit\",wires = 1)\n",
    "@qml.qnode(dev)\n",
    "def prepare_state(state=v):\n",
    "    qml.MottonenStatePreparation(v,wires = 0)\n",
    "    return qml.state()\n",
    "\n",
    "# This will draw the quantum circuit and allow you to inspect the output gates\n",
    "print(prepare_state(v))\n",
    "print()\n",
    "print(qml.draw(prepare_state)(v))\n"
   ]
  },
  {
   "cell_type": "code",
   "execution_count": 1,
   "id": "a652bec8",
   "metadata": {},
   "outputs": [
    {
     "name": "stdout",
     "output_type": "stream",
     "text": [
      "[0.5 0.5]\n",
      "[0.5 0.5]\n"
     ]
    }
   ],
   "source": [
    "import pennylane as qml\n",
    "import numpy as np\n",
    "dev = qml.device(\"default.qubit\", wires=1)\n",
    "\n",
    "@qml.qnode(dev)\n",
    "def apply_h_and_measure(state):\n",
    "    \"\"\"Complete the function such that we apply the Hadamard gate\n",
    "    and measure in the computational basis.\n",
    "    \n",
    "    Args:\n",
    "        state (int): Either 0 or 1. If 1, prepare the qubit in state |1>,\n",
    "            otherwise leave it in state 0.\n",
    "    Returns:\n",
    "        array[float]: The measurement outcome probabilities.\n",
    "    \"\"\"\n",
    "    if state == 1:\n",
    "        qml.PauliX(wires=0)\n",
    "\n",
    "    ##################\n",
    "    # YOUR CODE HERE #\n",
    "    ##################\n",
    "    qml.Hadamard(wires = 0)\n",
    "    return qml.probs(wires = 0)\n",
    "    # APPLY HADAMARD AND MEASURE\n",
    "\n",
    "    return\n",
    "\n",
    "print(apply_h_and_measure(0))\n",
    "print(apply_h_and_measure(1))\n"
   ]
  },
  {
   "cell_type": "code",
   "execution_count": 4,
   "id": "b9bceef0",
   "metadata": {},
   "outputs": [],
   "source": [
    "# WRITE A QUANTUM FUNCTION THAT PREPARES (1/2)|0> + i(sqrt(3)/2)|1>\n",
    "def prepare_psi():\n",
    "    qml.RX(np.pi * 2/3,wires = 0)\n",
    "    qml.RZ(np.pi,wires = 0)\n",
    "\n",
    "\n",
    "\n",
    "# WRITE A QUANTUM FUNCTION THAT SENDS BOTH |0> TO |y_+> and |1> TO |y_->\n",
    "def y_basis_rotation():\n",
    "    qml.Hadamard(wires = 0)\n",
    "    qml.RZ(np.pi/2,wires = 0)"
   ]
  },
  {
   "cell_type": "code",
   "execution_count": 7,
   "id": "8587a257",
   "metadata": {},
   "outputs": [
    {
     "name": "stdout",
     "output_type": "stream",
     "text": [
      "[0.9330127 0.0669873]\n"
     ]
    }
   ],
   "source": [
    "'''\n",
    " Now that we know how to produce the two basis states, we can perform a measurement in that basis.\n",
    "  To do so, we must apply the adjoint of these operations to rotate back from that basis to the computational one.\n",
    "   Using your quantum function from the previous exercise, perform the basis rotation and return determine the measurement outcome probabilities.\n",
    "'''\n",
    "dev = qml.device(\"default.qubit\", wires=1)\n",
    "\n",
    "@qml.qnode(dev)\n",
    "def measure_in_y_basis():\n",
    "    ##################\n",
    "    # YOUR CODE HERE #\n",
    "    ##################\n",
    "    \n",
    "    # PREPARE THE STATE\n",
    "    prepare_psi()\n",
    "    qml.adjoint(y_basis_rotation)()\n",
    "    \n",
    "\n",
    "    # PERFORM THE ROTATION BACK TO COMPUTATIONAL BASIS\n",
    "    # qml.adjoint(qml.RZ)(np.pi *3/2,wires = 0)\n",
    "    # RETURN THE MEASUREMENT OUTCOME PROBABILITIES\n",
    "    return qml.probs(wires = 0)\n",
    "    return \n",
    "print(measure_in_y_basis())\n"
   ]
  },
  {
   "cell_type": "markdown",
   "id": "605aeefc",
   "metadata": {},
   "source": [
    "# Observation\n",
    "Given a matrix and state, calculate the observation.\\\n",
    "XANADU 10\n",
    "\n"
   ]
  },
  {
   "cell_type": "code",
   "execution_count": 4,
   "id": "f2216cc1",
   "metadata": {},
   "outputs": [
    {
     "data": {
      "text/plain": [
       "array([-0.56155281+0.j,  3.56155281+0.j])"
      ]
     },
     "execution_count": 4,
     "metadata": {},
     "output_type": "execute_result"
    }
   ],
   "source": [
    "B = [[1,-2j],[2j,2]]\n",
    "eigen_val = np.linalg.eigvals(B)\n",
    "eigen_val"
   ]
  },
  {
   "cell_type": "code",
   "execution_count": 6,
   "id": "baf85786",
   "metadata": {},
   "outputs": [
    {
     "name": "stdout",
     "output_type": "stream",
     "text": [
      "0.5615528128088303 -3.5615528128088303\n"
     ]
    }
   ],
   "source": [
    "x1 = (-3+np.sqrt(17))/2\n",
    "x2 = (-3-np.sqrt(17))/2\n",
    "print(x1,x2)"
   ]
  },
  {
   "cell_type": "code",
   "execution_count": 9,
   "id": "b0c3647f",
   "metadata": {},
   "outputs": [
    {
     "name": "stdout",
     "output_type": "stream",
     "text": [
      "0.6400000000000001 (0.36-0j)\n",
      "(1+0j)\n"
     ]
    }
   ],
   "source": [
    "ket_0 = 4/5\n",
    "ket_1 = - 3/5 * np.exp(0j*np.pi/3)\n",
    "ket_P = np.power(ket_1,2)\n",
    "ket_f = np.power(ket_0,2)\n",
    "print(ket_f,ket_P)\n",
    "print(ket_f+ket_P)"
   ]
  },
  {
   "cell_type": "code",
   "execution_count": 12,
   "id": "5a03f0bb",
   "metadata": {},
   "outputs": [
    {
     "data": {
      "text/plain": [
       "(0.9227652124135276+0j)"
      ]
     },
     "execution_count": 12,
     "metadata": {},
     "output_type": "execute_result"
    }
   ],
   "source": [
    "exp_B = ket_f*eigen_val[0] + ket_P* eigen_val[1]\n",
    "exp_B"
   ]
  },
  {
   "cell_type": "code",
   "execution_count": 27,
   "id": "5c79c047",
   "metadata": {},
   "outputs": [
    {
     "data": {
      "text/plain": [
       "(1.36-5.329070518200751e-17j)"
      ]
     },
     "execution_count": 27,
     "metadata": {},
     "output_type": "execute_result"
    }
   ],
   "source": [
    "psi = np.asarray([ket_0,ket_1])\n",
    "np.dot(psi.conj(),np.dot(B,psi))\n"
   ]
  },
  {
   "cell_type": "code",
   "execution_count": 29,
   "id": "57f58e60",
   "metadata": {},
   "outputs": [
    {
     "name": "stdout",
     "output_type": "stream",
     "text": [
      "[ 0.8-0.j -0.6-0.j] [[1, (-0-2j)], [2j, 2]] [ 0.8+0.j -0.6+0.j]\n"
     ]
    }
   ],
   "source": [
    "print(psi.conj(),B,psi)"
   ]
  },
  {
   "cell_type": "code",
   "execution_count": 30,
   "id": "c5c24182",
   "metadata": {},
   "outputs": [
    {
     "data": {
      "text/plain": [
       "0.9238795325112867"
      ]
     },
     "execution_count": 30,
     "metadata": {},
     "output_type": "execute_result"
    }
   ],
   "source": [
    "np.cos(np.pi/8)"
   ]
  },
  {
   "cell_type": "code",
   "execution_count": 36,
   "id": "27b13b11",
   "metadata": {},
   "outputs": [
    {
     "name": "stdout",
     "output_type": "stream",
     "text": [
      "-0.7071067811865471\n"
     ]
    }
   ],
   "source": [
    "'''\n",
    "The Circuit is |0> R_x(pi/4),H,Z and measure on Y basis\n",
    "'''\n",
    "dev = qml.device('default.qubit',wires  = 1)\n",
    "@qml.qnode(dev)\n",
    "def fun():\n",
    "    qml.RX(np.pi/4,wires = 0)\n",
    "    qml.Hadamard(wires = 0)\n",
    "    qml.PauliZ(wires = 0)\n",
    "    return qml.expval(qml.PauliY(0))\n",
    "print(fun())\n"
   ]
  },
  {
   "cell_type": "code",
   "execution_count": 37,
   "id": "d1dbef1e",
   "metadata": {},
   "outputs": [
    {
     "name": "stdout",
     "output_type": "stream",
     "text": [
      "5.828427124746187\n"
     ]
    }
   ],
   "source": [
    "#Custom Observable\n",
    "O = np.array([[3, 4j], [-4j, 3]])\n",
    "@qml.qnode(dev)\n",
    "def fun():\n",
    "    qml.RX(np.pi/4,wires = 0)\n",
    "    qml.Hadamard(wires = 0)\n",
    "    qml.PauliZ(wires = 0)\n",
    "    return qml.expval(qml.Hermitian(O,wires=0))\n",
    "print(fun())\n",
    "\n"
   ]
  },
  {
   "cell_type": "code",
   "execution_count": 50,
   "id": "9293181f",
   "metadata": {},
   "outputs": [
    {
     "name": "stdout",
     "output_type": "stream",
     "text": [
      "[-0.74, -0.668, -0.703, -0.7107, -0.706732]\n"
     ]
    }
   ],
   "source": [
    "# An array to store your results\n",
    "shot_results = []\n",
    "\n",
    "# Different numbers of shots\n",
    "shot_values = [100, 1000, 10000, 100000, 1000000]\n",
    "\n",
    "for shots in shot_values: \n",
    "    ##################\n",
    "    # YOUR CODE HERE #\n",
    "    ##################\n",
    "    dev = qml.device(\"default.qubit\",wires = 1,shots = shots)\n",
    "    @qml.qnode(dev)\n",
    "    def circuit():\n",
    "        qml.RX(np.pi/4,wires = 0)\n",
    "        qml.Hadamard(wires = 0)\n",
    "        qml.PauliZ(wires = 0)\n",
    "        return qml.expval(qml.PauliY(0))\n",
    "    shot_results.append(circuit())\n",
    "\n",
    "    # CREATE A DEVICE, CREATE A QNODE, AND RUN IT\n",
    "\n",
    "    # STORE RESULT IN SHOT_RESULTS ARRAY\n",
    "    \n",
    "\n",
    "\n",
    "print(qml.math.unwrap(shot_results))\n"
   ]
  },
  {
   "cell_type": "code",
   "execution_count": 53,
   "id": "6343ef23",
   "metadata": {},
   "outputs": [
    {
     "name": "stdout",
     "output_type": "stream",
     "text": [
      "(tensor([-1,  1], requires_grad=True), array([80, 20]))\n",
      "(tensor([-1,  1], requires_grad=True), array([845, 155]))\n",
      "(tensor([-1,  1], requires_grad=True), array([8508, 1492]))\n",
      "(tensor([-1,  1], requires_grad=True), array([85260, 14740]))\n",
      "(tensor([-1,  1], requires_grad=True), array([853460, 146540]))\n"
     ]
    }
   ],
   "source": [
    "# An array to store your results\n",
    "shot_results = []\n",
    "\n",
    "# Different numbers of shots\n",
    "shot_values = [100, 1000, 10000, 100000, 1000000]\n",
    "\n",
    "for shots in shot_values: \n",
    "    ##################\n",
    "    # YOUR CODE HERE #\n",
    "    ##################\n",
    "    dev = qml.device(\"default.qubit\",wires = 1,shots = shots)\n",
    "    @qml.qnode(dev)\n",
    "    def circuit():\n",
    "        qml.RX(np.pi/4,wires = 0)\n",
    "        qml.Hadamard(wires = 0)\n",
    "        qml.PauliZ(wires = 0)\n",
    "        return qml.sample(qml.PauliY(0))\n",
    "    uq = np.unique(circuit(),return_counts=True)\n",
    "    print(uq)\n"
   ]
  },
  {
   "cell_type": "code",
   "execution_count": 66,
   "id": "af01177d",
   "metadata": {},
   "outputs": [
    {
     "name": "stdout",
     "output_type": "stream",
     "text": [
      "[ 1 -1  1 ... -1 -1 -1]\n",
      "[-1  1] [85362 14638]\n"
     ]
    }
   ],
   "source": [
    "dev = qml.device(\"default.qubit\",wires = 1,shots = 100000)\n",
    "@qml.qnode(dev)\n",
    "def circuit():\n",
    "    qml.RX(np.pi/4,wires = 0)\n",
    "    qml.Hadamard(wires = 0)\n",
    "    qml.PauliZ(wires = 0)\n",
    "    return qml.sample(qml.PauliY(0))\n",
    "outputs_ = circuit()\n",
    "print(outputs_)\n",
    "uq = np.unique(outputs_,return_counts=True)\n",
    "print(uq[0],uq[1])\n"
   ]
  },
  {
   "cell_type": "code",
   "execution_count": 69,
   "id": "4d353467",
   "metadata": {},
   "outputs": [
    {
     "name": "stdout",
     "output_type": "stream",
     "text": [
      "-0.7109\n"
     ]
    }
   ],
   "source": [
    "dev = qml.device(\"default.qubit\", wires=1, shots=100000)\n",
    "\n",
    "@qml.qnode(dev)\n",
    "def circuit():\n",
    "    qml.RX(np.pi/4, wires=0)\n",
    "    qml.Hadamard(wires=0)\n",
    "    qml.PauliZ(wires=0)\n",
    "\n",
    "    ##################\n",
    "    # YOUR CODE HERE #\n",
    "    ##################\n",
    "\n",
    "    # RETURN THE MEASUREMENT SAMPLES OF THE CORRECT OBSERVABLE\n",
    "\n",
    "    return qml.sample(qml.PauliY(wires = 0))\n",
    "\n",
    "\n",
    "def compute_expval_from_samples(samples):\n",
    "    \"\"\"Compute the expectation value of an observable given a set of \n",
    "    sample outputs. You can assume that there are two possible outcomes,\n",
    "    1 and -1. \n",
    "    \n",
    "    Args: \n",
    "        samples (array[float]): 100000 samples representing the results of\n",
    "            running the above circuit.\n",
    "        \n",
    "    Returns:\n",
    "        float: the expectation value computed based on samples.\n",
    "    \"\"\"\n",
    "\n",
    "    estimated_expval = 0\n",
    "\n",
    "    ##################\n",
    "    # YOUR CODE HERE #\n",
    "    ##################\n",
    "    counts_ = np.unique(samples,return_counts = True)\n",
    "    estimated_expval = (counts_[0][0] * counts_[1][0] + counts_[0][1] * counts_[1][1] )/len(samples)\n",
    "\n",
    "    # USE THE SAMPLES TO ESTIMATE THE EXPECTATION VALUE\n",
    "\n",
    "    return estimated_expval\n",
    "\n",
    "\n",
    "samples = circuit()\n",
    "print(compute_expval_from_samples(samples))\n"
   ]
  },
  {
   "cell_type": "code",
   "execution_count": 150,
   "id": "325eb851",
   "metadata": {},
   "outputs": [
    {
     "data": {
      "image/png": "[encoded data removed]",
      "text/plain": [
       "<Figure size 432x288 with 1 Axes>"
      ]
     },
     "metadata": {
      "needs_background": "light"
     },
     "output_type": "display_data"
    }
   ],
   "source": [
    "def variance_experiment(n_shots):\n",
    "    \"\"\"Run an experiment to determine the variance in an expectation\n",
    "    value computed with a given number of shots.\n",
    "    \n",
    "    Args:\n",
    "        n_shots (int): The number of shots\n",
    "        \n",
    "    Returns:\n",
    "        float: The variance in expectation value we obtain running the \n",
    "        circuit 100 times with n_shots shots each.\n",
    "    \"\"\"\n",
    "\n",
    "    # To obtain a variance, we run the circuit multiple times at each shot value.\n",
    "    n_trials = 20\n",
    "    dev = qml.device('default.qubit',wires = 1,shots = n_shots)\n",
    "    @qml.qnode(dev)\n",
    "    def circuit():\n",
    "        qml.Hadamard(wires=0)\n",
    "        return qml.expval(qml.PauliZ(wires=0))\n",
    "    answer = []\n",
    "    for i in range(n_trials):\n",
    "        answer.append(circuit())\n",
    "\n",
    "    # RUN THE QNODE N_TRIALS TIMES AND RETURN THE VARIANCE OF THE RESULTS\n",
    "\n",
    "    return np.var(answer)\n",
    "\n",
    "def variance_scaling(n_shots):\n",
    "    \"\"\"Once you have determined how the variance in expectation value scales\n",
    "    with the number of shots, complete this function to programmatically\n",
    "    represent the relationship.\n",
    "    \n",
    "    Args:\n",
    "        n_shots (int): The number of shots\n",
    "        \n",
    "    Returns:\n",
    "        float: The variance in expectation value we expect to see when we run\n",
    "        an experiment with n_shots shots.\n",
    "    \"\"\"\n",
    "    \n",
    "\n",
    "    estimated_variance = 1.0\n",
    "\n",
    "    ##################\n",
    "    # YOUR CODE HERE #\n",
    "    ##################\n",
    "    \n",
    "    # ESTIMATE THE VARIANCE BASED ON SHOT NUMBER\n",
    "\n",
    "    return estimated_variance/n_shots\n",
    "\n",
    "# Various numbers of shots; you can change this\n",
    "# shot_vals = [10, 20, 30, 100, 200, 400, 1000, 2000, 4000,10000,25000]\n",
    "shot_vals = [i for i in range(10,500,10)]\n",
    "\n",
    "# Used to plot your results\n",
    "results_experiment = [variance_experiment(shots) for shots in shot_vals]\n",
    "results_scaling = [variance_scaling(shots) for shots in shot_vals]\n",
    "# plot = plotter(shot_vals, results_experiment, results_scaling)\n",
    "plt.scatter(shot_vals, results_experiment,label = \"Experiment\")\n",
    "plt.scatter(shot_vals, results_scaling,label = \"Automate Function\")\n",
    "plt.xlabel(\"No of shots\")\n",
    "plt.ylabel(\"Variance\")\n",
    "plt.legend()\n",
    "plt.show()\n"
   ]
  },
  {
   "cell_type": "code",
   "execution_count": null,
   "id": "7607abae",
   "metadata": {},
   "outputs": [],
   "source": []
  }
 ],
 "metadata": {
  "kernelspec": {
   "display_name": "Python 3",
   "language": "python",
   "name": "python3"
  },
  "language_info": {
   "codemirror_mode": {
    "name": "ipython",
    "version": 3
   },
   "file_extension": ".py",
   "mimetype": "text/x-python",
   "name": "python",
   "nbconvert_exporter": "python",
   "pygments_lexer": "ipython3",
   "version": "3.9.7"
  }
 },
 "nbformat": 4,
 "nbformat_minor": 5
}
