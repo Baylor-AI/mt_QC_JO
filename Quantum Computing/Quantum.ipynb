{
 "cells": [
  {
   "cell_type": "code",
   "execution_count": null,
   "id": "799f5ddd",
   "metadata": {},
   "outputs": [],
   "source": [
    "import math\n",
    "import numpy as np"
   ]
  },
  {
   "cell_type": "code",
   "execution_count": null,
   "id": "f4db029e",
   "metadata": {},
   "outputs": [],
   "source": [
    "0.8/math.sqrt(2)"
   ]
  },
  {
   "cell_type": "code",
   "execution_count": null,
   "id": "d049e08f",
   "metadata": {},
   "outputs": [],
   "source": [
    "state_1 = np.array([0.8, 0.6])\n",
    "state_2 = np.array([1 / np.sqrt(2), 1j / np.sqrt(2)]) \n",
    "print(state_1)\n",
    "print(state_2)"
   ]
  },
  {
   "cell_type": "code",
   "execution_count": null,
   "id": "745f7a1f",
   "metadata": {},
   "outputs": [],
   "source": [
    "np.dot(np.conj(state_2),state_1)"
   ]
  },
  {
   "cell_type": "code",
   "execution_count": null,
   "id": "b2e244e4",
   "metadata": {},
   "outputs": [],
   "source": [
    "np.dot(np.conj(state_1),state_2)"
   ]
  },
  {
   "cell_type": "code",
   "execution_count": null,
   "id": "4a9924ae",
   "metadata": {},
   "outputs": [],
   "source": [
    "print(state_2)\n",
    "print(np.conj(state_2))\n",
    "print(np.conjugate(state_2))"
   ]
  },
  {
   "cell_type": "code",
   "execution_count": null,
   "id": "2fd0fb0a",
   "metadata": {},
   "outputs": [],
   "source": [
    "State = np.array([1 / np.sqrt(2), 1j / np.sqrt(2)])\n",
    "def measure_state(state, num_meas=10):\n",
    "    x_prob = state[0] * np.conj(state[0])\n",
    "    x_prob = x_prob.real\n",
    "    y_prob = state[1] * np.conj(state[1])\n",
    "    y_prob = y_prob.real\n",
    "    choice_ = [0,1]\n",
    "    arr = np.random.choice(choice_,num_meas,p=[x_prob,y_prob])\n",
    "    return arr\n",
    "measure_state(State)"
   ]
  },
  {
   "cell_type": "code",
   "execution_count": null,
   "id": "a50e0a4f",
   "metadata": {},
   "outputs": [],
   "source": [
    "np.square(0.8) + np.square(0.6)"
   ]
  },
  {
   "cell_type": "code",
   "execution_count": null,
   "id": "40027d45",
   "metadata": {},
   "outputs": [],
   "source": [
    "1j * 1j"
   ]
  },
  {
   "cell_type": "code",
   "execution_count": null,
   "id": "778d12e7",
   "metadata": {},
   "outputs": [],
   "source": [
    "ket_0 = np.array([1, 0])\n",
    "ket_1 = np.array([0, 1])\n",
    "H = [[1/np.sqrt(2),1/np.sqrt(2)],\n",
    "                 [1/np.sqrt(2),-1/np.sqrt(2)]]\n",
    "\n",
    "T = [[1,0],[0,np.exp(1j * np.pi/4)]]\n",
    "S = [[1,0],[0,-1]]\n",
    "Z = [[1,0],[0,-1]]\n",
    "Y = [[0,-1j],[1j,0]]\n",
    "X = [[0,1],[1,0]]\n"
   ]
  },
  {
   "cell_type": "code",
   "execution_count": null,
   "id": "d812f5ef",
   "metadata": {},
   "outputs": [],
   "source": [
    "H_T = np.matmul(T,H)\n",
    "H_T_S = np.matmul(S,H_T)\n",
    "H_S_T_H = np.matmul(H,H_T_S)\n",
    "ans = np.matmul(H_S_T_H,ket_0)\n",
    "print(ans)"
   ]
  },
  {
   "cell_type": "code",
   "execution_count": null,
   "id": "5f1f2676",
   "metadata": {},
   "outputs": [],
   "source": [
    "np.matmul(np.matmul(H,X),H)"
   ]
  },
  {
   "cell_type": "code",
   "execution_count": null,
   "id": "a88e621f",
   "metadata": {},
   "outputs": [],
   "source": [
    "np.matmul(np.matmul(X,Y),ket_0) == 1j * np.matmul(Z,ket_0)"
   ]
  },
  {
   "cell_type": "code",
   "execution_count": null,
   "id": "d218543f",
   "metadata": {},
   "outputs": [],
   "source": [
    "U = np.array([[1, 1], [1, -1]]) / np.sqrt(2)\n",
    "\n",
    "def initialize_state():\n",
    "    \"\"\"Prepare a qubit in state |0>.\n",
    "    \n",
    "    Returns:\n",
    "        array[float]: the vector representation of state |0>.\n",
    "    \"\"\"\n",
    "\n",
    "    ##################\n",
    "    # YOUR CODE HERE #\n",
    "    ##################\n",
    "    ket_0 = np.array([1,0])\n",
    "    \n",
    "    ket_1 = np.array([0,1])\n",
    "    return ket_0"
   ]
  },
  {
   "cell_type": "code",
   "execution_count": null,
   "id": "baa2466c",
   "metadata": {},
   "outputs": [],
   "source": [
    "def apply_u(state):\n",
    "    \"\"\"Apply a quantum operation.\"\"\"\n",
    "    return np.dot(U, state)"
   ]
  },
  {
   "cell_type": "code",
   "execution_count": null,
   "id": "737d30b1",
   "metadata": {},
   "outputs": [],
   "source": [
    "def measure_state(state, num_meas):\n",
    "    \"\"\"Measure a quantum state num_meas times.\"\"\"\n",
    "    p_alpha = np.abs(state[0]) ** 2\n",
    "    p_beta = np.abs(state[1]) ** 2\n",
    "    meas_outcome = np.random.choice([0, 1], p=[p_alpha, p_beta], size=num_meas)\n",
    "    return meas_outcome"
   ]
  },
  {
   "cell_type": "code",
   "execution_count": null,
   "id": "db58e475",
   "metadata": {},
   "outputs": [],
   "source": [
    "def quantum_algorithm():\n",
    "    \"\"\"Use the functions above to implement the quantum algorithm described above.\n",
    "    \n",
    "    Try and do so using three lines of code or less!\n",
    "    \n",
    "    Returns:\n",
    "        array[int]: the measurement results after running the algorithm 100 times\n",
    "    \"\"\"\n",
    "    \n",
    "    ##################\n",
    "    # YOUR CODE HERE #\n",
    "    new_state = apply_u(initialize_state())\n",
    "    measure_state_temp = measure_state(new_state,100)\n",
    "    return(measure_state_temp)\n",
    "    ##################\n",
    "\n",
    "    # PREPARE THE STATE, APPLY U, THEN TAKE 100 MEASUREMENT SAMPLES\n",
    "    pass"
   ]
  },
  {
   "cell_type": "code",
   "execution_count": null,
   "id": "af28939d",
   "metadata": {},
   "outputs": [],
   "source": [
    "quantum_algorithm()"
   ]
  },
  {
   "cell_type": "code",
   "execution_count": null,
   "id": "bdf5d37b",
   "metadata": {},
   "outputs": [],
   "source": [
    "U = np.array([[1, 1], [1, -1]]) / np.sqrt(2)\n",
    "\n",
    "def initialize_state():\n",
    "    \"\"\"Prepare a qubit in state |0>.\n",
    "    \n",
    "    Returns:\n",
    "        array[float]: the vector representation of state |0>.\n",
    "    \"\"\"\n",
    "\n",
    "    ##################\n",
    "    # YOUR CODE HERE #\n",
    "    ##################\n",
    "    ket_0 = np.array([1,0])\n",
    "    ket_1 = np.array([0,1])\n",
    "    return ket_0\n",
    "\n",
    "    # PREPARE THE STATE |0>   \n",
    "    pass\n",
    "\n",
    "\n",
    "def apply_u(state):\n",
    "    \"\"\"Apply a quantum operation.\"\"\"\n",
    "    return np.dot(U, state)\n",
    "\n",
    "\n",
    "def measure_state(state, num_meas):\n",
    "    \"\"\"Measure a quantum state num_meas times.\"\"\"\n",
    "    p_alpha = np.abs(state[0]) ** 2\n",
    "    p_beta = np.abs(state[1]) ** 2\n",
    "    meas_outcome = np.random.choice([0, 1], p=[p_alpha, p_beta], size=num_meas)\n",
    "    return meas_outcome\n",
    "\n",
    "\n",
    "def quantum_algorithm():\n",
    "    \"\"\"Use the functions above to implement the quantum algorithm described above.\n",
    "    \n",
    "    Try and do so using three lines of code or less!\n",
    "    \n",
    "    Returns:\n",
    "        array[int]: the measurement results after running the algorithm 100 times\n",
    "    \"\"\"\n",
    "    \n",
    "    ##################\n",
    "    # YOUR CODE HERE #\n",
    "    new_state = apply_u(initialize_state())\n",
    "    measure_state_temp = measure_state(new_state,100)\n",
    "    return(measure_state_temp)\n",
    "    ##################\n",
    "\n",
    "    # PREPARE THE STATE, APPLY U, THEN TAKE 100 MEASUREMENT SAMPLES\n",
    "    pass\n"
   ]
  },
  {
   "cell_type": "code",
   "execution_count": null,
   "id": "52ace0f0",
   "metadata": {},
   "outputs": [],
   "source": [
    "quantum_algorithm()"
   ]
  },
  {
   "cell_type": "code",
   "execution_count": null,
   "id": "7eeb90a5",
   "metadata": {},
   "outputs": [],
   "source": [
    "import pennylane as qml\n",
    "\n",
    "def my_circuit(theta, phi): \n",
    "    ##################\n",
    "    # YOUR CODE HERE #\n",
    "    ##################\n",
    "\n",
    "    # REORDER THESE 5 GATES TO MATCH THE CIRCUIT IN THE PICTURE\n",
    "\n",
    "    qml.CNOT(wires=[0, 1])\n",
    "    qml.RX(theta, wires=2)\n",
    "    qml.Hadamard(wires=0)\n",
    "    qml.CNOT(wires=[2, 0])\n",
    "    qml.RY(phi, wires=1)\n",
    "    # This is the measurement; we return the probabilities of all possible output states\n",
    "    # You'll learn more about what types of measurements are available in a later node\n",
    "    return qml.probs(wires=[0, 1, 2])\n",
    "my_circuit(90,180)"
   ]
  },
  {
   "cell_type": "code",
   "execution_count": null,
   "id": "8f72ea25",
   "metadata": {},
   "outputs": [],
   "source": [
    "#To run any quantum \n",
    "dev = qml.device('default.qubit', wires=['wire_a','wire_b'])\n"
   ]
  },
  {
   "cell_type": "markdown",
   "id": "80b65e02",
   "metadata": {},
   "source": [
    "## Creating QNode"
   ]
  },
  {
   "cell_type": "code",
   "execution_count": null,
   "id": "e853449c",
   "metadata": {},
   "outputs": [],
   "source": [
    "# This creates a device with three wires on which PennyLane can run computations\n",
    "dev = qml.device(\"default.qubit\", wires=3)\n",
    "\n",
    "@qml.qnode(dev)\n",
    "def my_circuit(theta, phi, omega):\n",
    "\n",
    "    ##################\n",
    "    # YOUR CODE HERE #\n",
    "    qml.RX(theta,wires=0)\n",
    "    qml.RY(phi,wires=1)\n",
    "    qml.RZ(omega,wires=2)\n",
    "    qml.CNOT(wires=[0,1])\n",
    "    qml.CNOT(wires=[1,2])\n",
    "    qml.CNOT(wires=[2,0])\n",
    "    ##################\n",
    "\n",
    "    # IMPLEMENT THE CIRCUIT BY ADDING THE GATES\n",
    "\n",
    "    # Here are two examples, so you can see the format:\n",
    "    # qml.CNOT(wires=[0, 1])\n",
    "    # qml.RX(theta, wires=0)\n",
    "    \n",
    "\n",
    "\n",
    "\n",
    "    return qml.probs(wires=[0, 1, 2])\n",
    "\n",
    "\n",
    "# This creates a QNode, binding the function and device\n",
    "my_qnode = qml.QNode(my_circuit, dev)\n",
    "\n",
    "# We set up some values for the input parameters\n",
    "theta, phi, omega = 0.1, 0.2, 0.3\n",
    "\n",
    "# Now we can execute the QNode by calling it like we would a regular function\n",
    "my_qnode(theta, phi, omega)\n"
   ]
  },
  {
   "cell_type": "code",
   "execution_count": null,
   "id": "92b36f50",
   "metadata": {},
   "outputs": [],
   "source": [
    "dev = qml.device(\"default.qubit\", wires=1)\n",
    "\n",
    "U = np.array([[1, 1], [1, -1]]) / np.sqrt(2)\n",
    "\n",
    "@qml.qnode(dev)\n",
    "def apply_u():\n",
    "\n",
    "    ##################\n",
    "    # YOUR CODE HERE #\n",
    "    ##################\n",
    "    qml.QubitUnitary(U,wires=0)\n",
    "    # USE QubitUnitary TO APPLY U TO THE QUBIT\n",
    "    \n",
    "\n",
    "\n",
    "    # Return the state\n",
    "    return qml.state()\n"
   ]
  },
  {
   "cell_type": "code",
   "execution_count": null,
   "id": "bef343df",
   "metadata": {},
   "outputs": [],
   "source": [
    "apply_u()"
   ]
  },
  {
   "cell_type": "code",
   "execution_count": null,
   "id": "629f8c64",
   "metadata": {},
   "outputs": [],
   "source": [
    "dev = qml.device(\"default.qubit\", wires=1)\n",
    "\n",
    "@qml.qnode(dev)\n",
    "def apply_u_as_rot(phi, theta, omega):\n",
    "\n",
    "    ##################\n",
    "    # YOUR CODE HERE #\n",
    "    ##################\n",
    "    qml.Rot(phi, theta, omega,wires = 0)\n",
    "    # APPLY A ROT GATE USING THE PROVIDED INPUT PARAMETERS\n",
    "    \n",
    "    # RETURN THE QUANTUM STATE VECTOR\n",
    "\n",
    "    return qml.state()\n",
    "theta, phi, omega = 0.1, 0.2, 0.3\n",
    "apply_u_as_rot(theta, phi, omega )\n"
   ]
  },
  {
   "cell_type": "code",
   "execution_count": null,
   "id": "ed5003ed",
   "metadata": {},
   "outputs": [],
   "source": [
    "import pennylane as qml\n",
    "dev = qml.device(\"default.qubit\",wires = 1)"
   ]
  },
  {
   "cell_type": "code",
   "execution_count": null,
   "id": "4c44903b",
   "metadata": {},
   "outputs": [],
   "source": [
    "@qml.qnode(dev)\n",
    "def HPH(state):\n",
    "    qml.Hadamard(wires=0)\n",
    "    qml.PauliX(wires=0)\n",
    "    qml.Hadamard(wires=0)\n",
    "    return qml.state()\n",
    "ket_0 = np.array([1,0])\n",
    "ket_1 = np.array([0,1])\n",
    "\n"
   ]
  },
  {
   "cell_type": "code",
   "execution_count": null,
   "id": "9a2e39a1",
   "metadata": {},
   "outputs": [],
   "source": [
    "print(HPH(ket_0).real,ket_0)\n",
    "print(HPH(ket_1).real,ket_1)"
   ]
  },
  {
   "cell_type": "code",
   "execution_count": null,
   "id": "582e8a63",
   "metadata": {},
   "outputs": [],
   "source": [
    "@qml.qnode(dev)\n",
    "def apply_Z_to_plus():\n",
    "    ket_0 = np.array([1,0])\n",
    "    qml.Hadamard(wires = 0)\n",
    "    qml.PauliZ(wires = 0)\n",
    "    return qml.state()\n",
    "apply_Z_to_plus()"
   ]
  },
  {
   "cell_type": "code",
   "execution_count": null,
   "id": "0f7c199d",
   "metadata": {},
   "outputs": [],
   "source": [
    "#Using RZ gate to obtain same effect on |+>\n",
    "dev = qml.device(\"default.qubit\",wires = 1)\n",
    "@qml.qnode(dev)\n",
    "def fake_z():\n",
    "    qml.Hadamard(wires = 0)\n",
    "    qml.RZ(np.pi,wires = 0)\n",
    "    return qml.state()\n",
    "    "
   ]
  },
  {
   "cell_type": "code",
   "execution_count": null,
   "id": "613c2c8f",
   "metadata": {},
   "outputs": [],
   "source": [
    "fake_z()"
   ]
  },
  {
   "cell_type": "code",
   "execution_count": null,
   "id": "d0db4683",
   "metadata": {},
   "outputs": [],
   "source": [
    "dev = qml.device(\"default.qubit\", wires=1)\n",
    "\n",
    "@qml.qnode(dev)\n",
    "def many_rotations():\n",
    "    \"\"\"Implement the circuit depicted above and return the quantum state.\n",
    "\n",
    "    Returns:\n",
    "        array[complex]: The state of the qubit after the operations.\n",
    "    \"\"\"\n",
    "\n",
    "    ##################\n",
    "    # YOUR CODE HERE #\n",
    "    ##################\n",
    "    qml.Hadamard(wires = 0 )\n",
    "    qml.S(wires=0)\n",
    "    # qml.T(wires = 0)\n",
    "    qml.adjoint(qml.T)(wires = 0)\n",
    "    qml.RZ(0.3,wires = 0)\n",
    "    # qml.S(wires = 0)\n",
    "    qml.adjoint(qml.S)(wires = 0)\n",
    "    return qml.state()\n",
    "    # IMPLEMENT THE CIRCUIT\n",
    "\n",
    "    # RETURN THE STATE\n",
    "\n",
    "\n",
    "many_rotations()"
   ]
  },
  {
   "cell_type": "code",
   "execution_count": null,
   "metadata": {},
   "outputs": [],
   "source": [
    "import pennylane as qml\n",
    "dev = qml.device('default.qubit',wires = 3)\n",
    "qml.qnode(dev)\n",
    "def just_enough():\n",
    "    qml.Hadamard(wires=0)\n",
    "    qml.Hadamard(wires=1)\n",
    "    qml.Hadamard(wires=2)\n",
    "    qml.S(wires=0)\n",
    "    qml.Hadamard(wires = 0)\n",
    "    qml.adjoint(qml.S)(wires = 0)\n",
    "    qml.Hadamard(wires=0)\n",
    "    qml.T(wires=1)\n",
    "    qml.Hadamard(wires=1)\n",
    "    qml.PauliZ(wires=1)\n",
    "    qml.Hadamard(wires=1)\n",
    "    qml.adjoint(qml.T)(wires=2)\n",
    "    qml.Hadamard(wires=2)\n",
    "    qml.adjoint(qml.S)(wires=2)\n",
    "    qml.adjoint(qml.T)(wires = 2)\n",
    "    qml.Hadamard(wires=2)\n",
    "    return qml.probs(wires=[0,1,2])"
   ]
  },
  {
   "cell_type": "code",
   "execution_count": 2,
   "id": "96150130",
   "metadata": {},
   "outputs": [],
   "source": [
    "#March 22\n",
    "import pennylane as qml\n",
    "import numpy as np\n",
    "import matplotlib.pyplot as plt"
   ]
  },
  {
   "cell_type": "code",
   "execution_count": 3,
   "id": "281f5e95",
   "metadata": {},
   "outputs": [],
   "source": [
    "dev = qml.device('default.qubit',wires=1)"
   ]
  },
  {
   "cell_type": "code",
   "execution_count": 4,
   "id": "89c28cb1",
   "metadata": {},
   "outputs": [],
   "source": [
    "''' Write a QNode that applies qml.RX with an angle of  π to one of the computational basis states. What operation is this? '''\n",
    "@qml.qnode(dev)\n",
    "def apply_rx_pi(states):\n",
    "    if states == 1:\n",
    "        qml.X(wires=0)\n",
    "    qml.RX(np.pi,wires=0)\n",
    "    return qml.state()\n",
    "ans = apply_rx_pi(1)\n"
   ]
  },
  {
   "cell_type": "code",
   "execution_count": 18,
   "id": "e21b5d1a",
   "metadata": {},
   "outputs": [],
   "source": [
    "dev = qml.device('default.qubit', wires=1)\n",
    "\n",
    "@qml.qnode(dev)\n",
    "def apply_rx(theta, state):\n",
    "    \"\"\"Apply an RX gate with an angle of theta to a particular basis state.\n",
    "    \n",
    "    Args:\n",
    "        theta (float): A rotation angle.\n",
    "        state (int): Either 0 or 1. If 1, initialize the qubit to state |1>\n",
    "            before applying other operations.\n",
    "    \n",
    "    Returns:\n",
    "        array[complex]: The state of the qubit after the operations.\n",
    "    \"\"\"\n",
    "    if state == 1:\n",
    "        qml.PauliX(wires=0)\n",
    "\n",
    "    ##################\n",
    "    # YOUR CODE HERE #\n",
    "    ##################\n",
    "\n",
    "    # APPLY RX(theta) AND RETURN THE STATE\n",
    "    qml.RX(theta,wires = 0)\n",
    "    return qml.state()\n",
    "\n",
    "# Code for plotting\n",
    "angles = np.linspace(0, 4*np.pi, 200)\n",
    "output_states = np.array([apply_rx(t, 0) for t in angles])\n",
    "\n",
    "\n"
   ]
  },
  {
   "cell_type": "code",
   "execution_count": 15,
   "id": "01eb3049",
   "metadata": {},
   "outputs": [
    {
     "name": "stdout",
     "output_type": "stream",
     "text": [
      "<class 'numpy.ndarray'>\n",
      "<class 'numpy.ndarray'>\n"
     ]
    }
   ],
   "source": [
    "print(type(angles))\n",
    "print(type(output_states))"
   ]
  },
  {
   "cell_type": "code",
   "execution_count": 59,
   "id": "bcc0a109",
   "metadata": {},
   "outputs": [
    {
     "name": "stderr",
     "output_type": "stream",
     "text": [
      "/Users/bikramkhanal/miniforge3/envs/pythonDatastructure/lib/python3.9/site-packages/matplotlib/cbook/__init__.py:1298: ComplexWarning: Casting complex values to real discards the imaginary part\n",
      "  return np.asarray(x, float)\n",
      "/Users/bikramkhanal/miniforge3/envs/pythonDatastructure/lib/python3.9/site-packages/matplotlib/cbook/__init__.py:1298: ComplexWarning: Casting complex values to real discards the imaginary part\n",
      "  return np.asarray(x, float)\n"
     ]
    },
    {
     "data": {
      "image/png": "[encoded data removed]",
      "text/plain": [
       "<Figure size 432x288 with 1 Axes>"
      ]
     },
     "metadata": {
      "needs_background": "light"
     },
     "output_type": "display_data"
    }
   ],
   "source": [
    "plt.plot(angles,output_states[:,1:])\n",
    "plt.plot(angles,output_states[:,:1])\n",
    "plt.show()"
   ]
  },
  {
   "cell_type": "code",
   "execution_count": null,
   "id": "707cb7c0",
   "metadata": {},
   "outputs": [],
   "source": []
  }
 ],
 "metadata": {
  "kernelspec": {
   "display_name": "Python 3",
   "language": "python",
   "name": "python3"
  },
  "language_info": {
   "codemirror_mode": {
    "name": "ipython",
    "version": 3
   },
   "file_extension": ".py",
   "mimetype": "text/x-python",
   "name": "python",
   "nbconvert_exporter": "python",
   "pygments_lexer": "ipython3",
   "version": "3.9.7"
  }
 },
 "nbformat": 4,
 "nbformat_minor": 5
}
