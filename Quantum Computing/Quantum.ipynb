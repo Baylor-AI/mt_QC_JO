{
 "cells": [
  {
   "cell_type": "code",
   "execution_count": 1,
   "id": "799f5ddd",
   "metadata": {},
   "outputs": [
    {
     "name": "stdout",
     "output_type": "stream",
     "text": [
      "Init Plugin\n",
      "Init Graph Optimizer\n",
      "Init Kernel\n"
     ]
    },
    {
     "name": "stderr",
     "output_type": "stream",
     "text": [
      "/opt/homebrew/Caskroom/miniforge/base/envs/tensorflow/lib/python3.9/site-packages/_distutils_hack/__init__.py:30: UserWarning: Setuptools is replacing distutils.\n",
      "  warnings.warn(\"Setuptools is replacing distutils.\")\n"
     ]
    },
    {
     "name": "stdout",
     "output_type": "stream",
     "text": [
      "Tensor Flow Version: 2.5.0\n",
      "Keras Version: 2.5.0\n",
      "\n",
      "Python 3.9.12 | packaged by conda-forge | (main, Mar 24 2022, 23:24:38) \n",
      "[Clang 12.0.1 ]\n",
      "Pandas 1.4.2\n",
      "Scikit-Learn 1.0.2\n",
      "GPU is available\n"
     ]
    }
   ],
   "source": [
    "# What version of Python do you have?\n",
    "import sys\n",
    "\n",
    "import tensorflow.keras\n",
    "import pandas as pd\n",
    "import numpy as np\n",
    "import math\n",
    "import sklearn as sk\n",
    "import tensorflow as tf\n",
    "import pennylane as qml\n",
    "\n",
    "print(f\"Tensor Flow Version: {tf.__version__}\")\n",
    "print(f\"Keras Version: {tensorflow.keras.__version__}\")\n",
    "print()\n",
    "print(f\"Python {sys.version}\")\n",
    "print(f\"Pandas {pd.__version__}\")\n",
    "print(f\"Scikit-Learn {sk.__version__}\")\n",
    "gpu = len(tf.config.list_physical_devices('GPU'))>0\n",
    "print(\"GPU is\", \"available\" if gpu else \"NOT AVAILABLE\")"
   ]
  },
  {
   "cell_type": "code",
   "execution_count": 2,
   "id": "f4db029e",
   "metadata": {},
   "outputs": [
    {
     "data": {
      "text/plain": [
       "0.565685424949238"
      ]
     },
     "execution_count": 2,
     "metadata": {},
     "output_type": "execute_result"
    }
   ],
   "source": [
    "0.8/math.sqrt(2)"
   ]
  },
  {
   "cell_type": "code",
   "execution_count": 3,
   "id": "d049e08f",
   "metadata": {},
   "outputs": [
    {
     "name": "stdout",
     "output_type": "stream",
     "text": [
      "[0.8 0.6]\n",
      "[0.70710678+0.j         0.        +0.70710678j]\n"
     ]
    }
   ],
   "source": [
    "state_1 = np.array([0.8, 0.6])\n",
    "state_2 = np.array([1 / np.sqrt(2), 1j / np.sqrt(2)]) \n",
    "print(state_1)\n",
    "print(state_2)"
   ]
  },
  {
   "cell_type": "code",
   "execution_count": 4,
   "id": "745f7a1f",
   "metadata": {},
   "outputs": [
    {
     "data": {
      "text/plain": [
       "(0.565685424949238-0.42426406871192845j)"
      ]
     },
     "execution_count": 4,
     "metadata": {},
     "output_type": "execute_result"
    }
   ],
   "source": [
    "np.dot(np.conj(state_2),state_1)"
   ]
  },
  {
   "cell_type": "code",
   "execution_count": 5,
   "id": "b2e244e4",
   "metadata": {},
   "outputs": [
    {
     "data": {
      "text/plain": [
       "(0.565685424949238+0.42426406871192845j)"
      ]
     },
     "execution_count": 5,
     "metadata": {},
     "output_type": "execute_result"
    }
   ],
   "source": [
    "np.dot(np.conj(state_1),state_2)"
   ]
  },
  {
   "cell_type": "code",
   "execution_count": 6,
   "id": "4a9924ae",
   "metadata": {},
   "outputs": [
    {
     "name": "stdout",
     "output_type": "stream",
     "text": [
      "[0.70710678+0.j         0.        +0.70710678j]\n",
      "[0.70710678-0.j         0.        -0.70710678j]\n",
      "[0.70710678-0.j         0.        -0.70710678j]\n"
     ]
    }
   ],
   "source": [
    "print(state_2)\n",
    "print(np.conj(state_2))\n",
    "print(np.conjugate(state_2))"
   ]
  },
  {
   "cell_type": "code",
   "execution_count": 7,
   "id": "2fd0fb0a",
   "metadata": {},
   "outputs": [
    {
     "data": {
      "text/plain": [
       "array([1, 0, 0, 1, 0, 0, 1, 0, 0, 0])"
      ]
     },
     "execution_count": 7,
     "metadata": {},
     "output_type": "execute_result"
    }
   ],
   "source": [
    "State = np.array([1 / np.sqrt(2), 1j / np.sqrt(2)])\n",
    "def measure_state(state, num_meas=10):\n",
    "    x_prob = state[0] * np.conj(state[0])\n",
    "    x_prob = x_prob.real\n",
    "    y_prob = state[1] * np.conj(state[1])\n",
    "    y_prob = y_prob.real\n",
    "    choice_ = [0,1]\n",
    "    arr = np.random.choice(choice_,num_meas,p=[x_prob,y_prob])\n",
    "    return arr\n",
    "measure_state(State)"
   ]
  },
  {
   "cell_type": "code",
   "execution_count": 8,
   "id": "a50e0a4f",
   "metadata": {},
   "outputs": [
    {
     "data": {
      "text/plain": [
       "1.0"
      ]
     },
     "execution_count": 8,
     "metadata": {},
     "output_type": "execute_result"
    }
   ],
   "source": [
    "np.square(0.8) + np.square(0.6)"
   ]
  },
  {
   "cell_type": "code",
   "execution_count": 9,
   "id": "40027d45",
   "metadata": {},
   "outputs": [
    {
     "data": {
      "text/plain": [
       "(-1+0j)"
      ]
     },
     "execution_count": 9,
     "metadata": {},
     "output_type": "execute_result"
    }
   ],
   "source": [
    "1j * 1j"
   ]
  },
  {
   "cell_type": "code",
   "execution_count": 10,
   "id": "778d12e7",
   "metadata": {},
   "outputs": [],
   "source": [
    "ket_0 = np.array([1, 0])\n",
    "ket_1 = np.array([0, 1])\n",
    "H = [[1/np.sqrt(2),1/np.sqrt(2)],\n",
    "                 [1/np.sqrt(2),-1/np.sqrt(2)]]\n",
    "\n",
    "T = [[1,0],[0,np.exp(1j * np.pi/4)]]\n",
    "S = [[1,0],[0,-1]]\n",
    "Z = [[1,0],[0,-1]]\n",
    "Y = [[0,-1j],[1j,0]]\n",
    "X = [[0,1],[1,0]]\n"
   ]
  },
  {
   "cell_type": "code",
   "execution_count": 11,
   "id": "d812f5ef",
   "metadata": {},
   "outputs": [
    {
     "name": "stdout",
     "output_type": "stream",
     "text": [
      "[0.14644661-0.35355339j 0.85355339+0.35355339j]\n"
     ]
    }
   ],
   "source": [
    "H_T = np.matmul(T,H)\n",
    "H_T_S = np.matmul(S,H_T)\n",
    "H_S_T_H = np.matmul(H,H_T_S)\n",
    "ans = np.matmul(H_S_T_H,ket_0)\n",
    "print(ans)"
   ]
  },
  {
   "cell_type": "code",
   "execution_count": 12,
   "id": "5f1f2676",
   "metadata": {},
   "outputs": [
    {
     "data": {
      "text/plain": [
       "array([[ 1.00000000e+00, -2.23711432e-17],\n",
       "       [ 2.23711432e-17, -1.00000000e+00]])"
      ]
     },
     "execution_count": 12,
     "metadata": {},
     "output_type": "execute_result"
    }
   ],
   "source": [
    "np.matmul(np.matmul(H,X),H)"
   ]
  },
  {
   "cell_type": "code",
   "execution_count": 13,
   "id": "a88e621f",
   "metadata": {},
   "outputs": [
    {
     "data": {
      "text/plain": [
       "array([ True,  True])"
      ]
     },
     "execution_count": 13,
     "metadata": {},
     "output_type": "execute_result"
    }
   ],
   "source": [
    "np.matmul(np.matmul(X,Y),ket_0) == 1j * np.matmul(Z,ket_0)"
   ]
  },
  {
   "cell_type": "code",
   "execution_count": 14,
   "id": "d218543f",
   "metadata": {},
   "outputs": [],
   "source": [
    "U = np.array([[1, 1], [1, -1]]) / np.sqrt(2)\n",
    "\n",
    "def initialize_state():\n",
    "    \"\"\"Prepare a qubit in state |0>.\n",
    "    \n",
    "    Returns:\n",
    "        array[float]: the vector representation of state |0>.\n",
    "    \"\"\"\n",
    "\n",
    "    ##################\n",
    "    # YOUR CODE HERE #\n",
    "    ##################\n",
    "    ket_0 = np.array([1,0])\n",
    "    \n",
    "    ket_1 = np.array([0,1])\n",
    "    return ket_0"
   ]
  },
  {
   "cell_type": "code",
   "execution_count": 15,
   "id": "baa2466c",
   "metadata": {},
   "outputs": [],
   "source": [
    "def apply_u(state):\n",
    "    \"\"\"Apply a quantum operation.\"\"\"\n",
    "    return np.dot(U, state)"
   ]
  },
  {
   "cell_type": "code",
   "execution_count": 16,
   "id": "737d30b1",
   "metadata": {},
   "outputs": [],
   "source": [
    "def measure_state(state, num_meas):\n",
    "    \"\"\"Measure a quantum state num_meas times.\"\"\"\n",
    "    p_alpha = np.abs(state[0]) ** 2\n",
    "    p_beta = np.abs(state[1]) ** 2\n",
    "    meas_outcome = np.random.choice([0, 1], p=[p_alpha, p_beta], size=num_meas)\n",
    "    return meas_outcome"
   ]
  },
  {
   "cell_type": "code",
   "execution_count": 17,
   "id": "db58e475",
   "metadata": {},
   "outputs": [],
   "source": [
    "def quantum_algorithm():\n",
    "    \"\"\"Use the functions above to implement the quantum algorithm described above.\n",
    "    \n",
    "    Try and do so using three lines of code or less!\n",
    "    \n",
    "    Returns:\n",
    "        array[int]: the measurement results after running the algorithm 100 times\n",
    "    \"\"\"\n",
    "    \n",
    "    ##################\n",
    "    # YOUR CODE HERE #\n",
    "    new_state = apply_u(initialize_state())\n",
    "    measure_state_temp = measure_state(new_state,100)\n",
    "    return(measure_state_temp)\n",
    "    ##################\n",
    "\n",
    "    # PREPARE THE STATE, APPLY U, THEN TAKE 100 MEASUREMENT SAMPLES\n",
    "    pass"
   ]
  },
  {
   "cell_type": "code",
   "execution_count": 18,
   "id": "af28939d",
   "metadata": {},
   "outputs": [
    {
     "data": {
      "text/plain": [
       "array([1, 0, 0, 1, 1, 0, 1, 1, 0, 1, 1, 1, 1, 1, 0, 1, 1, 0, 1, 1, 0, 0,\n",
       "       0, 1, 0, 0, 1, 1, 1, 0, 1, 1, 0, 0, 0, 0, 1, 1, 1, 1, 0, 0, 0, 0,\n",
       "       1, 1, 0, 1, 0, 1, 1, 0, 1, 0, 0, 0, 1, 1, 0, 1, 0, 0, 1, 1, 0, 0,\n",
       "       1, 0, 1, 1, 1, 1, 1, 1, 1, 1, 1, 0, 0, 0, 1, 0, 0, 0, 0, 0, 0, 1,\n",
       "       0, 0, 1, 1, 0, 0, 0, 0, 1, 0, 1, 1])"
      ]
     },
     "execution_count": 18,
     "metadata": {},
     "output_type": "execute_result"
    }
   ],
   "source": [
    "quantum_algorithm()"
   ]
  },
  {
   "cell_type": "code",
   "execution_count": 19,
   "id": "bdf5d37b",
   "metadata": {},
   "outputs": [],
   "source": [
    "U = np.array([[1, 1], [1, -1]]) / np.sqrt(2)\n",
    "\n",
    "def initialize_state():\n",
    "    \"\"\"Prepare a qubit in state |0>.\n",
    "    \n",
    "    Returns:\n",
    "        array[float]: the vector representation of state |0>.\n",
    "    \"\"\"\n",
    "\n",
    "    ##################\n",
    "    # YOUR CODE HERE #\n",
    "    ##################\n",
    "    ket_0 = np.array([1,0])\n",
    "    ket_1 = np.array([0,1])\n",
    "    return ket_0\n",
    "\n",
    "    # PREPARE THE STATE |0>   \n",
    "    pass\n",
    "\n",
    "\n",
    "def apply_u(state):\n",
    "    \"\"\"Apply a quantum operation.\"\"\"\n",
    "    return np.dot(U, state)\n",
    "\n",
    "\n",
    "def measure_state(state, num_meas):\n",
    "    \"\"\"Measure a quantum state num_meas times.\"\"\"\n",
    "    p_alpha = np.abs(state[0]) ** 2\n",
    "    p_beta = np.abs(state[1]) ** 2\n",
    "    meas_outcome = np.random.choice([0, 1], p=[p_alpha, p_beta], size=num_meas)\n",
    "    return meas_outcome\n",
    "\n",
    "\n",
    "def quantum_algorithm():\n",
    "    \"\"\"Use the functions above to implement the quantum algorithm described above.\n",
    "    \n",
    "    Try and do so using three lines of code or less!\n",
    "    \n",
    "    Returns:\n",
    "        array[int]: the measurement results after running the algorithm 100 times\n",
    "    \"\"\"\n",
    "    \n",
    "    ##################\n",
    "    # YOUR CODE HERE #\n",
    "    new_state = apply_u(initialize_state())\n",
    "    measure_state_temp = measure_state(new_state,100)\n",
    "    return(measure_state_temp)\n",
    "    ##################\n",
    "\n",
    "    # PREPARE THE STATE, APPLY U, THEN TAKE 100 MEASUREMENT SAMPLES\n",
    "    pass\n"
   ]
  },
  {
   "cell_type": "code",
   "execution_count": 20,
   "id": "52ace0f0",
   "metadata": {},
   "outputs": [
    {
     "data": {
      "text/plain": [
       "array([1, 0, 1, 0, 1, 0, 1, 0, 0, 1, 1, 0, 0, 0, 0, 0, 0, 1, 0, 1, 1, 1,\n",
       "       0, 1, 1, 1, 1, 1, 1, 1, 0, 0, 0, 1, 1, 1, 0, 1, 1, 0, 1, 1, 1, 0,\n",
       "       0, 1, 0, 1, 1, 0, 1, 0, 0, 1, 1, 0, 1, 1, 0, 0, 0, 0, 1, 1, 1, 1,\n",
       "       0, 0, 1, 0, 1, 1, 0, 0, 0, 0, 1, 0, 1, 1, 0, 0, 1, 0, 1, 1, 1, 0,\n",
       "       0, 1, 0, 0, 1, 1, 0, 1, 0, 0, 1, 1])"
      ]
     },
     "execution_count": 20,
     "metadata": {},
     "output_type": "execute_result"
    }
   ],
   "source": [
    "quantum_algorithm()"
   ]
  },
  {
   "cell_type": "code",
   "execution_count": 21,
   "id": "7eeb90a5",
   "metadata": {},
   "outputs": [
    {
     "data": {
      "text/plain": [
       "probs(wires=[0, 1, 2])"
      ]
     },
     "execution_count": 21,
     "metadata": {},
     "output_type": "execute_result"
    }
   ],
   "source": [
    "import pennylane as qml\n",
    "\n",
    "def my_circuit(theta, phi): \n",
    "    ##################\n",
    "    # YOUR CODE HERE #\n",
    "    ##################\n",
    "\n",
    "    # REORDER THESE 5 GATES TO MATCH THE CIRCUIT IN THE PICTURE\n",
    "\n",
    "    qml.CNOT(wires=[0, 1])\n",
    "    qml.RX(theta, wires=2)\n",
    "    qml.Hadamard(wires=0)\n",
    "    qml.CNOT(wires=[2, 0])\n",
    "    qml.RY(phi, wires=1)\n",
    "    # This is the measurement; we return the probabilities of all possible output states\n",
    "    # You'll learn more about what types of measurements are available in a later node\n",
    "    return qml.probs(wires=[0, 1, 2])\n",
    "my_circuit(90,180)"
   ]
  },
  {
   "cell_type": "code",
   "execution_count": 22,
   "id": "8f72ea25",
   "metadata": {},
   "outputs": [],
   "source": [
    "#To run any quantum \n",
    "dev = qml.device('default.qubit', wires=['wire_a','wire_b'])\n"
   ]
  },
  {
   "cell_type": "markdown",
   "id": "80b65e02",
   "metadata": {},
   "source": [
    "## Creating QNode"
   ]
  },
  {
   "cell_type": "code",
   "execution_count": 23,
   "id": "e853449c",
   "metadata": {},
   "outputs": [
    {
     "data": {
      "text/plain": [
       "tensor([9.87560268e-01, 0.00000000e+00, 0.00000000e+00, 2.47302134e-03,\n",
       "        2.48960206e-05, 0.00000000e+00, 0.00000000e+00, 9.94181506e-03], requires_grad=True)"
      ]
     },
     "execution_count": 23,
     "metadata": {},
     "output_type": "execute_result"
    }
   ],
   "source": [
    "# This creates a device with three wires on which PennyLane can run computations\n",
    "dev = qml.device(\"default.qubit\", wires=3)\n",
    "\n",
    "@qml.qnode(dev)\n",
    "def my_circuit(theta, phi, omega):\n",
    "\n",
    "    ##################\n",
    "    # YOUR CODE HERE #\n",
    "    qml.RX(theta,wires=0)\n",
    "    qml.RY(phi,wires=1)\n",
    "    qml.RZ(omega,wires=2)\n",
    "    qml.CNOT(wires=[0,1])\n",
    "    qml.CNOT(wires=[1,2])\n",
    "    qml.CNOT(wires=[2,0])\n",
    "    ##################\n",
    "\n",
    "    # IMPLEMENT THE CIRCUIT BY ADDING THE GATES\n",
    "\n",
    "    # Here are two examples, so you can see the format:\n",
    "    # qml.CNOT(wires=[0, 1])\n",
    "    # qml.RX(theta, wires=0)\n",
    "    \n",
    "\n",
    "\n",
    "\n",
    "    return qml.probs(wires=[0, 1, 2])\n",
    "\n",
    "\n",
    "# This creates a QNode, binding the function and device\n",
    "my_qnode = qml.QNode(my_circuit, dev)\n",
    "\n",
    "# We set up some values for the input parameters\n",
    "theta, phi, omega = 0.1, 0.2, 0.3\n",
    "\n",
    "# Now we can execute the QNode by calling it like we would a regular function\n",
    "my_qnode(theta, phi, omega)\n"
   ]
  },
  {
   "cell_type": "code",
   "execution_count": 24,
   "id": "92b36f50",
   "metadata": {},
   "outputs": [],
   "source": [
    "dev = qml.device(\"default.qubit\", wires=1)\n",
    "\n",
    "U = np.array([[1, 1], [1, -1]]) / np.sqrt(2)\n",
    "\n",
    "@qml.qnode(dev)\n",
    "def apply_u():\n",
    "\n",
    "    ##################\n",
    "    # YOUR CODE HERE #\n",
    "    ##################\n",
    "    qml.QubitUnitary(U,wires=0)\n",
    "    # USE QubitUnitary TO APPLY U TO THE QUBIT\n",
    "    \n",
    "\n",
    "\n",
    "    # Return the state\n",
    "    return qml.state()\n"
   ]
  },
  {
   "cell_type": "code",
   "execution_count": 25,
   "id": "bef343df",
   "metadata": {},
   "outputs": [
    {
     "data": {
      "text/plain": [
       "tensor([0.70710678+0.j, 0.70710678+0.j], requires_grad=True)"
      ]
     },
     "execution_count": 25,
     "metadata": {},
     "output_type": "execute_result"
    }
   ],
   "source": [
    "apply_u()"
   ]
  },
  {
   "cell_type": "code",
   "execution_count": 26,
   "id": "629f8c64",
   "metadata": {},
   "outputs": [
    {
     "data": {
      "text/plain": [
       "tensor([0.97517033-0.19767681j, 0.09933467+0.00996671j], requires_grad=True)"
      ]
     },
     "execution_count": 26,
     "metadata": {},
     "output_type": "execute_result"
    }
   ],
   "source": [
    "dev = qml.device(\"default.qubit\", wires=1)\n",
    "\n",
    "@qml.qnode(dev)\n",
    "def apply_u_as_rot(phi, theta, omega):\n",
    "\n",
    "    ##################\n",
    "    # YOUR CODE HERE #\n",
    "    ##################\n",
    "    qml.Rot(phi, theta, omega,wires = 0)\n",
    "    # APPLY A ROT GATE USING THE PROVIDED INPUT PARAMETERS\n",
    "    \n",
    "    # RETURN THE QUANTUM STATE VECTOR\n",
    "\n",
    "    return qml.state()\n",
    "theta, phi, omega = 0.1, 0.2, 0.3\n",
    "apply_u_as_rot(theta, phi, omega )\n"
   ]
  },
  {
   "cell_type": "code",
   "execution_count": 27,
   "id": "ed5003ed",
   "metadata": {},
   "outputs": [],
   "source": [
    "import pennylane as qml\n",
    "dev = qml.device(\"default.qubit\",wires = 1)"
   ]
  },
  {
   "cell_type": "code",
   "execution_count": 28,
   "id": "4c44903b",
   "metadata": {},
   "outputs": [],
   "source": [
    "@qml.qnode(dev)\n",
    "def HPH(state):\n",
    "    qml.Hadamard(wires=0)\n",
    "    qml.PauliX(wires=0)\n",
    "    qml.Hadamard(wires=0)\n",
    "    return qml.state()\n",
    "ket_0 = np.array([1,0])\n",
    "ket_1 = np.array([0,1])\n",
    "\n"
   ]
  },
  {
   "cell_type": "code",
   "execution_count": 29,
   "id": "9a2e39a1",
   "metadata": {},
   "outputs": [
    {
     "name": "stdout",
     "output_type": "stream",
     "text": [
      "[1. 0.] [1 0]\n",
      "[1. 0.] [0 1]\n"
     ]
    }
   ],
   "source": [
    "print(HPH(ket_0).real,ket_0)\n",
    "print(HPH(ket_1).real,ket_1)"
   ]
  },
  {
   "cell_type": "code",
   "execution_count": 30,
   "id": "582e8a63",
   "metadata": {},
   "outputs": [
    {
     "data": {
      "text/plain": [
       "tensor([ 0.70710678+0.j, -0.70710678+0.j], requires_grad=True)"
      ]
     },
     "execution_count": 30,
     "metadata": {},
     "output_type": "execute_result"
    }
   ],
   "source": [
    "@qml.qnode(dev)\n",
    "def apply_Z_to_plus():\n",
    "    ket_0 = np.array([1,0])\n",
    "    qml.Hadamard(wires = 0)\n",
    "    qml.PauliZ(wires = 0)\n",
    "    return qml.state()\n",
    "apply_Z_to_plus()"
   ]
  },
  {
   "cell_type": "code",
   "execution_count": 31,
   "id": "0f7c199d",
   "metadata": {},
   "outputs": [],
   "source": [
    "#Using RZ gate to obtain same effect on |+>\n",
    "dev = qml.device(\"default.qubit\",wires = 1)\n",
    "@qml.qnode(dev)\n",
    "def fake_z():\n",
    "    qml.Hadamard(wires = 0)\n",
    "    qml.RZ(np.pi,wires = 0)\n",
    "    return qml.state()\n",
    "    "
   ]
  },
  {
   "cell_type": "code",
   "execution_count": 32,
   "id": "613c2c8f",
   "metadata": {},
   "outputs": [
    {
     "data": {
      "text/plain": [
       "tensor([4.32978028e-17-0.70710678j, 4.32978028e-17+0.70710678j], requires_grad=True)"
      ]
     },
     "execution_count": 32,
     "metadata": {},
     "output_type": "execute_result"
    }
   ],
   "source": [
    "fake_z()"
   ]
  },
  {
   "cell_type": "code",
   "execution_count": 33,
   "id": "d0db4683",
   "metadata": {},
   "outputs": [
    {
     "data": {
      "text/plain": [
       "tensor([0.69916673-0.10566872j, 0.56910461-0.41966647j], requires_grad=True)"
      ]
     },
     "execution_count": 33,
     "metadata": {},
     "output_type": "execute_result"
    }
   ],
   "source": [
    "dev = qml.device(\"default.qubit\", wires=1)\n",
    "\n",
    "@qml.qnode(dev)\n",
    "def many_rotations():\n",
    "    \"\"\"Implement the circuit depicted above and return the quantum state.\n",
    "\n",
    "    Returns:\n",
    "        array[complex]: The state of the qubit after the operations.\n",
    "    \"\"\"\n",
    "\n",
    "    ##################\n",
    "    # YOUR CODE HERE #\n",
    "    ##################\n",
    "    qml.Hadamard(wires = 0 )\n",
    "    qml.S(wires=0)\n",
    "    # qml.T(wires = 0)\n",
    "    qml.adjoint(qml.T)(wires = 0)\n",
    "    qml.RZ(0.3,wires = 0)\n",
    "    # qml.S(wires = 0)\n",
    "    qml.adjoint(qml.S)(wires = 0)\n",
    "    return qml.state()\n",
    "    # IMPLEMENT THE CIRCUIT\n",
    "\n",
    "    # RETURN THE STATE\n",
    "\n",
    "\n",
    "many_rotations()"
   ]
  },
  {
   "cell_type": "code",
   "execution_count": 34,
   "metadata": {},
   "outputs": [],
   "source": [
    "import pennylane as qml\n",
    "dev = qml.device('default.qubit',wires = 3)\n",
    "qml.qnode(dev)\n",
    "def just_enough():\n",
    "    qml.Hadamard(wires=0)\n",
    "    qml.Hadamard(wires=1)\n",
    "    qml.Hadamard(wires=2)\n",
    "    qml.S(wires=0)\n",
    "    qml.Hadamard(wires = 0)\n",
    "    qml.adjoint(qml.S)(wires = 0)\n",
    "    qml.Hadamard(wires=0)\n",
    "    qml.T(wires=1)\n",
    "    qml.Hadamard(wires=1)\n",
    "    qml.PauliZ(wires=1)\n",
    "    qml.Hadamard(wires=1)\n",
    "    qml.adjoint(qml.T)(wires=2)\n",
    "    qml.Hadamard(wires=2)\n",
    "    qml.adjoint(qml.S)(wires=2)\n",
    "    qml.adjoint(qml.T)(wires = 2)\n",
    "    qml.Hadamard(wires=2)\n",
    "    return qml.probs(wires=[0,1,2])"
   ]
  },
  {
   "cell_type": "code",
   "execution_count": 35,
   "id": "96150130",
   "metadata": {},
   "outputs": [],
   "source": [
    "#March 22\n",
    "import pennylane as qml\n",
    "import numpy as np\n",
    "import matplotlib.pyplot as plt"
   ]
  },
  {
   "cell_type": "code",
   "execution_count": 36,
   "id": "281f5e95",
   "metadata": {},
   "outputs": [],
   "source": [
    "dev = qml.device('default.qubit',wires=1)"
   ]
  },
  {
   "cell_type": "code",
   "execution_count": 37,
   "id": "89c28cb1",
   "metadata": {},
   "outputs": [],
   "source": [
    "''' Write a QNode that applies qml.RX with an angle of  π to one of the computational basis states. What operation is this? '''\n",
    "@qml.qnode(dev)\n",
    "def apply_rx_pi(states):\n",
    "    if states == 1:\n",
    "        qml.X(wires=0)\n",
    "    qml.RX(np.pi,wires=0)\n",
    "    return qml.state()\n",
    "ans = apply_rx_pi(1)\n"
   ]
  },
  {
   "cell_type": "code",
   "execution_count": 38,
   "id": "e21b5d1a",
   "metadata": {},
   "outputs": [],
   "source": [
    "dev = qml.device('default.qubit', wires=1)\n",
    "\n",
    "@qml.qnode(dev)\n",
    "def apply_rx(theta, state):\n",
    "    \"\"\"Apply an RX gate with an angle of theta to a particular basis state.\n",
    "    \n",
    "    Args:\n",
    "        theta (float): A rotation angle.\n",
    "        state (int): Either 0 or 1. If 1, initialize the qubit to state |1>\n",
    "            before applying other operations.\n",
    "    \n",
    "    Returns:\n",
    "        array[complex]: The state of the qubit after the operations.\n",
    "    \"\"\"\n",
    "    if state == 1:\n",
    "        qml.PauliX(wires=0)\n",
    "\n",
    "    ##################\n",
    "    # YOUR CODE HERE #\n",
    "    ##################\n",
    "\n",
    "    # APPLY RX(theta) AND RETURN THE STATE\n",
    "    qml.RX(theta,wires = 0)\n",
    "    return qml.state()\n",
    "\n",
    "# Code for plotting\n",
    "angles = np.linspace(0, 4*np.pi, 200)\n",
    "output_states = np.array([apply_rx(t, 0) for t in angles])\n",
    "\n",
    "\n"
   ]
  },
  {
   "cell_type": "code",
   "execution_count": 39,
   "id": "01eb3049",
   "metadata": {},
   "outputs": [],
   "source": [
    "dev = qml.device('default.qubit', wires=1)\n",
    "\n",
    "@qml.qnode(dev)\n",
    "def apply_ry(theta, state):\n",
    "    \"\"\"Apply an RY gate with an angle of theta to a particular basis state.\n",
    "    \n",
    "    Args:\n",
    "        theta (float): A rotation angle.\n",
    "        state (int): Either 0 or 1. If 1, initialize the qubit to state |1>\n",
    "            before applying other operations.\n",
    "    \n",
    "    Returns:\n",
    "        array[complex]: The state of the qubit after the operations.\n",
    "    \"\"\"\n",
    "    if state == 1:\n",
    "        qml.PauliX(wires=0)\n",
    "\n",
    "    ##################\n",
    "    # YOUR CODE HERE #\n",
    "    ##################\n",
    "    qml.RY(theta,wires = 0)\n",
    "    return qml.state()\n",
    "    # APPLY RY(theta) AND RETURN THE STATE\n",
    "\n",
    "    return\n",
    "\n",
    "# Code for plotting\n",
    "# angles_Y = np.linspace(0, 4*np.pi, 200)\n",
    "output_states_Y= np.array([apply_ry(t, 0) for t in angles])\n",
    "\n"
   ]
  },
  {
   "cell_type": "code",
   "execution_count": 40,
   "id": "bcc0a109",
   "metadata": {},
   "outputs": [
    {
     "name": "stderr",
     "output_type": "stream",
     "text": [
      "/opt/homebrew/Caskroom/miniforge/base/envs/tensorflow/lib/python3.9/site-packages/numpy/core/_asarray.py:83: ComplexWarning: Casting complex values to real discards the imaginary part\n",
      "  return array(a, dtype, copy=False, order=order)\n",
      "/opt/homebrew/Caskroom/miniforge/base/envs/tensorflow/lib/python3.9/site-packages/numpy/core/_asarray.py:83: ComplexWarning: Casting complex values to real discards the imaginary part\n",
      "  return array(a, dtype, copy=False, order=order)\n"
     ]
    },
    {
     "data": {
      "image/png": "[encoded data removed]",
      "text/plain": [
       "<Figure size 432x288 with 1 Axes>"
      ]
     },
     "metadata": {
      "needs_background": "light"
     },
     "output_type": "display_data"
    }
   ],
   "source": [
    "plt.plot(angles,output_states)\n",
    "plt.plot(angles,output_states_Y)\n",
    "plt.show()"
   ]
  },
  {
   "cell_type": "code",
   "execution_count": 41,
   "id": "1456fedc",
   "metadata": {},
   "outputs": [
    {
     "name": "stdout",
     "output_type": "stream",
     "text": [
      "[-0.5+0.5j  0.5-0.5j]\n"
     ]
    }
   ],
   "source": [
    "dev = qml.device(\"default.qubit\", wires=1)\n",
    "\n",
    "##################\n",
    "# YOUR CODE HERE #\n",
    "##################\n",
    "\n",
    "# ADJUST THE VALUES OF PHI, THETA, AND OMEGA\n",
    "phi, theta, omega = 0, np.pi/2, np.pi/2\n",
    "\n",
    "@qml.qnode(dev)\n",
    "def hadamard_with_rz_rx():\n",
    "    qml.RZ(np.pi, wires=0)\n",
    "    qml.RX(1/2 * np.pi, wires=0)\n",
    "    qml.RZ(3/2 * np.pi, wires=0)\n",
    "    return qml.state()\n",
    "print(hadamard_with_rz_rx())\n"
   ]
  },
  {
   "cell_type": "code",
   "execution_count": 42,
   "id": "8d87c64c",
   "metadata": {},
   "outputs": [
    {
     "data": {
      "text/plain": [
       "tensor([0.5-0.5j       , 0. +0.70710678j], requires_grad=True)"
      ]
     },
     "execution_count": 42,
     "metadata": {},
     "output_type": "execute_result"
    }
   ],
   "source": [
    "'''\n",
    "We have |0> ---H---S---T*----Y---\n",
    "'''\n",
    "dev = qml.device('default.qubit',wires = 1)\n",
    "@qml.qnode(dev)\n",
    "def convert_to_rz_rz():\n",
    "    qml.Hadamard(wires=0)\n",
    "    qml.S(wires=0)\n",
    "    qml.adjoint(qml.T)(wires = 0)\n",
    "    qml.PauliY(wires=0)\n",
    "    return qml.state()\n",
    "convert_to_rz_rz()\n"
   ]
  },
  {
   "cell_type": "code",
   "execution_count": 43,
   "id": "276974c7",
   "metadata": {},
   "outputs": [
    {
     "data": {
      "text/plain": [
       "tensor([-0.27059805+0.65328148j, -0.27059805-0.65328148j], requires_grad=True)"
      ]
     },
     "execution_count": 43,
     "metadata": {},
     "output_type": "execute_result"
    }
   ],
   "source": [
    "'''\n",
    "We have |0> ---H---S---T*----Y---\n",
    "'''\n",
    "phi, theta, omega =np.pi/2 , np.pi/2, np.pi/2\n",
    "dev = qml.device('default.qubit',wires = 1)\n",
    "@qml.qnode(dev)\n",
    "def convert_to_rz_rz():\n",
    "    # IMPLEMENT THE CIRCUIT IN THE PICTURE USING ONLY RZ AND RX\n",
    "    qml.RZ(np.pi/2, wires=0)\n",
    "    qml.RX(np.pi/2, wires=0)\n",
    "    qml.RZ(np.pi/2, wires=0)\n",
    "    qml.RZ(np.pi/2, wires=0)\n",
    "    qml.adjoint(qml.RZ)(np.pi/4,wires = 0)\n",
    "    qml.RX(np.pi,wires= 0 )\n",
    "    qml.RZ(np.pi,wires = 0)\n",
    "    return qml.state()\n",
    "convert_to_rz_rz()\n"
   ]
  },
  {
   "cell_type": "code",
   "execution_count": 44,
   "id": "afa07a3a",
   "metadata": {},
   "outputs": [
    {
     "name": "stdout",
     "output_type": "stream",
     "text": [
      "Direct S:  [1.+0.j 0.+0.j]\n",
      "Direct T:  [1.+0.j 0.+0.j]\n",
      "Rotate Z by 90 for S: [0.70710678+0.70710678j 0.        +0.j        ]\n",
      "Rotate Z by 45 for T: [0.92387953-0.38268343j 0.        +0.j        ]\n"
     ]
    }
   ],
   "source": [
    "@qml.qnode(dev)\n",
    "def check_s_and_t():\n",
    "    qml.S(wires = 0)\n",
    "    return qml.state()\n",
    "print(\"Direct S: \",check_s_and_t())\n",
    "\n",
    "@qml.qnode(dev)\n",
    "def check_s_and_t():\n",
    "    qml.T(wires = 0)\n",
    "    return qml.state()\n",
    "print(\"Direct T: \",check_s_and_t())\n",
    "\n",
    "@qml.qnode(dev)\n",
    "def check_s_and_t():\n",
    "    qml.RZ(-np.pi/2,wires = 0)\n",
    "    return qml.state()\n",
    "print(\"Rotate Z by 90 for S:\",check_s_and_t())\n",
    "\n",
    "@qml.qnode(dev)\n",
    "def check_s_and_t():\n",
    "    qml.RZ(np.pi/4,wires = 0)\n",
    "    return qml.state()\n",
    "print(\"Rotate Z by 45 for T:\",check_s_and_t())"
   ]
  },
  {
   "cell_type": "code",
   "execution_count": 45,
   "id": "22a6af7c",
   "metadata": {},
   "outputs": [
    {
     "data": {
      "text/plain": [
       "tensor([0.85355339+0.35355339j, 0.35355339+0.14644661j], requires_grad=True)"
      ]
     },
     "execution_count": 45,
     "metadata": {},
     "output_type": "execute_result"
    }
   ],
   "source": [
    "'''\n",
    "given U = (1/sqrt(2))^3[[[1 + T + i(1-T)],[1 - T + i(1+T)]],\n",
    "           [[1 + T - i(1-T)],[1 - T - i(1+T)]]]\n",
    "where T = e^(ipi/4)\n",
    "Obtain above gate using H and T gates.\n",
    "'''\n",
    "@qml.qnode(dev)\n",
    "def U_from_H_and_T():\n",
    "    qml.Hadamard(wires = 0)\n",
    "    qml.T(wires=0)\n",
    "    qml.Hadamard(wires=0)\n",
    "    qml.T(wires=0)\n",
    "    qml.T(wires=0)\n",
    "    qml.Hadamard(wires=0)\n",
    "    return qml.state()\n",
    "U_from_H_and_T()\n",
    "\n",
    "\n"
   ]
  },
  {
   "cell_type": "code",
   "execution_count": 46,
   "id": "9e7bbc39",
   "metadata": {},
   "outputs": [
    {
     "name": "stdout",
     "output_type": "stream",
     "text": [
      "[0.49365933-0.24166034j 0.75032489+0.36730546j]\n",
      "\n",
      "0: ──MottonenStatePreparation(M0)─┤  State\n"
     ]
    }
   ],
   "source": [
    "v = np.array([0.52889389-0.14956775j, 0.67262317+0.49545818j])\n",
    "\n",
    "##################\n",
    "# YOUR CODE HERE #\n",
    "##################\n",
    "\n",
    "# CREATE A DEVICE\n",
    "\n",
    "\n",
    "# CONSTRUCT A QNODE THAT USES qml.MottonenStatePreparation\n",
    "# TO PREPARE A QUBIT IN STATE V, AND RETURN THE STATE\n",
    "dev = qml.device(\"default.qubit\",wires = 1)\n",
    "@qml.qnode(dev)\n",
    "def prepare_state(state=v):\n",
    "    qml.MottonenStatePreparation(v,wires = 0)\n",
    "    return qml.state()\n",
    "\n",
    "# This will draw the quantum circuit and allow you to inspect the output gates\n",
    "print(prepare_state(v))\n",
    "print()\n",
    "print(qml.draw(prepare_state)(v))\n"
   ]
  },
  {
   "cell_type": "code",
   "execution_count": 47,
   "id": "a652bec8",
   "metadata": {},
   "outputs": [
    {
     "name": "stdout",
     "output_type": "stream",
     "text": [
      "[0.5 0.5]\n",
      "[0.5 0.5]\n"
     ]
    }
   ],
   "source": [
    "import pennylane as qml\n",
    "import numpy as np\n",
    "dev = qml.device(\"default.qubit\", wires=1)\n",
    "\n",
    "@qml.qnode(dev)\n",
    "def apply_h_and_measure(state):\n",
    "    \"\"\"Complete the function such that we apply the Hadamard gate\n",
    "    and measure in the computational basis.\n",
    "    \n",
    "    Args:\n",
    "        state (int): Either 0 or 1. If 1, prepare the qubit in state |1>,\n",
    "            otherwise leave it in state 0.\n",
    "    Returns:\n",
    "        array[float]: The measurement outcome probabilities.\n",
    "    \"\"\"\n",
    "    if state == 1:\n",
    "        qml.PauliX(wires=0)\n",
    "\n",
    "    ##################\n",
    "    # YOUR CODE HERE #\n",
    "    ##################\n",
    "    qml.Hadamard(wires = 0)\n",
    "    return qml.probs(wires = 0)\n",
    "    # APPLY HADAMARD AND MEASURE\n",
    "\n",
    "    return\n",
    "\n",
    "print(apply_h_and_measure(0))\n",
    "print(apply_h_and_measure(1))\n"
   ]
  },
  {
   "cell_type": "code",
   "execution_count": 48,
   "id": "b9bceef0",
   "metadata": {},
   "outputs": [],
   "source": [
    "# WRITE A QUANTUM FUNCTION THAT PREPARES (1/2)|0> + i(sqrt(3)/2)|1>\n",
    "def prepare_psi():\n",
    "    qml.RX(np.pi * 2/3,wires = 0)\n",
    "    qml.RZ(np.pi,wires = 0)\n",
    "\n",
    "\n",
    "\n",
    "# WRITE A QUANTUM FUNCTION THAT SENDS BOTH |0> TO |y_+> and |1> TO |y_->\n",
    "def y_basis_rotation():\n",
    "    qml.Hadamard(wires = 0)\n",
    "    qml.RZ(np.pi/2,wires = 0)"
   ]
  },
  {
   "cell_type": "code",
   "execution_count": 49,
   "id": "8587a257",
   "metadata": {},
   "outputs": [
    {
     "name": "stdout",
     "output_type": "stream",
     "text": [
      "[0.9330127 0.0669873]\n"
     ]
    }
   ],
   "source": [
    "'''\n",
    " Now that we know how to produce the two basis states, we can perform a measurement in that basis.\n",
    "  To do so, we must apply the adjoint of these operations to rotate back from that basis to the computational one.\n",
    "   Using your quantum function from the previous exercise, perform the basis rotation and return determine the measurement outcome probabilities.\n",
    "'''\n",
    "dev = qml.device(\"default.qubit\", wires=1)\n",
    "\n",
    "@qml.qnode(dev)\n",
    "def measure_in_y_basis():\n",
    "    ##################\n",
    "    # YOUR CODE HERE #\n",
    "    ##################\n",
    "    \n",
    "    # PREPARE THE STATE\n",
    "    prepare_psi()\n",
    "    qml.adjoint(y_basis_rotation)()\n",
    "    \n",
    "\n",
    "    # PERFORM THE ROTATION BACK TO COMPUTATIONAL BASIS\n",
    "    # qml.adjoint(qml.RZ)(np.pi *3/2,wires = 0)\n",
    "    # RETURN THE MEASUREMENT OUTCOME PROBABILITIES\n",
    "    return qml.probs(wires = 0)\n",
    "    return \n",
    "print(measure_in_y_basis())\n"
   ]
  },
  {
   "cell_type": "markdown",
   "id": "605aeefc",
   "metadata": {},
   "source": [
    "# Observation\n",
    "Given a matrix and state, calculate the observation.\\\n",
    "XANADU 10\n",
    "\n"
   ]
  },
  {
   "cell_type": "code",
   "execution_count": 50,
   "id": "f2216cc1",
   "metadata": {},
   "outputs": [
    {
     "data": {
      "text/plain": [
       "array([-0.56155281+0.j,  3.56155281+0.j])"
      ]
     },
     "execution_count": 50,
     "metadata": {},
     "output_type": "execute_result"
    }
   ],
   "source": [
    "B = [[1,-2j],[2j,2]]\n",
    "eigen_val = np.linalg.eigvals(B)\n",
    "eigen_val"
   ]
  },
  {
   "cell_type": "code",
   "execution_count": 51,
   "id": "baf85786",
   "metadata": {},
   "outputs": [
    {
     "name": "stdout",
     "output_type": "stream",
     "text": [
      "0.5615528128088303 -3.5615528128088303\n"
     ]
    }
   ],
   "source": [
    "x1 = (-3+np.sqrt(17))/2\n",
    "x2 = (-3-np.sqrt(17))/2\n",
    "print(x1,x2)"
   ]
  },
  {
   "cell_type": "code",
   "execution_count": 52,
   "id": "b0c3647f",
   "metadata": {},
   "outputs": [
    {
     "name": "stdout",
     "output_type": "stream",
     "text": [
      "0.6400000000000001 (0.36-0j)\n",
      "(1+0j)\n"
     ]
    }
   ],
   "source": [
    "ket_0 = 4/5\n",
    "ket_1 = - 3/5 * np.exp(0j*np.pi/3)\n",
    "ket_P = np.power(ket_1,2)\n",
    "ket_f = np.power(ket_0,2)\n",
    "print(ket_f,ket_P)\n",
    "print(ket_f+ket_P)"
   ]
  },
  {
   "cell_type": "code",
   "execution_count": 53,
   "id": "5a03f0bb",
   "metadata": {},
   "outputs": [
    {
     "data": {
      "text/plain": [
       "(0.9227652124135276+0j)"
      ]
     },
     "execution_count": 53,
     "metadata": {},
     "output_type": "execute_result"
    }
   ],
   "source": [
    "exp_B = ket_f*eigen_val[0] + ket_P* eigen_val[1]\n",
    "exp_B"
   ]
  },
  {
   "cell_type": "code",
   "execution_count": 54,
   "id": "5c79c047",
   "metadata": {},
   "outputs": [
    {
     "data": {
      "text/plain": [
       "(1.36-5.329070518200751e-17j)"
      ]
     },
     "execution_count": 54,
     "metadata": {},
     "output_type": "execute_result"
    }
   ],
   "source": [
    "psi = np.asarray([ket_0,ket_1])\n",
    "np.dot(psi.conj(),np.dot(B,psi))\n"
   ]
  },
  {
   "cell_type": "code",
   "execution_count": 55,
   "id": "57f58e60",
   "metadata": {},
   "outputs": [
    {
     "name": "stdout",
     "output_type": "stream",
     "text": [
      "[ 0.8-0.j -0.6-0.j] [[1, (-0-2j)], [2j, 2]] [ 0.8+0.j -0.6+0.j]\n"
     ]
    }
   ],
   "source": [
    "print(psi.conj(),B,psi)"
   ]
  },
  {
   "cell_type": "code",
   "execution_count": 56,
   "id": "c5c24182",
   "metadata": {},
   "outputs": [
    {
     "data": {
      "text/plain": [
       "0.9238795325112867"
      ]
     },
     "execution_count": 56,
     "metadata": {},
     "output_type": "execute_result"
    }
   ],
   "source": [
    "np.cos(np.pi/8)"
   ]
  },
  {
   "cell_type": "code",
   "execution_count": 57,
   "id": "27b13b11",
   "metadata": {},
   "outputs": [
    {
     "name": "stdout",
     "output_type": "stream",
     "text": [
      "-0.7071067811865471\n"
     ]
    }
   ],
   "source": [
    "'''\n",
    "The Circuit is |0> R_x(pi/4),H,Z and measure on Y basis\n",
    "'''\n",
    "dev = qml.device('default.qubit',wires  = 1)\n",
    "@qml.qnode(dev)\n",
    "def fun():\n",
    "    qml.RX(np.pi/4,wires = 0)\n",
    "    qml.Hadamard(wires = 0)\n",
    "    qml.PauliZ(wires = 0)\n",
    "    return qml.expval(qml.PauliY(0))\n",
    "print(fun())\n"
   ]
  },
  {
   "cell_type": "code",
   "execution_count": 58,
   "id": "d1dbef1e",
   "metadata": {},
   "outputs": [
    {
     "name": "stdout",
     "output_type": "stream",
     "text": [
      "17.11916485072175\n"
     ]
    },
    {
     "name": "stderr",
     "output_type": "stream",
     "text": [
      "/opt/homebrew/Caskroom/miniforge/base/envs/tensorflow/lib/python3.9/site-packages/pennylane/ops/qubit/matrix_ops.py:83: UserWarning: Operator [[-0.70710678+0.70710678j  0.70710678+0.70710678j]\n",
      " [ 0.70710678-1.20710678j  0.5       +0.70710678j]]\n",
      " may not be unitary.Verify unitarity of operation, or use a datatype with increased precision.\n",
      "  warnings.warn(\n"
     ]
    }
   ],
   "source": [
    "#Custom Observable\n",
    "O = np.array([[3, 4j], [-4j, 3]])\n",
    "@qml.qnode(dev)\n",
    "def fun():\n",
    "    qml.RX(np.pi/4,wires = 0)\n",
    "    qml.Hadamard(wires = 0)\n",
    "    qml.PauliZ(wires = 0)\n",
    "    return qml.expval(qml.Hermitian(O,wires=0))\n",
    "print(fun())\n",
    "\n"
   ]
  },
  {
   "cell_type": "code",
   "execution_count": 59,
   "id": "9293181f",
   "metadata": {},
   "outputs": [
    {
     "name": "stdout",
     "output_type": "stream",
     "text": [
      "[-0.8, -0.726, -0.7234, -0.70972, -0.707738]\n"
     ]
    }
   ],
   "source": [
    "# An array to store your results\n",
    "shot_results = []\n",
    "\n",
    "# Different numbers of shots\n",
    "shot_values = [100, 1000, 10000, 100000, 1000000]\n",
    "\n",
    "for shots in shot_values: \n",
    "    ##################\n",
    "    # YOUR CODE HERE #\n",
    "    ##################\n",
    "    dev = qml.device(\"default.qubit\",wires = 1,shots = shots)\n",
    "    @qml.qnode(dev)\n",
    "    def circuit():\n",
    "        qml.RX(np.pi/4,wires = 0)\n",
    "        qml.Hadamard(wires = 0)\n",
    "        qml.PauliZ(wires = 0)\n",
    "        return qml.expval(qml.PauliY(0))\n",
    "    shot_results.append(circuit())\n",
    "\n",
    "    # CREATE A DEVICE, CREATE A QNODE, AND RUN IT\n",
    "\n",
    "    # STORE RESULT IN SHOT_RESULTS ARRAY\n",
    "    \n",
    "\n",
    "\n",
    "print(qml.math.unwrap(shot_results))\n"
   ]
  },
  {
   "cell_type": "code",
   "execution_count": 60,
   "id": "6343ef23",
   "metadata": {},
   "outputs": [
    {
     "name": "stdout",
     "output_type": "stream",
     "text": [
      "(tensor([-1,  1], requires_grad=True), array([89, 11]))\n",
      "(tensor([-1,  1], requires_grad=True), array([856, 144]))\n",
      "(tensor([-1,  1], requires_grad=True), array([8584, 1416]))\n",
      "(tensor([-1,  1], requires_grad=True), array([85138, 14862]))\n",
      "(tensor([-1,  1], requires_grad=True), array([853881, 146119]))\n"
     ]
    }
   ],
   "source": [
    "# An array to store your results\n",
    "shot_results = []\n",
    "\n",
    "# Different numbers of shots\n",
    "shot_values = [100, 1000, 10000, 100000, 1000000]\n",
    "\n",
    "for shots in shot_values: \n",
    "    ##################\n",
    "    # YOUR CODE HERE #\n",
    "    ##################\n",
    "    dev = qml.device(\"default.qubit\",wires = 1,shots = shots)\n",
    "    @qml.qnode(dev)\n",
    "    def circuit():\n",
    "        qml.RX(np.pi/4,wires = 0)\n",
    "        qml.Hadamard(wires = 0)\n",
    "        qml.PauliZ(wires = 0)\n",
    "        return qml.sample(qml.PauliY(0))\n",
    "    uq = np.unique(circuit(),return_counts=True)\n",
    "    print(uq)\n"
   ]
  },
  {
   "cell_type": "code",
   "execution_count": 61,
   "id": "af01177d",
   "metadata": {},
   "outputs": [
    {
     "name": "stdout",
     "output_type": "stream",
     "text": [
      "[-1 -1 -1 ... -1 -1 -1]\n",
      "[-1  1] [85472 14528]\n"
     ]
    }
   ],
   "source": [
    "dev = qml.device(\"default.qubit\",wires = 1,shots = 100000)\n",
    "@qml.qnode(dev)\n",
    "def circuit():\n",
    "    qml.RX(np.pi/4,wires = 0)\n",
    "    qml.Hadamard(wires = 0)\n",
    "    qml.PauliZ(wires = 0)\n",
    "    return qml.sample(qml.PauliY(0))\n",
    "outputs_ = circuit()\n",
    "print(outputs_)\n",
    "uq = np.unique(outputs_,return_counts=True)\n",
    "print(uq[0],uq[1])\n"
   ]
  },
  {
   "cell_type": "code",
   "execution_count": 62,
   "id": "4d353467",
   "metadata": {},
   "outputs": [
    {
     "name": "stdout",
     "output_type": "stream",
     "text": [
      "-0.70792\n"
     ]
    }
   ],
   "source": [
    "dev = qml.device(\"default.qubit\", wires=1, shots=100000)\n",
    "\n",
    "@qml.qnode(dev)\n",
    "def circuit():\n",
    "    qml.RX(np.pi/4, wires=0)\n",
    "    qml.Hadamard(wires=0)\n",
    "    qml.PauliZ(wires=0)\n",
    "\n",
    "    ##################\n",
    "    # YOUR CODE HERE #\n",
    "    ##################\n",
    "\n",
    "    # RETURN THE MEASUREMENT SAMPLES OF THE CORRECT OBSERVABLE\n",
    "\n",
    "    return qml.sample(qml.PauliY(wires = 0))\n",
    "\n",
    "\n",
    "def compute_expval_from_samples(samples):\n",
    "    \"\"\"Compute the expectation value of an observable given a set of \n",
    "    sample outputs. You can assume that there are two possible outcomes,\n",
    "    1 and -1. \n",
    "    \n",
    "    Args: \n",
    "        samples (array[float]): 100000 samples representing the results of\n",
    "            running the above circuit.\n",
    "        \n",
    "    Returns:\n",
    "        float: the expectation value computed based on samples.\n",
    "    \"\"\"\n",
    "\n",
    "    estimated_expval = 0\n",
    "\n",
    "    ##################\n",
    "    # YOUR CODE HERE #\n",
    "    ##################\n",
    "    counts_ = np.unique(samples,return_counts = True)\n",
    "    estimated_expval = (counts_[0][0] * counts_[1][0] + counts_[0][1] * counts_[1][1] )/len(samples)\n",
    "\n",
    "    # USE THE SAMPLES TO ESTIMATE THE EXPECTATION VALUE\n",
    "\n",
    "    return estimated_expval\n",
    "\n",
    "\n",
    "samples = circuit()\n",
    "print(compute_expval_from_samples(samples))\n"
   ]
  },
  {
   "cell_type": "code",
   "execution_count": 63,
   "id": "325eb851",
   "metadata": {},
   "outputs": [
    {
     "data": {
      "image/png": "[encoded data removed]",
      "text/plain": [
       "<Figure size 432x288 with 1 Axes>"
      ]
     },
     "metadata": {
      "needs_background": "light"
     },
     "output_type": "display_data"
    }
   ],
   "source": [
    "def variance_experiment(n_shots):\n",
    "    \"\"\"Run an experiment to determine the variance in an expectation\n",
    "    value computed with a given number of shots.\n",
    "    \n",
    "    Args:\n",
    "        n_shots (int): The number of shots\n",
    "        \n",
    "    Returns:\n",
    "        float: The variance in expectation value we obtain running the \n",
    "        circuit 100 times with n_shots shots each.\n",
    "    \"\"\"\n",
    "\n",
    "    # To obtain a variance, we run the circuit multiple times at each shot value.\n",
    "    n_trials = 20\n",
    "    dev = qml.device('default.qubit',wires = 1,shots = n_shots)\n",
    "    @qml.qnode(dev)\n",
    "    def circuit():\n",
    "        qml.Hadamard(wires=0)\n",
    "        return qml.expval(qml.PauliZ(wires=0))\n",
    "    answer = []\n",
    "    for i in range(n_trials):\n",
    "        answer.append(circuit())\n",
    "\n",
    "    # RUN THE QNODE N_TRIALS TIMES AND RETURN THE VARIANCE OF THE RESULTS\n",
    "\n",
    "    return np.var(answer)\n",
    "\n",
    "def variance_scaling(n_shots):\n",
    "    \"\"\"Once you have determined how the variance in expectation value scales\n",
    "    with the number of shots, complete this function to programmatically\n",
    "    represent the relationship.\n",
    "    \n",
    "    Args:\n",
    "        n_shots (int): The number of shots\n",
    "        \n",
    "    Returns:\n",
    "        float: The variance in expectation value we expect to see when we run\n",
    "        an experiment with n_shots shots.\n",
    "    \"\"\"\n",
    "    \n",
    "\n",
    "    estimated_variance = 1.0\n",
    "\n",
    "    ##################\n",
    "    # YOUR CODE HERE #\n",
    "    ##################\n",
    "    \n",
    "    # ESTIMATE THE VARIANCE BASED ON SHOT NUMBER\n",
    "\n",
    "    return estimated_variance/n_shots\n",
    "\n",
    "# Various numbers of shots; you can change this\n",
    "# shot_vals = [10, 20, 30, 100, 200, 400, 1000, 2000, 4000,10000,25000]\n",
    "shot_vals = [i for i in range(10,500,10)]\n",
    "\n",
    "# Used to plot your results\n",
    "results_experiment = [variance_experiment(shots) for shots in shot_vals]\n",
    "results_scaling = [variance_scaling(shots) for shots in shot_vals]\n",
    "# plot = plotter(shot_vals, results_experiment, results_scaling)\n",
    "plt.scatter(shot_vals, results_experiment,label = \"Experiment\")\n",
    "plt.scatter(shot_vals, results_scaling,label = \"Automate Function\")\n",
    "plt.xlabel(\"No of shots\")\n",
    "plt.ylabel(\"Variance\")\n",
    "plt.legend()\n",
    "plt.show()\n"
   ]
  },
  {
   "cell_type": "markdown",
   "id": "86f4bc96",
   "metadata": {},
   "source": [
    "The following code contains the Eigen values and Eigen vectors computation for calculating the possible outcomes of the observable and \n",
    "the possible states after the measurements. The Eigen values gives the possible outcomes of the observables and the eigen vectors gives \n",
    "the possible state after the measurements.\\\n",
    "I used a numpy linear algebra library for calculations."
   ]
  },
  {
   "cell_type": "code",
   "execution_count": 64,
   "id": "7607abae",
   "metadata": {},
   "outputs": [
    {
     "name": "stdout",
     "output_type": "stream",
     "text": [
      "Eigen Values: [12.43630838 -1.16372671  1.72741833]\n",
      "Eigen Vectors: [[-0.27711909 -0.37156555 -0.01723182]\n",
      " [-0.81046065 -0.62618313 -0.83385014]\n",
      " [-0.51609936  0.68544419  0.55172185]]\n"
     ]
    }
   ],
   "source": [
    "matrix_A = [[1,2,3],[1,7,8],[8,2,5]]\n",
    "eigen_values = np.linalg.eigvals(matrix_A)\n",
    "eigen_vectors = np.linalg.eig(matrix_A)\n",
    "print(f\"Eigen Values: {eigen_values}\")\n",
    "print(f\"Eigen Vectors: {eigen_vectors[1]}\")"
   ]
  },
  {
   "cell_type": "code",
   "execution_count": 65,
   "id": "87ac4dfc",
   "metadata": {},
   "outputs": [
    {
     "data": {
      "text/plain": [
       "(array([ 2.41421356, -0.41421356]),\n",
       " array([[ 0.57735027, -0.57735027],\n",
       "        [ 0.81649658,  0.81649658]]))"
      ]
     },
     "execution_count": 65,
     "metadata": {},
     "output_type": "execute_result"
    }
   ],
   "source": [
    "A = [[1,1],[2,1]]\n",
    "np.linalg.eig(A)"
   ]
  },
  {
   "cell_type": "code",
   "execution_count": 66,
   "id": "9127d59a",
   "metadata": {},
   "outputs": [
    {
     "data": {
      "text/plain": [
       "(array([ 1., -1.]),\n",
       " array([[1., 0.],\n",
       "        [0., 1.]]))"
      ]
     },
     "execution_count": 66,
     "metadata": {},
     "output_type": "execute_result"
    }
   ],
   "source": [
    "Z = [[1,0],[0,-1]]\n",
    "np.linalg.eig(Z)"
   ]
  },
  {
   "cell_type": "code",
   "execution_count": 67,
   "id": "cf4f4b4c",
   "metadata": {},
   "outputs": [
    {
     "name": "stdout",
     "output_type": "stream",
     "text": [
      "[-0.56155281  3.56155281]\n"
     ]
    },
    {
     "data": {
      "text/plain": [
       "array([[-0.78820544-0.78820544j, -0.61541221+0.0058556j ],\n",
       "       [ 0.61541221-0.61541221j, -0.62126781+0.78820544j]])"
      ]
     },
     "execution_count": 67,
     "metadata": {},
     "output_type": "execute_result"
    }
   ],
   "source": [
    "# We are given,\n",
    "a = np.asarray([ 4/5.0 *1,0])\n",
    "b = np.asarray([0,3/5.0 * np.exp(np.pi/3*1j)*1])\n",
    "psi = np.asarray([a[0]-b[0],a[1]-b[1]])\n",
    "B = np.asarray([[1,-2j],[2j,2]])\n",
    "Possible_outcomes = np.linalg.eigvalsh(B) #For Hermitian Matrix\n",
    "print(Possible_outcomes)\n",
    "np.linalg.eigh(np.conj(np.asarray(B)))[1]"
   ]
  },
  {
   "cell_type": "markdown",
   "id": "86584efd",
   "metadata": {},
   "source": [
    "The Expected value of an Observables,B, is defined as $\n",
    "\\langle B \\rangle = \\bra{\\psi} B \\ket{\\psi}\n",
    "$"
   ]
  },
  {
   "cell_type": "code",
   "execution_count": 68,
   "id": "15b93423",
   "metadata": {},
   "outputs": [
    {
     "data": {
      "text/plain": [
       "-0.3027687752661221"
      ]
     },
     "execution_count": 68,
     "metadata": {},
     "output_type": "execute_result"
    }
   ],
   "source": [
    "expected_B = np.dot(np.conjugate(psi.T),np.dot(B,psi))\n",
    "expected_B.real"
   ]
  },
  {
   "cell_type": "code",
   "execution_count": 69,
   "id": "7b0c559b",
   "metadata": {},
   "outputs": [
    {
     "data": {
      "text/plain": [
       "-0.337782003399859"
      ]
     },
     "execution_count": 69,
     "metadata": {},
     "output_type": "execute_result"
    }
   ],
   "source": [
    "Expected_on_1000_trials = (max(Possible_outcomes)*54 + min(Possible_outcomes)*944)/1000.0\n",
    "Expected_on_1000_trials"
   ]
  },
  {
   "cell_type": "code",
   "execution_count": 70,
   "id": "da88ef45",
   "metadata": {},
   "outputs": [
    {
     "name": "stdout",
     "output_type": "stream",
     "text": [
      "-0.7071067811865471\n"
     ]
    }
   ],
   "source": [
    "'''\n",
    "Codercise 1.10.1. The circult can be found at https://codebook.xanadu.ai/pics/exercise_i101.svg\n",
    "|0> - R_x(pi/4) - H - Z - <Y>\n",
    "'''\n",
    "dev = qml.device('default.qubit', wires=1)\n",
    "\n",
    "@qml.qnode(dev)\n",
    "def circuit():\n",
    "    ##################\n",
    "    # YOUR CODE HERE #\n",
    "    ##################\n",
    "    qml.RX(np.pi/4,wires = 0)\n",
    "    qml.Hadamard(wires = 0)\n",
    "    qml.PauliZ(0)\n",
    "\n",
    "    # IMPLEMENT THE CIRCUIT IN THE PICTURE AND MEASURE PAULI Y\n",
    "\n",
    "    return qml.expval(qml.PauliY(0))\n",
    "\n",
    "print(circuit())\n"
   ]
  },
  {
   "cell_type": "markdown",
   "id": "afcc2c8d",
   "metadata": {},
   "source": [
    "Write a circuit in PennyLane that accepts an integer value, then prepares and returns the corresponding computational basis state vector \n",
    "|\n",
    "n\n",
    "⟩\n",
    ". (Assume a 3-qubit device). Try a few examples; does the appearance of the state vector match what you expect given the integer?"
   ]
  },
  {
   "cell_type": "code",
   "execution_count": 71,
   "id": "698801f3",
   "metadata": {},
   "outputs": [
    {
     "name": "stdout",
     "output_type": "stream",
     "text": [
      "Output state = [0.+0.j 0.+0.j 0.+0.j 1.+0.j 0.+0.j 0.+0.j 0.+0.j 0.+0.j]\n"
     ]
    }
   ],
   "source": [
    "dev = qml.device('default.qubit', wires=3)\n",
    "\n",
    "@qml.qnode(dev)\n",
    "def make_basis_state(basis_id):\n",
    "    \"\"\"Produce the 3-qubit basis state corresponding to |basis_id>.\n",
    "    \n",
    "    Note that the system starts in |000>.\n",
    "\n",
    "    Args:\n",
    "        basis_id (int): An integer value identifying the basis state to construct.\n",
    "        \n",
    "    Returns:\n",
    "        array[complex]: The computational basis state |basis_id>.\n",
    "    \"\"\"\n",
    "    binary_rep = np.binary_repr(basis_id)\n",
    "    to_add = 3 - len(binary_rep)\n",
    "    binary_rep = \"0\" * to_add + binary_rep\n",
    "    qml.BasisStatePreparation([int(i) for i in binary_rep],wires=range(3))\n",
    "\n",
    "    #It can be done by the following too:\n",
    "    '''\n",
    "    for idx,val in enumerate(binary_rep): \n",
    "        if val == \"1\": qml.X(wires=idx) \n",
    "    '''\n",
    "    return qml.state()\n",
    "\n",
    "basis_id = 3\n",
    "print(f\"Output state = {make_basis_state(basis_id)}\")\n"
   ]
  },
  {
   "cell_type": "code",
   "execution_count": 72,
   "id": "6c64a576",
   "metadata": {},
   "outputs": [
    {
     "ename": "NameError",
     "evalue": "name 'binary_rep' is not defined",
     "output_type": "error",
     "traceback": [
      "\u001b[0;31m---------------------------------------------------------------------------\u001b[0m",
      "\u001b[0;31mNameError\u001b[0m                                 Traceback (most recent call last)",
      "\u001b[1;32m/Users/bikramkhanal/Desktop/Learning/ML-Learning/Quantum Computing/Quantum.ipynb Cell 77'\u001b[0m in \u001b[0;36m<cell line: 1>\u001b[0;34m()\u001b[0m\n\u001b[0;32m----> <a href='vscode-notebook-cell:/Users/bikramkhanal/Desktop/Learning/ML-Learning/Quantum%20Computing/Quantum.ipynb#ch0000076?line=0'>1</a>\u001b[0m [\u001b[39mint\u001b[39m(i) \u001b[39mfor\u001b[39;00m i \u001b[39min\u001b[39;00m binary_rep]\n",
      "\u001b[0;31mNameError\u001b[0m: name 'binary_rep' is not defined"
     ]
    }
   ],
   "source": [
    "[int(i) for i in binary_rep]"
   ]
  },
  {
   "cell_type": "markdown",
   "id": "186bf0a1",
   "metadata": {},
   "source": [
    "## 1.11.2 \n",
    "Create $\\ket{+1}  = \\ket{+} \\otimes \\ket{1}$. Then, return two measurements:\n",
    "1. the expectation value of Yon the first qubit.\n",
    "2. the expectation value of Z on the second qubit."
   ]
  },
  {
   "cell_type": "code",
   "execution_count": null,
   "id": "cedecb2a",
   "metadata": {},
   "outputs": [
    {
     "name": "stdout",
     "output_type": "stream",
     "text": [
      "[ 0. -1.]\n"
     ]
    }
   ],
   "source": [
    "dev = qml.device(\"default.qubit\",wires = 2)\n",
    "@qml.qnode(dev)\n",
    "def two_qubit_circuit():\n",
    "    ##################\n",
    "    # YOUR CODE HERE #\n",
    "    ##################\n",
    "    qml.Hadamard(0)\n",
    "    qml.PauliX(1)\n",
    "    # return qml.state()\n",
    "    # PREPARE |+>|1>\n",
    "    return qml.expval(qml.PauliY(0)),qml.expval(qml.PauliZ(1))\n",
    "    # RETURN TWO EXPECTATION VALUES, Y ON FIRST QUBIT, Z ON SECOND QUBIT\n",
    "print(two_qubit_circuit())\n"
   ]
  },
  {
   "cell_type": "markdown",
   "id": "52fe845d",
   "metadata": {},
   "source": [
    " Write a PennyLane circuit that creates the state $\\ket{1-}$\n",
    ". Then, measure the expectation value of the two-qubit observable \n",
    "Z\n",
    "⊗\n",
    "X\n",
    ". In PennyLane, you can combine observables using the @ symbol to represent the tensor product, e.g., qml.PauliZ(0) @ qml.PauliZ(1)"
   ]
  },
  {
   "cell_type": "code",
   "execution_count": null,
   "id": "2907a2a3",
   "metadata": {},
   "outputs": [
    {
     "name": "stdout",
     "output_type": "stream",
     "text": [
      "0.9999999999999996\n"
     ]
    }
   ],
   "source": [
    "dev = qml.device(\"default.qubit\", wires=2)\n",
    "\n",
    "@qml.qnode(dev)\n",
    "def create_one_minus():\n",
    "    ##################\n",
    "    # YOUR CODE HERE #\n",
    "    ##################\n",
    "\n",
    "    # PREPARE |1>|->\n",
    "    qml.PauliX(0)\n",
    "    qml.PauliX(1)\n",
    "    qml.Hadamard(1)\n",
    "\n",
    "    # RETURN A SINGLE EXPECTATION VALUE Z \\otimes X\n",
    "\n",
    "    return qml.expval(qml.PauliZ(0) @ qml.PauliX(1))\n",
    "\n",
    "\n",
    "print(create_one_minus())\n"
   ]
  },
  {
   "cell_type": "code",
   "execution_count": null,
   "id": "36e0177e",
   "metadata": {},
   "outputs": [
    {
     "data": {
      "image/png": "[encoded data removed]",
      "text/plain": [
       "<Figure size 576x432 with 1 Axes>"
      ]
     },
     "metadata": {
      "needs_background": "light"
     },
     "output_type": "display_data"
    }
   ],
   "source": [
    "dev = qml.device('default.qubit', wires=2)\n",
    "\n",
    "@qml.qnode(dev)\n",
    "def circuit_1(theta):\n",
    "    \"\"\"Implement the circuit and measure Z I and I Z.\n",
    "    Args:\n",
    "        theta (float): a rotation angle.\n",
    "        \n",
    "    Returns:\n",
    "        float, float: The expectation values of the observables Z I, and I Z\n",
    "    \"\"\"\n",
    "    ##################\n",
    "    # YOUR CODE HERE #\n",
    "    ##################  \n",
    "    qml.RX(theta,wires = 0)\n",
    "    qml.RY(2*theta,wires  = 1)\n",
    "    return qml.expval(qml.PauliZ(0)),qml.expval(qml.PauliZ(1))\n",
    "\n",
    "\n",
    "@qml.qnode(dev)\n",
    "def circuit_2(theta):\n",
    "    \"\"\"Implement the circuit and measure Z Z.\n",
    "    \n",
    "    Args:\n",
    "        theta (float): a rotation angle.\n",
    "        \n",
    "    Returns:\n",
    "        float: The expectation value of the observable Z Z\n",
    "    \"\"\" \n",
    "\n",
    "    ##################\n",
    "    # YOUR CODE HERE #\n",
    "    ##################  \n",
    "    qml.RX(theta,wires = 0)\n",
    "    qml.RY(2*theta,wires  = 1)\n",
    "    return qml.expval(qml.PauliZ(0) @ qml.PauliZ(1))\n",
    " \n",
    "\n",
    "\n",
    "\n",
    "def zi_iz_combination(ZI_results, IZ_results):\n",
    "    \"\"\"Implement a function that acts on the ZI and IZ results to\n",
    "    produce the ZZ results. How do you think they should combine?\n",
    "\n",
    "    Args:\n",
    "        ZI_results (array[float]): Results from the expectation value of \n",
    "            ZI in circuit_1.\n",
    "        IZ_results (array[float]): Results from the expectation value of \n",
    "            IZ in circuit_2.\n",
    "\n",
    "    Returns:\n",
    "        array[float]: A combination of ZI_results and IZ_results that \n",
    "        produces results equivalent to measuring ZZ.\n",
    "    \"\"\"\n",
    "\n",
    "    combined_results = np.zeros(len(ZI_results))\n",
    "\n",
    "    ##################\n",
    "    # YOUR CODE HERE #\n",
    "    ##################  \n",
    "\n",
    "    return ZI_results * IZ_results\n",
    "\n",
    " \n",
    "theta = np.linspace(0, 2 * np.pi, 100)\n",
    "\n",
    "# Run circuit 1, and process the results\n",
    "circuit_1_results = np.array([circuit_1(t) for t in theta])\n",
    "\n",
    "ZI_results = circuit_1_results[:, 0]\n",
    "IZ_results = circuit_1_results[:, 1]\n",
    "combined_results = zi_iz_combination(ZI_results, IZ_results)\n",
    "\n",
    "# Run circuit 2\n",
    "ZZ_results = np.array([circuit_2(t) for t in theta])\n",
    "\n",
    "# Plot your results\n",
    "#plot = plotter(theta, ZI_results, IZ_results, ZZ_results, combined_results)\n",
    "plt.figure(figsize = (8,6))\n",
    "plt.plot(theta,ZI_results,label = \"ZI\")\n",
    "plt.plot(theta,IZ_results,label = \"IZ\")\n",
    "plt.plot(theta,ZZ_results,label = \"Guessed ZZ\")\n",
    "plt.plot(theta,combined_results,label = \"ZZ\")\n",
    "plt.legend()\n",
    "plt.show()\n"
   ]
  },
  {
   "cell_type": "markdown",
   "id": "473a4f9e",
   "metadata": {},
   "source": [
    "# I.12\n",
    "Write a circuit that implements a CNOT gate between two qubits. Test it out on all four computational basis states. What are the resulting states? Express your answer in a dictionary that takes the form of a truth table, i.e., a table that details a set of output bits given the set of input bits:"
   ]
  },
  {
   "cell_type": "code",
   "execution_count": 91,
   "id": "3fe1ac98",
   "metadata": {},
   "outputs": [
    {
     "name": "stdout",
     "output_type": "stream",
     "text": [
      "Dev 2\n",
      "Bits [0, 0]\n",
      "[1.+0.j 0.+0.j 0.+0.j 0.+0.j]\n"
     ]
    }
   ],
   "source": [
    "dev = qml.device('default.qubit', wires=2)\n",
    "\n",
    "@qml.qnode(dev)\n",
    "def apply_cnot(basis_id):\n",
    "    \"\"\"Apply a CNOT to |basis_id>.\n",
    "\n",
    "    Args:\n",
    "        basis_id (int): An integer value identifying the basis state to construct.\n",
    "      \n",
    "    Returns:\n",
    "        array[complex]: The resulting state after applying CNOT|basis_id>.\n",
    "    \"\"\"\n",
    "\n",
    "    # Prepare the basis state |basis_id>\n",
    "    bits = [int(x) for x in np.binary_repr(basis_id, width=dev.num_wires)]\n",
    "    print(\"Dev\",dev.num_wires)\n",
    "    print(\"Bits\",bits)\n",
    "    qml.BasisStatePreparation(bits, wires=[0, 1])\n",
    "\n",
    "    ##################\n",
    "    # YOUR CODE HERE #\n",
    "    ##################\n",
    "\n",
    "    # APPLY THE CNOT\n",
    "    qml.CNOT(wires = [0,1])\n",
    "    return qml.state()\n",
    "\n",
    "\n",
    "##################\n",
    "# YOUR CODE HERE #\n",
    "##################\n",
    "\n",
    "# REPLACE THE BIT STRINGS VALUES BELOW WITH THE CORRECT ONES\n",
    "cnot_truth_table = {\n",
    "    \"00\" : \"00\",\n",
    "    \"01\" : \"01\",\n",
    "    \"10\" : \"11\",\n",
    "    \"11\" : \"10\"\n",
    "}\n",
    "\n",
    "\n",
    "# Run your QNode with various inputs to help fill in your truth table\n",
    "print(apply_cnot(0))\n"
   ]
  },
  {
   "cell_type": "markdown",
   "id": "2950b4c5",
   "metadata": {},
   "source": [
    "Implement the following circuit and inspect the output state. Is this state separable or entangled?"
   ]
  },
  {
   "cell_type": "code",
   "execution_count": 92,
   "id": "1fb172b4",
   "metadata": {},
   "outputs": [
    {
     "name": "stdout",
     "output_type": "stream",
     "text": [
      "[0.70710678+0.j 0.        +0.j 0.        +0.j 0.70710678+0.j]\n"
     ]
    }
   ],
   "source": [
    "dev = qml.device(\"default.qubit\", wires=2)\n",
    "\n",
    "@qml.qnode(dev)\n",
    "def apply_h_cnot():\n",
    "    ##################\n",
    "    # YOUR CODE HERE #\n",
    "    ##################\n",
    "\n",
    "    # APPLY THE OPERATIONS IN THE CIRCUIT\n",
    "    qml.Hadamard(wires = 0)\n",
    "    qml.CNOT(wires=[0,1])\n",
    "    return qml.state()\n",
    "\n",
    "\n",
    "print(apply_h_cnot())\n",
    "\n",
    "##################\n",
    "# YOUR CODE HERE #\n",
    "##################\n",
    "\n",
    "# SET THIS AS 'separable' OR 'entangled' BASED ON YOUR OUTCOME\n",
    "state_status = \"entangled\"\n"
   ]
  },
  {
   "cell_type": "markdown",
   "id": "e58b4ea3",
   "metadata": {},
   "source": [
    "## I.12.3\n",
    "\n",
    " Write a circuit in PennyLane that implements the following sequence of operations. Return the measurement outcome probabilities."
   ]
  },
  {
   "cell_type": "code",
   "execution_count": 93,
   "id": "262d761d",
   "metadata": {},
   "outputs": [
    {
     "name": "stdout",
     "output_type": "stream",
     "text": [
      "[5.00000000e-01 0.00000000e+00 0.00000000e+00 0.00000000e+00\n",
      " 4.98751041e-01 0.00000000e+00 1.23651067e-03 1.24480103e-05]\n"
     ]
    }
   ],
   "source": [
    "dev = qml.device('default.qubit', wires=3)\n",
    "\n",
    "@qml.qnode(dev)\n",
    "def controlled_rotations(theta, phi, omega):\n",
    "    \"\"\"Implement the circuit above and return measurement outcome probabilities.\n",
    "\n",
    "    Args:\n",
    "        theta (float): A rotation angle\n",
    "        phi (float): A rotation angle\n",
    "        omega (float): A rotation angle\n",
    "\n",
    "    Returns:\n",
    "        array[float]: Measurement outcome probabilities of the 3-qubit \n",
    "        computational basis states.\n",
    "    \"\"\"\n",
    "    \n",
    "    ##################\n",
    "    # YOUR CODE HERE #\n",
    "    ##################\n",
    "\n",
    "    # APPLY THE OPERATIONS IN THE CIRCUIT AND RETURN MEASUREMENT PROBABILITIES\n",
    "    qml.Hadamard(wires = 0)\n",
    "    qml.CRX(theta,wires = [0,1])\n",
    "    qml.CRY(phi,wires = [1,2])\n",
    "    qml.CRZ(omega,wires = [0,2])\n",
    "    return qml.probs(wires = [i for i in range(dev.num_wires)])\n",
    "\n",
    "theta, phi, omega = 0.1, 0.2, 0.3\n",
    "print(controlled_rotations(theta, phi, omega))\n"
   ]
  },
  {
   "cell_type": "code",
   "execution_count": null,
   "id": "d43f040e",
   "metadata": {},
   "outputs": [],
   "source": []
  }
 ],
 "metadata": {
  "interpreter": {
   "hash": "4bd624a0593993fe43ac4046b27b898fb2ef75c21c08f81e89e64ea0f51df676"
  },
  "kernelspec": {
   "display_name": "tf2",
   "language": "python",
   "name": "python3"
  },
  "language_info": {
   "codemirror_mode": {
    "name": "ipython",
    "version": 3
   },
   "file_extension": ".py",
   "mimetype": "text/x-python",
   "name": "python",
   "nbconvert_exporter": "python",
   "pygments_lexer": "ipython3",
   "version": "3.9.12"
  }
 },
 "nbformat": 4,
 "nbformat_minor": 5
}
