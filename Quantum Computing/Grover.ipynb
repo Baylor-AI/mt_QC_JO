{
 "cells": [
  {
   "cell_type": "code",
   "execution_count": null,
   "metadata": {},
   "outputs": [],
   "source": [
    "import pennylane as qml\n",
    "import numpy as np"
   ]
  },
  {
   "cell_type": "code",
   "execution_count": null,
   "metadata": {},
   "outputs": [],
   "source": [
    "dev = qml.device('qiskit.aer',wires = 2)\n",
    "#@qml.qnode(dev)\n",
    "\n",
    "def phase_flip_multi(solns):\n",
    "    print(solns)\n",
    "    array = np.identity(2**len(solns[0]))\n",
    "    for i,soln in enumerate(solns):\n",
    "        index = np.ravel_multi_index(soln,[2]*(len(soln))) #Gives the index of a soln on all possible orthogonal basis.\n",
    "        array[index,index] = -1\n",
    "    return array\n",
    "\n",
    "def phase_flip_single(soln):\n",
    "    array = np.identity(2**len(soln))\n",
    "    index = np.ravel_multi_index(soln,[2]*(len(soln))) #Gives the index of a soln on all possible orthogonal basis.\n",
    "    array[index,index] = -1\n",
    "    return array\n",
    "\n",
    "primary_soln = [1,0,1]    \n",
    "phase_flip_single(primary_soln)"
   ]
  },
  {
   "cell_type": "code",
   "execution_count": null,
   "metadata": {},
   "outputs": [],
   "source": [
    "#Lets say we have two solutions\n",
    "s = [[0,1,1],[1,0,1]]\n",
    "phase_flip_multi(s)"
   ]
  },
  {
   "cell_type": "markdown",
   "metadata": {},
   "source": [
    "### Grover Search.\n",
    "G.1.1"
   ]
  },
  {
   "cell_type": "code",
   "execution_count": null,
   "metadata": {},
   "outputs": [],
   "source": [
    "n_bits = 4\n",
    "dev = qml.device(\"default.qubit\", wires=n_bits)\n",
    "\n",
    "def oracle_matrix(combo):\n",
    "    \"\"\"Return the oracle matrix for a secret combination.\n",
    "    \n",
    "    Args:\n",
    "        combo (list[int]): A list of bits representing a secret combination.\n",
    "         \n",
    "    Returns: \n",
    "        array[float]: The matrix representation of the oracle.\n",
    "    \"\"\"\n",
    "    index = np.ravel_multi_index(combo, [2]*len(combo)) # Index of solution\n",
    "    my_array = np.identity(2**len(combo)) # Create the identity matrix\n",
    "    my_array[index, index] = -1\n",
    "    return my_array\n",
    "\n",
    "@qml.qnode(dev)\n",
    "def oracle_amp(combo):\n",
    "    \"\"\"Prepare the uniform superposition and apply the oracle.\n",
    "\n",
    "    Args:\n",
    "        combo (list[int]): A list of bits representing the secret combination.\n",
    "\n",
    "    Returns: \n",
    "        array[complex]: The quantum state (amplitudes) after applying the oracle.\n",
    "    \"\"\"\n",
    "    for i in range(len(combo)): qml.Hadamard(wires = i)\n",
    "    oracle = oracle_matrix(combo)\n",
    "    qml.QubitUnitary(oracle,wires = [i for i in range(len(combo))])\n",
    "    ##################\n",
    "    # YOUR CODE HERE #\n",
    "    ##################\n",
    "    return qml.state()\n",
    "combo = [0,0,0,1]\n",
    "ans = oracle_amp(combo)\n",
    "ans = [a.real for a in ans]\n"
   ]
  },
  {
   "cell_type": "code",
   "execution_count": null,
   "metadata": {},
   "outputs": [],
   "source": [
    "import matplotlib.pyplot as plt\n",
    "def plot_results(ans):\n",
    "    fig = plt.figure(figsize=(8.0,8.0))\n",
    "    ax = fig.add_axes([0,0,1,1])\n",
    "    ranges  = [np.binary_repr(i,4) for i in range(len(ans))]\n",
    "    plt.title(\"Phase flip in Grover Algorithm\")\n",
    "    ax.bar(ranges,ans)\n",
    "    plt.xlabel(\"Qubits\")\n",
    "    plt.ylabel(\"probabilities\")\n",
    "    plt.show()"
   ]
  },
  {
   "cell_type": "code",
   "execution_count": null,
   "metadata": {},
   "outputs": [],
   "source": [
    "plot_results(ans)"
   ]
  },
  {
   "cell_type": "code",
   "execution_count": null,
   "metadata": {},
   "outputs": [],
   "source": [
    "n_bits = 4\n",
    "\n",
    "def diffusion_matrix():\n",
    "    \"\"\"Return the diffusion matrix.\n",
    "\n",
    "    Returns: \n",
    "        array[float]: The matrix representation of the diffusion operator.\n",
    "    \"\"\"\n",
    "    ##################\n",
    "    # YOUR CODE HERE #\n",
    "    ##################\n",
    "    ones = np.ones((4*4,4*4))\n",
    "    identity = np.eye(N=4*4,M=4*4)\n",
    "    scale = 1/(2**3)\n",
    "    array = scale*ones - identity\n",
    "    return array\n",
    "\n",
    "@qml.qnode(dev)\n",
    "def difforacle_amp(combo):\n",
    "    \"\"\"Apply the oracle and diffusion matrix to the uniform superposition.\n",
    "\n",
    "    Args:\n",
    "        combo (list[int]): A list of bits representing the secret combination.\n",
    "\n",
    "    Returns:\n",
    "        array[complex]: The quantum state (amplitudes) after applying the oracle\n",
    "        and diffusion.\n",
    "    \"\"\"\n",
    "    for i in range(4): qml.Hadamard(wires = i)\n",
    "    qml.QubitUnitary(oracle_matrix(combo),wires = [0,1,2,3])\n",
    "    qml.QubitUnitary(diffusion_matrix(),wires = [0,1,2,3])\n",
    "    ##################\n",
    "    # YOUR CODE HERE #\n",
    "    ##################\n",
    "    return qml.state()"
   ]
  },
  {
   "cell_type": "code",
   "execution_count": null,
   "metadata": {},
   "outputs": [],
   "source": [
    "combo=[0, 0, 0, 0]\n",
    "ans = difforacle_amp(combo)\n",
    "print(ans)"
   ]
  },
  {
   "cell_type": "code",
   "execution_count": null,
   "metadata": {},
   "outputs": [],
   "source": [
    "plot_results(ans)"
   ]
  },
  {
   "cell_type": "code",
   "execution_count": null,
   "metadata": {},
   "outputs": [],
   "source": [
    "@qml.qnode(dev)\n",
    "def two_difforacle_amp(combo):\n",
    "    \"\"\"Apply the Grover operator twice to the uniform superposition.\n",
    "\n",
    "    Args:\n",
    "        combo (list[int]): A list of bits representing the secret combination.\n",
    "\n",
    "    Returns: \n",
    "        array[complex]: The resulting quantum state.\n",
    "    \"\"\"\n",
    "    ##################\n",
    "    # YOUR CODE HERE #\n",
    "    ##################\n",
    "    for i in range(len(combo)): qml.Hadamard(wires = i)\n",
    "    for i in range(2):\n",
    "        qml.QubitUnitary(oracle_matrix(combo),wires = [0,1,2,3])\n",
    "        qml.QubitUnitary(diffusion_matrix(),wires = [0,1,2,3])\n",
    "    return qml.state()\n",
    "ans = two_difforacle_amp(combo)"
   ]
  },
  {
   "cell_type": "code",
   "execution_count": null,
   "metadata": {},
   "outputs": [],
   "source": [
    "plot_results(ans)"
   ]
  },
  {
   "cell_type": "markdown",
   "metadata": {},
   "source": [
    "## G.2 \n",
    "Few things to note here. $U_f = I - \\ket{s}\\bra{s}$ flips the phase, and $D = \\ket{\\psi} \\bra{\\psi}$ rotates along $\\ket{\\psi}$ axis.\\\n",
    "So, if we apply $\\sqrt{N}$ times, we will amplify our amplitude."
   ]
  },
  {
   "cell_type": "markdown",
   "metadata": {},
   "source": [
    "Codercise G.2.1. Create a circuit which runs $G=DU_f$ some specified number of times, and manually set the step number my_steps. The results  in the two-dimensional geometry will be displayed for combo = [0, 0, 0, 0, 0]. The oracle and diffusion matrices are defined below, and available by calling oracle_matrix(combo) and diffusion_matrix(). \\\n",
    "From the plots, confirm that applying the Grover operator rotates the state vector, and determine the optimal number of Grover steps for $n=5$."
   ]
  },
  {
   "cell_type": "code",
   "execution_count": null,
   "metadata": {},
   "outputs": [],
   "source": [
    "n_bits = 5\n",
    "dev = qml.device(\"default.qubit\", wires=n_bits)\n",
    "\n",
    "def oracle_matrix(combo):\n",
    "    \"\"\"Return the oracle matrix for a secret combination.\n",
    "    \n",
    "    Args:\n",
    "        combo (list[int]): A list of bits representing a secret combination.\n",
    "         \n",
    "    Returns: \n",
    "        array[float]: The matrix representation of the oracle.\n",
    "    \"\"\"\n",
    "    index = np.ravel_multi_index(combo, [2]*len(combo)) # Index of solution\n",
    "    my_array = np.identity(2**len(combo)) # Create the identity matrix\n",
    "    my_array[index, index] = -1\n",
    "    return my_array\n",
    "\n",
    "def diffusion_matrix():\n",
    "    \"\"\"Return the diffusion matrix.\n",
    "\n",
    "    Returns: \n",
    "        array[float]: The matrix representation of the diffusion operator.\n",
    "    \"\"\"\n",
    "    psi_piece = (1/2**n_bits)*np.ones(2**n_bits)\n",
    "    print(psi_piece)\n",
    "    ident_piece = np.eye(2**n_bits)\n",
    "    print(ident_piece)\n",
    "    return (2*psi_piece - ident_piece)\n"
   ]
  },
  {
   "cell_type": "code",
   "execution_count": null,
   "metadata": {},
   "outputs": [],
   "source": [
    "combo = [0,0,0,0,0]\n",
    "ans = oracle_matrix(combo)\n",
    "#print(ans)\n",
    "ans_diff = diffusion_matrix()"
   ]
  },
  {
   "cell_type": "code",
   "execution_count": null,
   "metadata": {},
   "outputs": [],
   "source": [
    "@qml.qnode\n",
    "def grover_circuit(combo, num_steps):\n",
    "    \"\"\"Apply the Grover operator num_steps times to the uniform superposition \n",
    "       and return the state.\n",
    "\n",
    "    Args:\n",
    "        combo (list[int]): A list of bits representing the secret combination.\n",
    "        num_steps (int): The number of iterations of the Grover operator\n",
    "            our circuit is to perform.\n",
    "\n",
    "    Returns: \n",
    "        array[complex]: The quantum state (amplitudes) after repeated Grover \n",
    "        iterations.\n",
    "    \"\"\"\n",
    "    ##################\n",
    "    # YOUR CODE HERE #\n",
    "    ##################\n",
    "    for i in range(n_bits): qml.Hadamard(wires = i )\n",
    "    for i in range(num_steps):\n",
    "        qml.QubitUnitary(oracle_matrix(combo),wires = [j for j in range(n_bits)])\n",
    "        qml.QubitUnitary(diffusion_matrix(),wires = [j for j in range(n_bits)])\n",
    "    return qml.state()\n",
    "\n",
    "my_steps = 4 # YOUR STEP NUMBER HERE"
   ]
  },
  {
   "cell_type": "code",
   "execution_count": null,
   "metadata": {},
   "outputs": [],
   "source": [
    "y_hat = 0.5\n",
    "y = 0\n",
    "loss = - (y * np.log(y_hat) + (1-y) * np.log(1-y_hat))\n",
    "print(loss)\n",
    "x=np.array([[[1],[2]],[[3],[4]]])\n",
    "print(x.shape)\n",
    "a = np.random.randn(3,3)\n",
    "b = np.random.randn(2,1)\n",
    "# c = a + b\n",
    "# print(c.shape) Not possible\n",
    "a = np.random.randn(4,3)\n",
    "b = np.random.randn(3,2)\n",
    "# c = a * b\n",
    "# print(c.shape)\n",
    "a = np.random.randn(12288,150)\n",
    "b = np.random.randn(150,45)\n",
    "c = np.dot(a,b)\n",
    "print(c.shape)\n",
    "a = np.array([[1,2,3,4],[1,2,3,4],[1,2,3,4]])\n",
    "b = np.array([[5],[6],[7],[8]])\n",
    "k = np.zeros((3,4))\n",
    "print(a.shape,b.shape)\n",
    "for i in range(3):\n",
    "    for j in range(4):\n",
    "        k[i][j] = a[i][j] + b[j]\n",
    "print(k.shape)"
   ]
  },
  {
   "cell_type": "code",
   "execution_count": null,
   "metadata": {},
   "outputs": [],
   "source": [
    "a = np.eye(3,3)\n",
    "b = np.eye(3,3)\n",
    "c = a **2  + b.T **2\n",
    "c.shape"
   ]
  },
  {
   "cell_type": "markdown",
   "metadata": {},
   "source": [
    "## G.3 Searching with Circuits."
   ]
  },
  {
   "cell_type": "markdown",
   "metadata": {},
   "source": [
    "### Codercise G.3.1\n",
    "Define the oracle operator $\\hat U$ using the $MultiControlledX$ gate from PennyLane."
   ]
  },
  {
   "cell_type": "code",
   "execution_count": null,
   "metadata": {},
   "outputs": [],
   "source": [
    "n_bits = 5\n",
    "query_register = list(range(n_bits))\n",
    "aux = [n_bits]\n",
    "all_wires = query_register + aux\n",
    "dev = qml.device(\"default.qubit\",wires=all_wires)\n",
    "combo = [1,0,1,1]\n",
    "'''\n",
    "This oracle will flips the phase of the qubits in the query_register if the state is an\n",
    "actual solution, i.e the combo.\n",
    "'''\n",
    "def oracle(combo):\n",
    "    combo_string  = \"\".join(str(x) for x in combo)\n",
    "    qml.MultiControlledX(control_wires=query_register,wires=aux,control_values=combo_string)\n",
    "oracle(combo)\n"
   ]
  },
  {
   "cell_type": "markdown",
   "metadata": {},
   "source": [
    "### Codercise G.3.2\n",
    "mplement the diffusion operator in terms of the $multi-controlledX$"
   ]
  },
  {
   "cell_type": "code",
   "execution_count": null,
   "metadata": {},
   "outputs": [],
   "source": [
    "def hadamard_transform(my_wires):\n",
    "    \"\"\"Apply the Hadamard transform on a given set of wires.\n",
    "    \n",
    "    Args:\n",
    "        my_wires (list[int]): A list of wires on which the Hadamard transform will act.\n",
    "    \"\"\"\n",
    "    for wire in my_wires:\n",
    "        qml.Hadamard(wires=wire)\n",
    "def diffusion():\n",
    "    \"\"\"Implement the diffusion operator using the Hadamard transform and \n",
    "    multi-controlled X.\"\"\"\n",
    "\n",
    "    ##################\n",
    "    # YOUR CODE HERE #\n",
    "    ##################\n",
    "    join_str = \"0\"*len(query_register)\n",
    "    hadamard_transform(query_register)\n",
    "    qml.MultiControlledX(control_wires=query_register,wires=aux,control_values=join_str)\n",
    "    hadamard_transform(query_register)\n",
    "diffusion()"
   ]
  },
  {
   "cell_type": "markdown",
   "metadata": {},
   "source": [
    "### Codercise G.3.3\n",
    "In the code below, create a circuit which prepares the uniform superposition in the query register, places the auxiliary qubit in the $\\ket{-}$ state, and applies a single Grover iteration using MultiControlledX. We will plot the output for combo = [0, 0, 0, 0, 0]. Note that the subcircuits oracle(combo), hadamard_transform(my_wires) and diffusion() are provided for you and do not need to be reimplemented."
   ]
  },
  {
   "cell_type": "code",
   "execution_count": null,
   "metadata": {},
   "outputs": [],
   "source": [
    "@qml.qnode(dev)\n",
    "def grover_circuit(combo):\n",
    "    \"\"\"Apply the MultiControlledX Grover operator and return probabilities on \n",
    "    query register.\n",
    "    \n",
    "    Args:\n",
    "        combo (list[int]): A list of bits representing the secret combination.\n",
    "\n",
    "    Returns:\n",
    "        array[float]: Measurement outcome probabilities.\n",
    "    \"\"\"\n",
    "    hadamard_transform(query_register)\n",
    "    qml.PauliX(wires=aux)\n",
    "    qml.Hadamard(wires=aux)\n",
    "    oracle(combo)\n",
    "    diffusion()\n",
    "    return qml.probs(wires=query_register)\n",
    "ans = grover_circuit([0,0,0,0,0])\n"
   ]
  },
  {
   "cell_type": "code",
   "execution_count": null,
   "metadata": {},
   "outputs": [],
   "source": [
    "def plot_results(ans):\n",
    "    fig = plt.figure(figsize=(8,8))\n",
    "    ax = fig.add_axes([0,0,1,1])\n",
    "    ranges  = [np.binary_repr(i,5) for i in range(len(ans))]\n",
    "    plt.title(\"Phase flip in Grover Algorithm\")\n",
    "    ax.bar(ranges,ans)\n",
    "    plt.xlabel(\"Qubits\")\n",
    "    plt.ylabel(\"probabilities\")\n",
    "    plt.xticks(rotation=90)\n",
    "    plt.show()"
   ]
  },
  {
   "cell_type": "code",
   "execution_count": null,
   "metadata": {},
   "outputs": [],
   "source": [
    "plot_results(ans)"
   ]
  },
  {
   "cell_type": "markdown",
   "metadata": {},
   "source": [
    "### G.4 Steps And Speedups\n",
    "Complete the function below, which implements Grover search for a given secret combination and number of Grover steps. The oracle, Hadamard transform and diffusion operator are provided as oracle(combo), hadamard_transform(my_wires), and diffusion(n_bits)."
   ]
  },
  {
   "cell_type": "code",
   "execution_count": null,
   "metadata": {},
   "outputs": [],
   "source": [
    "def grover_iter(combo, num_steps):\n",
    "    \"\"\"Run Grover search for a given secret combination and a number of iterations.\n",
    "    \n",
    "    Args:\n",
    "        combo (list[int]): The secret combination, represented as a list of bits.\n",
    "        num_steps (int): The number of Grover iterations to perform.\n",
    "\n",
    "    Returns: \n",
    "        array[float]: Probability for observing different outcomes.\n",
    "    \"\"\"\n",
    "    n_bits = len(combo)\n",
    "    query_register = list(range(n_bits))\n",
    "    aux = [n_bits]\n",
    "    all_wires = query_register+aux\n",
    "    dev = qml.device('default.qubit', wires=all_wires)\n",
    "\n",
    "    @qml.qnode(dev)\n",
    "    def inner_circuit():\n",
    "        ##################\n",
    "        # YOUR CODE HERE #\n",
    "        ##################\n",
    "        # IMPLEMENT THE GROVER CIRCUIT\n",
    "        qml.PauliX(wires = aux)\n",
    "        hadamard_transform(all_wires)\n",
    "        for i in range(num_steps):\n",
    "            oracle(combo)\n",
    "            diffusion()\n",
    "        return qml.probs(wires=query_register)\n",
    "    \n",
    "    return inner_circuit()"
   ]
  },
  {
   "cell_type": "code",
   "execution_count": null,
   "metadata": {},
   "outputs": [],
   "source": [
    "n_list = range(3,7)\n",
    "opt_steps = []\n",
    "\n",
    "for n_bits in n_list:\n",
    "    combo = \"0\"*n_bits # A simple combination\n",
    "    step_list = range(1,10) # Try out some large number of steps\n",
    "    ##################\n",
    "    # YOUR CODE HERE #\n",
    "    ##################\n",
    "    local_results = []\n",
    "    for i in step_list:\n",
    "        current_result = grover_iter(combo,i)\n",
    "        local_results.append(current_result[0])\n",
    "    opt_steps.append(max(local_results))\n",
    "        \n",
    "\n",
    "print(\"The optimal number of Grover steps for qubits in\", [3,4,5,6], \"is\", opt_steps, \".\")\n"
   ]
  },
  {
   "cell_type": "markdown",
   "metadata": {},
   "source": [
    "## G.5\n",
    "### Codercise G.5.1. \n",
    "Create an oracle for a random solution set of a given size using the MultiControlledX gate. \n",
    "Remember that this takes a string for control_values (e.g.,\"11011\") as a parameter rather than a list of bits."
   ]
  },
  {
   "cell_type": "code",
   "execution_count": null,
   "metadata": {},
   "outputs": [],
   "source": [
    "n_bits = 5\n",
    "query_register = list(range(n_bits))\n",
    "aux = [n_bits]\n",
    "all_wires = query_register+aux\n",
    "dev = qml.device('default.qubit', wires=all_wires)\n",
    "\n",
    "def oracle_multi(combos):\n",
    "    \"\"\"Implement multi-solution oracle using sequence of multi-controlled X gates.\n",
    "    \n",
    "    Args:\n",
    "        combos (list[list[int]]): A list of solutions.\n",
    "    \"\"\"\n",
    "    for combo in combos:\n",
    "        combo_str = ''.join(str(j) for j in combo)\n",
    "        ##################\n",
    "        # YOUR CODE HERE #\n",
    "        ##################\n",
    "        qml.MultiControlledX(control_wires = query_register, wires = aux, control_values = combo_str )\n",
    "        \n"
   ]
  },
  {
   "cell_type": "markdown",
   "metadata": {},
   "source": [
    "### Codercise G.5.2. \n",
    "(a) Below, we've provided the routine for regular Grover search, except for the oracle. Using the oracle from the previous exercise, construct the circuit for multi-solution Grover search!"
   ]
  },
  {
   "cell_type": "code",
   "execution_count": null,
   "metadata": {},
   "outputs": [],
   "source": [
    "n_bits = 5\n",
    "query_register = list(range(n_bits))\n",
    "aux = [n_bits]\n",
    "all_wires = query_register+aux\n",
    "dev = qml.device('default.qubit', wires=all_wires, shots=None)\n",
    "\n",
    "def grover_iter_multi(combos, num_steps):\n",
    "    \"\"\"Run Grover search for multiple secret combinations and a number \n",
    "    of Grover steps.\n",
    "    \n",
    "    Args:\n",
    "        combos (list[list[int]]): The secret combination, represented as a list of bits.\n",
    "        num_steps (int): The number of Grover iterations to perform.\n",
    "\n",
    "    Returns: \n",
    "        array[float]: Probability for observing different outcomes.\n",
    "    \"\"\"\n",
    "    @qml.qnode(dev)\n",
    "    def inner_circuit():\n",
    "        qml.PauliX(wires=n_bits)\n",
    "        qml.Hadamard(wires=n_bits)\n",
    "        hadamard_transform(query_register)\n",
    "\n",
    "        for _ in range(num_steps):\n",
    "            ##################\n",
    "            # YOUR CODE HERE #\n",
    "            ##################\n",
    "            oracle_multi(combos)\n",
    "            diffusion(n_bits)\n",
    "        return qml.probs(wires=query_register)\n",
    "    \n",
    "    return inner_circuit()\n"
   ]
  },
  {
   "cell_type": "code",
   "execution_count": null,
   "metadata": {},
   "outputs": [],
   "source": [
    "# (b)\n",
    "m_list = range(3)\n",
    "opt_steps = []\n",
    "\n",
    "for m_bits in m_list:\n",
    "    combos = [[int(s) for s in np.binary_repr(j, n_bits)] for j in range(2**m_bits)]\n",
    "    step_list = range(1,10)\n",
    "    ##################\n",
    "    # YOUR CODE HERE #\n",
    "    ##################\n",
    "    local_results = []\n",
    "    for i in step_list:\n",
    "        current_result = grover_iter_multi(combos,i)\n",
    "        local_results.append(current_result[0])\n",
    "    opt_steps.append(local_max_arg(local_results))\n",
    "\n",
    "print(\"The optimal number of Grover steps for the number of solutions in\", [1,2,4], \"is\", opt_steps, \".\")\n"
   ]
  },
  {
   "cell_type": "code",
   "execution_count": null,
   "metadata": {},
   "outputs": [],
   "source": []
  }
 ],
 "metadata": {
  "interpreter": {
   "hash": "de048136058b0b72a0d95292452e0f3525c6ee0eacdcff77f1b0fbb3b3e12a63"
  },
  "kernelspec": {
   "display_name": "Python 3.9.12 ('base')",
   "language": "python",
   "name": "python3"
  },
  "language_info": {
   "codemirror_mode": {
    "name": "ipython",
    "version": 3
   },
   "file_extension": ".py",
   "mimetype": "text/x-python",
   "name": "python",
   "nbconvert_exporter": "python",
   "pygments_lexer": "ipython3",
   "version": "3.9.12"
  },
  "orig_nbformat": 4
 },
 "nbformat": 4,
 "nbformat_minor": 2
}
