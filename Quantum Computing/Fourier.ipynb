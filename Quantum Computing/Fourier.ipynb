{
 "cells": [
  {
   "cell_type": "code",
   "execution_count": 23,
   "metadata": {},
   "outputs": [
    {
     "data": {
      "text/plain": [
       "'SETUP for Using TensorFlow'"
      ]
     },
     "execution_count": 23,
     "metadata": {},
     "output_type": "execute_result"
    }
   ],
   "source": [
    "'''SETUP for Using TensorFlow'''\n",
    "\n",
    "# import sys\n",
    "# import tensorflow as tf\n",
    "# physical_devices = tf.config.list_physical_devices('GPU')\n",
    "# print(f\"Tensor-Flow Version: {tf.__version__}\")\n",
    "# print(f\"Python {sys.version}\")\n",
    "# gpu = len(tf.config.list_physical_devices('GPU'))>0\n",
    "# print(\"GPU is\", \"available\" if gpu else \"NOT AVAILABLE\")\n",
    "# print(f\"GPU Devices {tf.config.list_physical_devices('GPU')}\")\n",
    "# print(f\"Setting dynamic growth of GPU to True\")\n",
    "# tf.config.experimental.set_memory_growth(physical_devices[0], True)\n"
   ]
  },
  {
   "cell_type": "code",
   "execution_count": 25,
   "metadata": {},
   "outputs": [],
   "source": [
    "import pennylane as qml\n",
    "from pennylane import numpy as np"
   ]
  },
  {
   "cell_type": "markdown",
   "metadata": {},
   "source": [
    "# F.1"
   ]
  },
  {
   "cell_type": "markdown",
   "metadata": {},
   "source": [
    "## Fast Fourier Transformation\n"
   ]
  },
  {
   "cell_type": "markdown",
   "metadata": {},
   "source": [
    "### Multiply two polynomials\n",
    "Given two polynomials,$A(x) = 1 + x$ and $B(x) = 1 - x$, use FFT to multiply these two polynomials"
   ]
  },
  {
   "cell_type": "code",
   "execution_count": 79,
   "metadata": {},
   "outputs": [
    {
     "name": "stdout",
     "output_type": "stream",
     "text": [
      "   2\n",
      "1 x - 1\n"
     ]
    },
    {
     "data": {
      "text/plain": [
       "poly1d(([ 1,  0, -1], requires_grad=True)"
      ]
     },
     "execution_count": 79,
     "metadata": {},
     "output_type": "execute_result"
    }
   ],
   "source": [
    "# Step 1. \n",
    "coeff_rep_of_p1 = np.asarray([1,1])\n",
    "coeff_rep_of_p2 = np.asarray([1,-1])\n",
    "#Multiply two polynomialas using Fast Fourier Transform\n",
    "def multiply_polynomials(p1,p2):\n",
    "    # Step 2. \n",
    "    # Convert the polynomials to coefficients\n",
    "    coeff_rep_of_p1 = np.asarray([1,1])\n",
    "    coeff_rep_of_p2 = np.asarray([1,-1])\n",
    "    # Step 3.\n",
    "    # Multiply the coefficients\n",
    "    coeff_rep_of_p1_times_p2 = np.convolve(coeff_rep_of_p1, coeff_rep_of_p2)\n",
    "    # Step 4.\n",
    "    # Convert the coefficients to polynomials\n",
    "    p1_times_p2 = np.poly1d(coeff_rep_of_p1_times_p2)\n",
    "    return p1_times_p2\n",
    "p1 = np.poly1d([1,1])\n",
    "p2 = np.poly1d([1,-1])\n",
    "ans = multiply_polynomials(p1,p2)\n",
    "print(ans)\n",
    "ans\n",
    "\n",
    "\n"
   ]
  },
  {
   "cell_type": "markdown",
   "metadata": {},
   "source": [
    "### Codercise F.1.1. \n",
    "Given a polynomial in its coefficient representation, convert it into a value representation using NumPy's DFT/FFT module."
   ]
  },
  {
   "cell_type": "code",
   "execution_count": 80,
   "metadata": {},
   "outputs": [
    {
     "name": "stdout",
     "output_type": "stream",
     "text": [
      "[10.+0.j  2.-2.j  2.+0.j  2.+2.j]\n"
     ]
    }
   ],
   "source": [
    "def coefficients_to_values(coefficients):\n",
    "    \"\"\"Returns the value representation of a polynomial\n",
    "    \n",
    "    Args:\n",
    "        coefficients (array[complex]): a 1-D array of complex \n",
    "            coefficients of a polynomial with \n",
    "            index i representing the i-th degree coefficient\n",
    "\n",
    "    Returns: \n",
    "        array[complex]: the value representation of the \n",
    "            polynomial \n",
    "    \"\"\"\n",
    "    ##################\n",
    "    # YOUR CODE HERE #\n",
    "    ################## \n",
    "    val = np.fft.fft(coefficients)\n",
    "    return val\n",
    "\n",
    "A = [4, 3, 2, 1]\n",
    "print(coefficients_to_values(A))"
   ]
  },
  {
   "cell_type": "markdown",
   "metadata": {},
   "source": [
    "### Codercise F.1.2. \n",
    "Given a polynomial in its value representation, use the NumPy's DFT/FFT module to convert from the value representation to the coefficient representation."
   ]
  },
  {
   "cell_type": "code",
   "execution_count": 81,
   "metadata": {},
   "outputs": [
    {
     "name": "stdout",
     "output_type": "stream",
     "text": [
      "[4.+0.j 3.+0.j 2.+0.j 1.+0.j]\n"
     ]
    }
   ],
   "source": [
    "def values_to_coefficients(values):\n",
    "    \"\"\"Returns the coefficient representation of a polynomial\n",
    "    \n",
    "    Args:\n",
    "        values (array[complex]): a 1-D complex array with \n",
    "            the value representation of a polynomial \n",
    "\n",
    "    Returns: \n",
    "        array[complex]: a 1-D complex array of coefficients\n",
    "    \"\"\"\n",
    "    \n",
    "    ##################\n",
    "    # YOUR CODE HERE #\n",
    "    ################## \n",
    "    return np.fft.ifft(values)\n",
    "\n",
    "\n",
    "A = [10.+0.j,  2.-2.j,  2.+0.j,  2.+2.j]\n",
    "print(values_to_coefficients(A))"
   ]
  },
  {
   "cell_type": "code",
   "execution_count": 89,
   "metadata": {},
   "outputs": [
    {
     "data": {
      "text/plain": [
       "5"
      ]
     },
     "execution_count": 89,
     "metadata": {},
     "output_type": "execute_result"
    }
   ],
   "source": [
    "# calculates a power of 2 that is greater than a given number.\n",
    "def next_power_of_2(n):\n",
    "    \"\"\"Returns the next power of 2 that is greater than a given number\n",
    "    \n",
    "    Args:\n",
    "        n (int): a positive integer\n",
    "    \n",
    "    Returns: \n",
    "        int: the next power of 2 that is greater than n\n",
    "    \"\"\"\n",
    "    ##################\n",
    "    # YOUR CODE HERE #\n",
    "    ################## \n",
    "    return int(np.ceil(np.log2(n)))\n",
    "next_power_of_2(18)"
   ]
  },
  {
   "cell_type": "markdown",
   "metadata": {},
   "source": [
    "### Codercise F.1.3. \n",
    "Implement a helper function nearest_power_of_2 that calculates a power of 2 that is greater than a given number."
   ]
  },
  {
   "cell_type": "code",
   "execution_count": 91,
   "metadata": {},
   "outputs": [
    {
     "data": {
      "text/plain": [
       "32"
      ]
     },
     "execution_count": 91,
     "metadata": {},
     "output_type": "execute_result"
    }
   ],
   "source": [
    "def nearest_power_of_2(x):\n",
    "    \"\"\"Given an integer, return the nearest power of 2. \n",
    "    \n",
    "    Args:\n",
    "        x (int): a positive integer\n",
    "\n",
    "    Returns: \n",
    "        int: the nearest power of 2 of x\n",
    "    \"\"\"\n",
    "    ##################\n",
    "    # YOUR CODE HERE #\n",
    "    ################## \n",
    "    power = int(np.ceil(np.log2(x)))\n",
    "    return 2**power\n",
    "nearest_power_of_2(25)   \n"
   ]
  },
  {
   "cell_type": "markdown",
   "metadata": {},
   "source": [
    "### Codercise F.1.4. \n",
    "Given two polynomials in their coefficient representation, write a function to multiply them both using the functions coefficients_to_values, nearest_power_of_2, and values_to_coefficients."
   ]
  },
  {
   "cell_type": "code",
   "execution_count": 110,
   "metadata": {},
   "outputs": [],
   "source": [
    "def fft_multiplication(poly_a, poly_b):\n",
    "    \"\"\"Returns the result of multiplying two polynomials\n",
    "    \n",
    "    Args:\n",
    "        poly_a (array[complex]): 1-D array of coefficients \n",
    "        poly_b (array[complex]): 1-D array of coefficients \n",
    "\n",
    "    Returns: \n",
    "        array[complex]: complex coefficients of the product\n",
    "            of the polynomials\n",
    "    \"\"\"\n",
    "    ##################\n",
    "    # YOUR CODE HERE #\n",
    "    ################## \n",
    "\n",
    "    # Calculate the number of values required\n",
    "    x = len(poly_a) + len(poly_b) + 5\n",
    "\n",
    "    # Figure out the nearest power of 2\n",
    "    nearest_power = nearest_power_of_2(x)\n",
    "    roots = int(np.log2(nearest_power))\n",
    "\n",
    "    # Pad zeros to the polynomial\n",
    "    poly_a_paded = np.pad(poly_a,(0,roots - len(poly_a)),'constant', constant_values=(0+ 0.j))\n",
    "    poly_b_paded = np.pad(poly_b,(0,roots - len(poly_b)),'constant', constant_values=(0 + 0.j))\n",
    "    # Convert the polynomials to value representation \n",
    "    values_a = coefficients_to_values(poly_a_paded)\n",
    "    values_b = coefficients_to_values(poly_b_paded)\n",
    "    # Multiply\n",
    "    ele_mult = np.multiply(values_a,values_b)\n",
    "\n",
    "    # Convert back to coefficient representation\n",
    "    coeff = values_to_coefficients(ele_mult)\n",
    "    return coeff"
   ]
  },
  {
   "cell_type": "code",
   "execution_count": 111,
   "metadata": {},
   "outputs": [
    {
     "name": "stdout",
     "output_type": "stream",
     "text": [
      "[6.+0.j 6.+0.j 1.+0.j 7.+0.j]\n"
     ]
    }
   ],
   "source": [
    "poly_a = np.array([1 + 0.j,1+0.j,2 + 0.j])\n",
    "poly_b = np.array([-1 + 0.j,1+0.j, 2 + 0.j,3 + 0.j])\n",
    "print\n",
    "print(fft_multiplication(poly_a,poly_b))"
   ]
  }
 ],
 "metadata": {
  "kernelspec": {
   "display_name": "Python 3.10.5",
   "language": "python",
   "name": "python3"
  },
  "language_info": {
   "codemirror_mode": {
    "name": "ipython",
    "version": 3
   },
   "file_extension": ".py",
   "mimetype": "text/x-python",
   "name": "python",
   "nbconvert_exporter": "python",
   "pygments_lexer": "ipython3",
   "version": "3.10.5"
  },
  "orig_nbformat": 4,
  "vscode": {
   "interpreter": {
    "hash": "7cfd4d0365b7115e4020ce87e4cdea86bf1d0ae836bec2ad30920d104c9ba58a"
   }
  }
 },
 "nbformat": 4,
 "nbformat_minor": 2
}
