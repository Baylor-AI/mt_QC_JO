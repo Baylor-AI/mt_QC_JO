{
 "cells": [
  {
   "cell_type": "code",
   "execution_count": 1,
   "id": "799f5ddd",
   "metadata": {},
   "outputs": [],
   "source": [
    "import math\n",
    "import numpy as np"
   ]
  },
  {
   "cell_type": "code",
   "execution_count": 2,
   "id": "f4db029e",
   "metadata": {},
   "outputs": [
    {
     "data": {
      "text/plain": [
       "0.565685424949238"
      ]
     },
     "execution_count": 2,
     "metadata": {},
     "output_type": "execute_result"
    }
   ],
   "source": [
    "0.8/math.sqrt(2)"
   ]
  },
  {
   "cell_type": "code",
   "execution_count": 3,
   "id": "d049e08f",
   "metadata": {},
   "outputs": [
    {
     "name": "stdout",
     "output_type": "stream",
     "text": [
      "[0.8 0.6]\n",
      "[0.70710678+0.j         0.        +0.70710678j]\n"
     ]
    }
   ],
   "source": [
    "state_1 = np.array([0.8, 0.6])\n",
    "state_2 = np.array([1 / np.sqrt(2), 1j / np.sqrt(2)]) \n",
    "print(state_1)\n",
    "print(state_2)"
   ]
  },
  {
   "cell_type": "code",
   "execution_count": 4,
   "id": "745f7a1f",
   "metadata": {},
   "outputs": [
    {
     "data": {
      "text/plain": [
       "(0.565685424949238-0.42426406871192845j)"
      ]
     },
     "execution_count": 4,
     "metadata": {},
     "output_type": "execute_result"
    }
   ],
   "source": [
    "np.dot(np.conj(state_2),state_1)"
   ]
  },
  {
   "cell_type": "code",
   "execution_count": 5,
   "id": "b2e244e4",
   "metadata": {},
   "outputs": [
    {
     "data": {
      "text/plain": [
       "(0.565685424949238+0.42426406871192845j)"
      ]
     },
     "execution_count": 5,
     "metadata": {},
     "output_type": "execute_result"
    }
   ],
   "source": [
    "np.dot(np.conj(state_1),state_2)"
   ]
  },
  {
   "cell_type": "code",
   "execution_count": 6,
   "id": "4a9924ae",
   "metadata": {},
   "outputs": [
    {
     "name": "stdout",
     "output_type": "stream",
     "text": [
      "[0.70710678+0.j         0.        +0.70710678j]\n",
      "[0.70710678-0.j         0.        -0.70710678j]\n",
      "[0.70710678-0.j         0.        -0.70710678j]\n"
     ]
    }
   ],
   "source": [
    "print(state_2)\n",
    "print(np.conj(state_2))\n",
    "print(np.conjugate(state_2))"
   ]
  },
  {
   "cell_type": "code",
   "execution_count": 7,
   "id": "2fd0fb0a",
   "metadata": {},
   "outputs": [
    {
     "data": {
      "text/plain": [
       "array([1, 1, 1, 1, 1, 0, 0, 0, 1, 0])"
      ]
     },
     "execution_count": 7,
     "metadata": {},
     "output_type": "execute_result"
    }
   ],
   "source": [
    "State = np.array([1 / np.sqrt(2), 1j / np.sqrt(2)])\n",
    "def measure_state(state, num_meas=10):\n",
    "    x_prob = state[0] * np.conj(state[0])\n",
    "    x_prob = x_prob.real\n",
    "    y_prob = state[1] * np.conj(state[1])\n",
    "    y_prob = y_prob.real\n",
    "    choice_ = [0,1]\n",
    "    arr = np.random.choice(choice_,num_meas,p=[x_prob,y_prob])\n",
    "    return arr\n",
    "measure_state(State)"
   ]
  },
  {
   "cell_type": "code",
   "execution_count": 8,
   "id": "a50e0a4f",
   "metadata": {},
   "outputs": [
    {
     "data": {
      "text/plain": [
       "1.0"
      ]
     },
     "execution_count": 8,
     "metadata": {},
     "output_type": "execute_result"
    }
   ],
   "source": [
    "np.square(0.8) + np.square(0.6)"
   ]
  },
  {
   "cell_type": "code",
   "execution_count": 9,
   "id": "40027d45",
   "metadata": {},
   "outputs": [
    {
     "data": {
      "text/plain": [
       "(-1+0j)"
      ]
     },
     "execution_count": 9,
     "metadata": {},
     "output_type": "execute_result"
    }
   ],
   "source": [
    "1j * 1j"
   ]
  },
  {
   "cell_type": "code",
   "execution_count": 10,
   "id": "778d12e7",
   "metadata": {},
   "outputs": [],
   "source": [
    "ket_0 = np.array([1, 0])\n",
    "ket_1 = np.array([0, 1])\n",
    "H = [[1/np.sqrt(2),1/np.sqrt(2)],\n",
    "                 [1/np.sqrt(2),-1/np.sqrt(2)]]\n",
    "\n",
    "T = [[1,0],[0,np.exp(1j * np.pi/4)]]\n",
    "S = [[1,0],[0,-1]]\n",
    "Z = [[1,0],[0,-1]]\n",
    "Y = [[0,-1j],[1j,0]]\n",
    "X = [[0,1],[1,0]]\n"
   ]
  },
  {
   "cell_type": "code",
   "execution_count": 11,
   "id": "d812f5ef",
   "metadata": {},
   "outputs": [
    {
     "name": "stdout",
     "output_type": "stream",
     "text": [
      "[0.14644661-0.35355339j 0.85355339+0.35355339j]\n"
     ]
    }
   ],
   "source": [
    "H_T = np.matmul(T,H)\n",
    "H_T_S = np.matmul(S,H_T)\n",
    "H_S_T_H = np.matmul(H,H_T_S)\n",
    "ans = np.matmul(H_S_T_H,ket_0)\n",
    "print(ans)"
   ]
  },
  {
   "cell_type": "code",
   "execution_count": 12,
   "id": "5f1f2676",
   "metadata": {},
   "outputs": [
    {
     "data": {
      "text/plain": [
       "array([[ 1.00000000e+00, -2.23711432e-17],\n",
       "       [ 2.23711432e-17, -1.00000000e+00]])"
      ]
     },
     "execution_count": 12,
     "metadata": {},
     "output_type": "execute_result"
    }
   ],
   "source": [
    "np.matmul(np.matmul(H,X),H)"
   ]
  },
  {
   "cell_type": "code",
   "execution_count": 13,
   "id": "a88e621f",
   "metadata": {},
   "outputs": [
    {
     "data": {
      "text/plain": [
       "array([ True,  True])"
      ]
     },
     "execution_count": 13,
     "metadata": {},
     "output_type": "execute_result"
    }
   ],
   "source": [
    "np.matmul(np.matmul(X,Y),ket_0) == 1j * np.matmul(Z,ket_0)"
   ]
  },
  {
   "cell_type": "code",
   "execution_count": 14,
   "id": "d218543f",
   "metadata": {},
   "outputs": [],
   "source": [
    "U = np.array([[1, 1], [1, -1]]) / np.sqrt(2)\n",
    "\n",
    "def initialize_state():\n",
    "    \"\"\"Prepare a qubit in state |0>.\n",
    "    \n",
    "    Returns:\n",
    "        array[float]: the vector representation of state |0>.\n",
    "    \"\"\"\n",
    "\n",
    "    ##################\n",
    "    # YOUR CODE HERE #\n",
    "    ##################\n",
    "    ket_0 = np.array([1,0])\n",
    "    \n",
    "    ket_1 = np.array([0,1])\n",
    "    return ket_0"
   ]
  },
  {
   "cell_type": "code",
   "execution_count": 15,
   "id": "baa2466c",
   "metadata": {},
   "outputs": [],
   "source": [
    "def apply_u(state):\n",
    "    \"\"\"Apply a quantum operation.\"\"\"\n",
    "    return np.dot(U, state)"
   ]
  },
  {
   "cell_type": "code",
   "execution_count": 16,
   "id": "737d30b1",
   "metadata": {},
   "outputs": [],
   "source": [
    "def measure_state(state, num_meas):\n",
    "    \"\"\"Measure a quantum state num_meas times.\"\"\"\n",
    "    p_alpha = np.abs(state[0]) ** 2\n",
    "    p_beta = np.abs(state[1]) ** 2\n",
    "    meas_outcome = np.random.choice([0, 1], p=[p_alpha, p_beta], size=num_meas)\n",
    "    return meas_outcome"
   ]
  },
  {
   "cell_type": "code",
   "execution_count": 17,
   "id": "db58e475",
   "metadata": {},
   "outputs": [],
   "source": [
    "def quantum_algorithm():\n",
    "    \"\"\"Use the functions above to implement the quantum algorithm described above.\n",
    "    \n",
    "    Try and do so using three lines of code or less!\n",
    "    \n",
    "    Returns:\n",
    "        array[int]: the measurement results after running the algorithm 100 times\n",
    "    \"\"\"\n",
    "    \n",
    "    ##################\n",
    "    # YOUR CODE HERE #\n",
    "    new_state = apply_u(initialize_state())\n",
    "    measure_state_temp = measure_state(new_state,100)\n",
    "    return(measure_state_temp)\n",
    "    ##################\n",
    "\n",
    "    # PREPARE THE STATE, APPLY U, THEN TAKE 100 MEASUREMENT SAMPLES\n",
    "    pass"
   ]
  },
  {
   "cell_type": "code",
   "execution_count": 18,
   "id": "af28939d",
   "metadata": {},
   "outputs": [
    {
     "data": {
      "text/plain": [
       "array([0, 1, 0, 0, 0, 1, 1, 0, 1, 1, 0, 0, 0, 1, 1, 1, 1, 1, 1, 0, 0, 0,\n",
       "       1, 1, 0, 0, 1, 1, 0, 0, 1, 1, 0, 0, 0, 0, 0, 0, 0, 0, 0, 0, 0, 1,\n",
       "       0, 1, 0, 1, 0, 1, 0, 0, 0, 0, 0, 0, 0, 1, 0, 1, 0, 1, 1, 0, 0, 0,\n",
       "       0, 1, 0, 1, 1, 1, 1, 1, 0, 1, 0, 1, 0, 1, 0, 0, 0, 1, 0, 1, 1, 1,\n",
       "       1, 0, 0, 1, 1, 0, 0, 0, 0, 1, 1, 0])"
      ]
     },
     "execution_count": 18,
     "metadata": {},
     "output_type": "execute_result"
    }
   ],
   "source": [
    "quantum_algorithm()"
   ]
  },
  {
   "cell_type": "code",
   "execution_count": 19,
   "id": "bdf5d37b",
   "metadata": {},
   "outputs": [],
   "source": [
    "U = np.array([[1, 1], [1, -1]]) / np.sqrt(2)\n",
    "\n",
    "def initialize_state():\n",
    "    \"\"\"Prepare a qubit in state |0>.\n",
    "    \n",
    "    Returns:\n",
    "        array[float]: the vector representation of state |0>.\n",
    "    \"\"\"\n",
    "\n",
    "    ##################\n",
    "    # YOUR CODE HERE #\n",
    "    ##################\n",
    "    ket_0 = np.array([1,0])\n",
    "    ket_1 = np.array([0,1])\n",
    "    return ket_0\n",
    "\n",
    "    # PREPARE THE STATE |0>   \n",
    "    pass\n",
    "\n",
    "\n",
    "def apply_u(state):\n",
    "    \"\"\"Apply a quantum operation.\"\"\"\n",
    "    return np.dot(U, state)\n",
    "\n",
    "\n",
    "def measure_state(state, num_meas):\n",
    "    \"\"\"Measure a quantum state num_meas times.\"\"\"\n",
    "    p_alpha = np.abs(state[0]) ** 2\n",
    "    p_beta = np.abs(state[1]) ** 2\n",
    "    meas_outcome = np.random.choice([0, 1], p=[p_alpha, p_beta], size=num_meas)\n",
    "    return meas_outcome\n",
    "\n",
    "\n",
    "def quantum_algorithm():\n",
    "    \"\"\"Use the functions above to implement the quantum algorithm described above.\n",
    "    \n",
    "    Try and do so using three lines of code or less!\n",
    "    \n",
    "    Returns:\n",
    "        array[int]: the measurement results after running the algorithm 100 times\n",
    "    \"\"\"\n",
    "    \n",
    "    ##################\n",
    "    # YOUR CODE HERE #\n",
    "    new_state = apply_u(initialize_state())\n",
    "    measure_state_temp = measure_state(new_state,100)\n",
    "    return(measure_state_temp)\n",
    "    ##################\n",
    "\n",
    "    # PREPARE THE STATE, APPLY U, THEN TAKE 100 MEASUREMENT SAMPLES\n",
    "    pass\n"
   ]
  },
  {
   "cell_type": "code",
   "execution_count": 20,
   "id": "52ace0f0",
   "metadata": {},
   "outputs": [
    {
     "data": {
      "text/plain": [
       "array([1, 1, 1, 1, 0, 1, 1, 1, 1, 1, 1, 1, 0, 1, 0, 0, 0, 0, 0, 0, 0, 0,\n",
       "       1, 1, 1, 1, 0, 0, 1, 1, 1, 0, 0, 0, 1, 0, 0, 0, 1, 1, 0, 1, 1, 1,\n",
       "       1, 0, 0, 0, 1, 1, 1, 1, 0, 1, 1, 1, 0, 0, 0, 1, 0, 1, 0, 0, 1, 1,\n",
       "       1, 0, 1, 0, 0, 1, 1, 0, 0, 1, 0, 1, 1, 0, 1, 1, 1, 0, 1, 0, 0, 1,\n",
       "       1, 0, 0, 1, 0, 0, 1, 0, 0, 1, 0, 0])"
      ]
     },
     "execution_count": 20,
     "metadata": {},
     "output_type": "execute_result"
    }
   ],
   "source": [
    "quantum_algorithm()"
   ]
  },
  {
   "cell_type": "code",
   "execution_count": 21,
   "id": "7eeb90a5",
   "metadata": {},
   "outputs": [
    {
     "data": {
      "text/plain": [
       "probs(wires=[0, 1, 2])"
      ]
     },
     "execution_count": 21,
     "metadata": {},
     "output_type": "execute_result"
    }
   ],
   "source": [
    "import pennylane as qml\n",
    "\n",
    "def my_circuit(theta, phi): \n",
    "    ##################\n",
    "    # YOUR CODE HERE #\n",
    "    ##################\n",
    "\n",
    "    # REORDER THESE 5 GATES TO MATCH THE CIRCUIT IN THE PICTURE\n",
    "\n",
    "    qml.CNOT(wires=[0, 1])\n",
    "    qml.RX(theta, wires=2)\n",
    "    qml.Hadamard(wires=0)\n",
    "    qml.CNOT(wires=[2, 0])\n",
    "    qml.RY(phi, wires=1)\n",
    "    # This is the measurement; we return the probabilities of all possible output states\n",
    "    # You'll learn more about what types of measurements are available in a later node\n",
    "    return qml.probs(wires=[0, 1, 2])\n",
    "my_circuit(90,180)"
   ]
  },
  {
   "cell_type": "code",
   "execution_count": 22,
   "id": "8f72ea25",
   "metadata": {},
   "outputs": [],
   "source": [
    "#To run any quantum \n",
    "dev = qml.device('default.qubit', wires=['wire_a','wire_b'])\n"
   ]
  },
  {
   "cell_type": "markdown",
   "id": "80b65e02",
   "metadata": {},
   "source": [
    "## Creating QNode"
   ]
  },
  {
   "cell_type": "code",
   "execution_count": 23,
   "id": "e853449c",
   "metadata": {},
   "outputs": [
    {
     "data": {
      "text/plain": [
       "tensor([9.87560268e-01, 0.00000000e+00, 0.00000000e+00, 2.47302134e-03,\n",
       "        2.48960206e-05, 0.00000000e+00, 0.00000000e+00, 9.94181506e-03], requires_grad=True)"
      ]
     },
     "execution_count": 23,
     "metadata": {},
     "output_type": "execute_result"
    }
   ],
   "source": [
    "# This creates a device with three wires on which PennyLane can run computations\n",
    "dev = qml.device(\"default.qubit\", wires=3)\n",
    "\n",
    "\n",
    "def my_circuit(theta, phi, omega):\n",
    "\n",
    "    ##################\n",
    "    # YOUR CODE HERE #\n",
    "    qml.RX(theta,wires=0)\n",
    "    qml.RY(phi,wires=1)\n",
    "    qml.RZ(omega,wires=2)\n",
    "    qml.CNOT(wires=[0,1])\n",
    "    qml.CNOT(wires=[1,2])\n",
    "    qml.CNOT(wires=[2,0])\n",
    "    ##################\n",
    "\n",
    "    # IMPLEMENT THE CIRCUIT BY ADDING THE GATES\n",
    "\n",
    "    # Here are two examples, so you can see the format:\n",
    "    # qml.CNOT(wires=[0, 1])\n",
    "    # qml.RX(theta, wires=0)\n",
    "    \n",
    "\n",
    "\n",
    "\n",
    "    return qml.probs(wires=[0, 1, 2])\n",
    "\n",
    "\n",
    "# This creates a QNode, binding the function and device\n",
    "my_qnode = qml.QNode(my_circuit, dev)\n",
    "\n",
    "# We set up some values for the input parameters\n",
    "theta, phi, omega = 0.1, 0.2, 0.3\n",
    "\n",
    "# Now we can execute the QNode by calling it like we would a regular function\n",
    "my_qnode(theta, phi, omega)\n"
   ]
  },
  {
   "cell_type": "code",
   "execution_count": 46,
   "id": "b3245816",
   "metadata": {},
   "outputs": [
    {
     "name": "stdout",
     "output_type": "stream",
     "text": [
      "[ 0.70710678+0.j -0.70710678+0.j]\n",
      "[0.70710678+0.j 0.70710678+0.j]\n"
     ]
    }
   ],
   "source": [
    "U = np.array([[1,1],[1,-1]])/np.sqrt(2)\n",
    "dev = qml.device(\"default.qubit\",wires = 1)\n",
    "\n",
    "@qml.qnode(dev)\n",
    "def varied_initial_state(state):\n",
    "    psi = ket_0\n",
    "    if state == 1:\n",
    "        qml.PauliX(wires = 0)\n",
    "    qml.QubitUnitary(U,wires=0)\n",
    "    return qml.state()\n",
    "# This creates a QNode, binding the function and device\n",
    "print(varied_initial_state(1))\n",
    "print(varied_initial_state(0))"
   ]
  },
  {
   "cell_type": "code",
   "execution_count": 47,
   "id": "2cfb677e",
   "metadata": {},
   "outputs": [
    {
     "data": {
      "text/plain": [
       "tensor([0.70710678+0.j, 0.70710678+0.j], requires_grad=True)"
      ]
     },
     "execution_count": 47,
     "metadata": {},
     "output_type": "execute_result"
    }
   ],
   "source": [
    "@qml.qnode(dev)\n",
    "def apply_hadamard():\n",
    "    qml.Hadamard(wires=0)\n",
    "    return qml.state()\n",
    "apply_hadamard()"
   ]
  },
  {
   "cell_type": "code",
   "execution_count": 49,
   "id": "623f70f5",
   "metadata": {},
   "outputs": [
    {
     "name": "stdout",
     "output_type": "stream",
     "text": [
      "The Hadamard 0 is: [0.70710678+0.j 0.70710678+0.j] and the Hadamard 1 is: [ 0.70710678+0.j -0.70710678+0.j]\n"
     ]
    }
   ],
   "source": [
    "# Apply Hadamard to a state\n",
    "@qml.qnode(dev)\n",
    "def hadamard(state):\n",
    "    psi = ket_0\n",
    "    if state == 1:\n",
    "        qml.PauliX(wires = 0)\n",
    "    qml.Hadamard(wires=0)\n",
    "    return qml.state()\n",
    "print(\"The Hadamard 0 is: {} and the Hadamard 1 is: {}\".format(hadamard(0),hadamard(1)))\n"
   ]
  },
  {
   "cell_type": "code",
   "execution_count": 50,
   "id": "32ed70e4",
   "metadata": {},
   "outputs": [
    {
     "name": "stdout",
     "output_type": "stream",
     "text": [
      "[1.+0.j 0.+0.j]\n",
      "[ 0.+0.j -1.+0.j]\n"
     ]
    }
   ],
   "source": [
    "dev = qml.device(\"default.qubit\",wires  = 1)\n",
    "@qml.qnode(dev)\n",
    "def apply_hxh(state):\n",
    "    if state == 1:\n",
    "        qml.PauliX(wires = 0)\n",
    "    qml.Hadamard(wires = 0)\n",
    "    qml.PauliX(wires = 0)\n",
    "    qml.Hadamard(wires = 0)\n",
    "    return qml.state()\n",
    "print(apply_hxh(0))\n",
    "print(apply_hxh(1))"
   ]
  },
  {
   "cell_type": "code",
   "execution_count": null,
   "id": "fd9e5598",
   "metadata": {},
   "outputs": [],
   "source": []
  }
 ],
 "metadata": {
  "kernelspec": {
   "display_name": "Python 3",
   "language": "python",
   "name": "python3"
  },
  "language_info": {
   "codemirror_mode": {
    "name": "ipython",
    "version": 3
   },
   "file_extension": ".py",
   "mimetype": "text/x-python",
   "name": "python",
   "nbconvert_exporter": "python",
   "pygments_lexer": "ipython3",
   "version": "3.9.7"
  }
 },
 "nbformat": 4,
 "nbformat_minor": 5
}
