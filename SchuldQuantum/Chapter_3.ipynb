{
 "cells": [
  {
   "cell_type": "markdown",
   "metadata": {},
   "source": [
    "# A First Taste"
   ]
  },
  {
   "cell_type": "markdown",
   "metadata": {},
   "source": [
    "## States and Observations."
   ]
  },
  {
   "cell_type": "markdown",
   "metadata": {},
   "source": [
    "We calculate an expectations of any event $M$ that has take the values $\\mu_1,\\mu_2,..,\\mu_k$ as\n",
    "\n",
    "\n",
    "$$ \\begin{equation}\n",
    "\\langle M \\rangle = \\sum_{i = 0}^k p_k\\mu_k\n",
    "\\end{equation}\n",
    "$$, where $p_k$ is the probabilites of each event."
   ]
  },
  {
   "cell_type": "code",
   "execution_count": 8,
   "metadata": {},
   "outputs": [
    {
     "name": "stdout",
     "output_type": "stream",
     "text": [
      "2.8000000000000003\n"
     ]
    }
   ],
   "source": [
    "import pennylane as qml\n",
    "import numpy as np\n",
    "events_names = ['event_1','event_2','event_3','event_4'] #events names are values of events_names_M\n",
    "events_numbers = [1,2,3,4]\n",
    "events_probabilites = [0.2,0.2,0.2,0.4]\n",
    "events_dict = dict(zip(events_names,events_numbers))\n",
    "events_probabilites_dict = dict(zip(events_names,events_probabilites))\n",
    "expectations_of_event_M = np.sum([events_probabilites[index] * events_numbers[index] for index in range(len(events_names))])\n",
    "print(expectations_of_event_M)\n",
    "\n",
    "#The result of 2.8 indicates that Event_3 and Event 4 are most likely to contains the information about the quantum state.\n"
   ]
  },
  {
   "cell_type": "markdown",
   "metadata": {},
   "source": [
    "So far we have four events and their probabilties. Upon calculating the expectation value, we found that particle on this system is most likely to be contained toward right hand then the left hand side of the system. Dr. Schuld claims that upon calcuating the expected value, we need two steps to arrive at the quantum system with K different possible configuration, measurements or outcomes. Remember here, we are at a single system and we have the chance to get $K$ outcomes. However, it is not clear yet, if this $K$ is same as the number of events $k$. \n",
    "1. Rewrite the probabilites and the outcomes as matrices and vector.\n",
    "$$ \\begin{equation}\n",
    "q = \\begin{pmatrix} \\sqrt{p_1} \\\\ . \\\\ . \\\\ \\sqrt{p_k} \\end{pmatrix} = \\sqrt{p_1} \\begin{pmatrix} 1 \\\\ 0 \\\\ . \\\\ . \\\\0 \\end{pmatrix} + ..... +\\sqrt{p_k} \\begin{pmatrix} 0 \\\\ 0 \\\\ . \\\\ . \\\\1 \\end{pmatrix}\n",
    "\\end{equation}\n",
    "$$\n",
    "2. Replace real positive probabilities with complex amplitudes."
   ]
  },
  {
   "cell_type": "code",
   "execution_count": 9,
   "metadata": {},
   "outputs": [
    {
     "name": "stdout",
     "output_type": "stream",
     "text": [
      "[[1. 0. 0. 0.]\n",
      " [0. 2. 0. 0.]\n",
      " [0. 0. 3. 0.]\n",
      " [0. 0. 0. 4.]]\n"
     ]
    }
   ],
   "source": [
    "# Lets do step 1. \n",
    "# Writing prpbabilites as vectors.\n",
    "q = np.asarray([np.sqrt(p) for p in events_probabilites])\n",
    "\n",
    "matrix_length = len(events_names)\n",
    "M = np.zeros((matrix_length,matrix_length),float)\n",
    "np.fill_diagonal(M,events_numbers)\n",
    "print(M)\n",
    "\n"
   ]
  },
  {
   "cell_type": "markdown",
   "metadata": {},
   "source": [
    "We can redefine the Expected value of an event as,\n",
    "$$\n",
    "\\begin{equation}\n",
    "\\langle M \\rangle = q^T M q = \\sum_{i = 0}^k p_k\\mu_k\n",
    "\\end{equation}\n",
    "$$\n",
    "where $M$ is a diagonal matrix with q or $\\mu_i$ value along its diagonal."
   ]
  },
  {
   "cell_type": "code",
   "execution_count": 10,
   "metadata": {},
   "outputs": [
    {
     "name": "stdout",
     "output_type": "stream",
     "text": [
      "2.8\n"
     ]
    }
   ],
   "source": [
    "expected_value = np.dot(np.dot(q.T,M),q) #This is a vectorized version of the above equation, and it is much faster than the above equation.\n",
    "print(expected_value)"
   ]
  },
  {
   "cell_type": "markdown",
   "metadata": {},
   "source": [
    "Lets define a basis vector $(1,0,....,0)^T$ that forms a subspace of $\\mathbb{R}^k$ that is associated with first event $event_1$."
   ]
  },
  {
   "cell_type": "code",
   "execution_count": 11,
   "metadata": {},
   "outputs": [
    {
     "name": "stdout",
     "output_type": "stream",
     "text": [
      "0.4472135954999579\n"
     ]
    }
   ],
   "source": [
    "basis_vec_of_first_event = np.asarray([1 if i == 0 else 0 for i in range(len(events_names))])\n",
    "outer_product_of_a  = np.outer(basis_vec_of_first_event,basis_vec_of_first_event)\n",
    "print(np.dot(basis_vec_of_first_event,q))\n"
   ]
  },
  {
   "cell_type": "markdown",
   "metadata": {},
   "source": [
    "### Eigenvalue and Eigen Vector"
   ]
  },
  {
   "cell_type": "code",
   "execution_count": 12,
   "metadata": {},
   "outputs": [
    {
     "name": "stdout",
     "output_type": "stream",
     "text": [
      "Eigenvalues of M: [1. 2. 3. 4.]\n",
      "Eigenvectors of M: [[1. 0. 0. 0.]\n",
      " [0. 1. 0. 0.]\n",
      " [0. 0. 1. 0.]\n",
      " [0. 0. 0. 1.]]\n"
     ]
    }
   ],
   "source": [
    "eigen_val,eigen_vec = np.linalg.eig(M)\n",
    "print(f\"Eigenvalues of M: {eigen_val}\")\n",
    "print(f\"Eigenvectors of M: {eigen_vec}\")\n",
    "\n",
    "#Lets check for the equation, M*v = w*v\n",
    "v1_1 = np.asarray([1 if i == 0 else 0 for i in range(len(events_names))])\n",
    "v2_2 = np.asarray([1 if i == 1 else 0 for i in range(len(events_names))])\n",
    "v3_3 = np.asarray([1 if i == 2 else 0 for i in range(len(events_names))])\n",
    "v4_4 = np.asarray([1 if i == 3 else 0 for i in range(len(events_names))])\n",
    "v1,v2,v3,v4 = eigen_vec\n",
    "q1,q2,q3,q4 = q.copy()"
   ]
  },
  {
   "cell_type": "markdown",
   "metadata": {},
   "source": [
    "Above we define vectors $v1,..,v_k$ (for us k is 4), as an orthonormal eigenvectors of $M$. It fulfil $Mv_k  = \\mu_k v_k$. \\\n",
    "We can define an amplitude vector $\\alpha$ from $q$ such that \n",
    "$$\n",
    "\\langle M \\rangle  = \\alpha^{\\dagger} M \\alpha = \\sum_{k = 1}^K | (v_k^{\\dagger} \\alpha )|^2 \\mu_k\n",
    "$$"
   ]
  },
  {
   "cell_type": "code",
   "execution_count": 13,
   "metadata": {},
   "outputs": [
    {
     "name": "stdout",
     "output_type": "stream",
     "text": [
      "2.8000000000000003 2.8 2.8 (2.8+0j)\n"
     ]
    }
   ],
   "source": [
    "l = np.dot(M,v1)\n",
    "r = np.dot(events_numbers[0],v1)\n",
    "a = np.asarray([np.sqrt(p) for p in events_probabilites],complex) #Complex amplitudes\n",
    "M_via_v_and_mu = sum([np.dot(np.power(abs(np.dot(np.conj(eigen_vec[i]),a)),2),events_numbers[i]) for i in range(len(events_names))])\n",
    "m_via_a = np.dot(np.dot(np.conj(a),M),a)\n",
    "print(expectations_of_event_M,expected_value,M_via_v_and_mu,m_via_a)\n",
    "\n"
   ]
  },
  {
   "cell_type": "markdown",
   "metadata": {},
   "source": [
    "Thus we have calculated an expected value using 4 methods.\n",
    "1. $$ \\begin{equation*} \\langle M \\rangle = \\sum_{i = 0}^k p_k\\mu_k,\\text{ where $p_k$ is the probability of even $E_k$ and $\\mu_k$ is an event value.}  \\end{equation*} $$ \n",
    "2. $$ \\begin{equation*} \\langle M \\rangle = q^T M q = \\sum_{i = 0}^k p_k\\mu_k \\text{, where $q$ is a vector of $\\sqrt{p_k}$ and $M$ is a diagonal matrix with $\\mu_k$ on its diagonal.} \\end{equation*} $$\n",
    "3. $$\\langle M \\rangle  = \\alpha^{\\dagger} M \\alpha \\text{, where $\\alpha$ is a complex vector of amplitudes. It is derived from $q$.}$$\n",
    "4. $$\\langle M \\rangle  = \\sum_{k = 1}^K | (v_k^{\\dagger} \\alpha )|^2 \\mu_k \\text{, where $v_i$ is an orthonormal eigen vectors of $M$.}$$\n"
   ]
  },
  {
   "cell_type": "code",
   "execution_count": 14,
   "metadata": {},
   "outputs": [
    {
     "name": "stdout",
     "output_type": "stream",
     "text": [
      "[[ 1.85663192]\n",
      " [-0.0713008 ]]\n"
     ]
    },
    {
     "data": {
      "text/plain": [
       "array([1.])"
      ]
     },
     "execution_count": 14,
     "metadata": {},
     "output_type": "execute_result"
    }
   ],
   "source": [
    "x = np.random.randn(2,1) #Get 10 random numbers from a normal distribution.\n",
    "print(x)\n",
    "k = np.sqrt(np.sum(x**2)) #Calculate the norm of the vector.\n",
    "x_new = x/k #Normalize the vector.\n",
    "sum([i**2 for i in x_new]) #Check that the norm is 1.\n"
   ]
  },
  {
   "cell_type": "markdown",
   "metadata": {},
   "source": [
    "# 3.2 "
   ]
  },
  {
   "cell_type": "markdown",
   "metadata": {},
   "source": [
    "## 3.2.2 Bits and Qubits\n"
   ]
  },
  {
   "cell_type": "code",
   "execution_count": 65,
   "metadata": {},
   "outputs": [],
   "source": [
    "ket_0 = np.asarray([[1],[0]])\n",
    "ket_1 = np.asarray([[0],[1]])\n",
    "alpha_0 = 0.8 + 0.j\n",
    "alpha_1 = 0.6 + 0.j\n",
    "bra_0 = np.conj(ket_0).T\n",
    "bra_1 = np.conj(ket_1).T\n",
    "alpha = np.asarray([[alpha_0],[alpha_1]])\n",
    "alpha_conj = np.conj(alpha).T\n",
    "\n"
   ]
  },
  {
   "cell_type": "markdown",
   "metadata": {},
   "source": [
    "Geometric representation of a qubit.\n",
    "$$\n",
    "\\ket{\\psi} = e^{i \\gamma}\\big(cos\\frac{\\theta}{2} \\ket{0} + e^{i \\phi} sin\\frac{\\theta}{2}\\ket{1}\\big)\n",
    "$$"
   ]
  },
  {
   "cell_type": "code",
   "execution_count": 89,
   "metadata": {},
   "outputs": [],
   "source": [
    "def calculate_psi(gamma,psi,theta):\n",
    "    state_ = np.exp(1j * gamma) * (np.cos(theta/2) * ket_0 + np.exp(1j * phi) * np.sin(theta/2) * ket_1)\n",
    "    return state_"
   ]
  },
  {
   "cell_type": "markdown",
   "metadata": {},
   "source": [
    "## Quantum Gates"
   ]
  },
  {
   "cell_type": "code",
   "execution_count": 102,
   "metadata": {},
   "outputs": [
    {
     "data": {
      "text/plain": [
       "array([[1, 0, 0, 0, 0, 0, 0, 0],\n",
       "       [0, 1, 0, 0, 0, 0, 0, 0],\n",
       "       [0, 0, 1, 0, 0, 0, 0, 0],\n",
       "       [0, 0, 0, 1, 0, 0, 0, 0],\n",
       "       [0, 0, 0, 0, 1, 0, 0, 0],\n",
       "       [0, 0, 0, 0, 0, 1, 0, 0],\n",
       "       [0, 0, 0, 0, 0, 0, 0, 1],\n",
       "       [0, 0, 0, 0, 0, 0, 1, 0]])"
      ]
     },
     "execution_count": 102,
     "metadata": {},
     "output_type": "execute_result"
    }
   ],
   "source": [
    "X_gate = np.asarray([[0,1],[1,0]])\n",
    "Y_gate = np.asarray([[0,-1j],[1j,0]])\n",
    "Z_gate = np.asarray([[1,0],[0,-1]])\n",
    "S_gate = np.asarray([[1,0],[0,1j]])\n",
    "T_gate = np.asarray([[1,0],[0,np.exp(1j * np.pi/4)]])\n",
    "Hadamard = np.asarray([[1/np.sqrt(2),1/np.sqrt(2)],[1/np.sqrt(2),-1/np.sqrt(2)]])\n",
    "R = np.asarray([[1,0],[0,np.exp(-1j * np.pi/4)]])\n",
    "CNOT = np.asarray([[1,0,0,0],[0,1,0,0],[0,0,0,1],[0,0,1,0]])\n",
    "SWAP = np.asarray([[1,0,0,0],[0,0,1,0],[0,1,0,0],[0,0,0,1]])\n",
    "Toffoli = np.asarray([[1,0,0,0,0,0,0,0],[0,1,0,0,0,0,0,0],[0,0,1,0,0,0,0,0],\n",
    "                        [0,0,0,1,0,0,0,0],[0,0,0,0,1,0,0,0],[0,0,0,0,0,1,0,0],\n",
    "                        [0,0,0,0,0,0,0,1],[0,0,0,0,0,0,1,0]])\n",
    "Toffoli"
   ]
  }
 ],
 "metadata": {
  "kernelspec": {
   "display_name": "Python 3.10.5 ('tf_mac')",
   "language": "python",
   "name": "python3"
  },
  "language_info": {
   "codemirror_mode": {
    "name": "ipython",
    "version": 3
   },
   "file_extension": ".py",
   "mimetype": "text/x-python",
   "name": "python",
   "nbconvert_exporter": "python",
   "pygments_lexer": "ipython3",
   "version": "3.10.5"
  },
  "orig_nbformat": 4,
  "vscode": {
   "interpreter": {
    "hash": "7cfd4d0365b7115e4020ce87e4cdea86bf1d0ae836bec2ad30920d104c9ba58a"
   }
  }
 },
 "nbformat": 4,
 "nbformat_minor": 2
}
