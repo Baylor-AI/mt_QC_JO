{
 "cells": [
  {
   "cell_type": "code",
   "execution_count": 49,
   "id": "aa4c9124",
   "metadata": {},
   "outputs": [],
   "source": [
    "import math\n",
    "import numpy as np\n",
    "import random\n",
    "import os\n",
    "import tarfile\n",
    "from six.moves import urllib\n",
    "import pandas as pd"
   ]
  },
  {
   "cell_type": "markdown",
   "id": "7c219fce",
   "metadata": {},
   "source": [
    "Lets Define $l_1$ and $l_2$ Norm. \\\n",
    "$$\\begin{equation} \n",
    "l_1(\\textbf{v}) = \\sum_{i=1}^N |v_i|\n",
    "\\end{equation} \n",
    "$$\n",
    "$$\n",
    "l_2(\\textbf{v}) = \\sqrt{\\sum_{i=1}^N |v_i|^2}\n",
    "$$\n",
    "Generally $l_k$ norm of a vector is defined by,\n",
    "$$\n",
    "l_k(v) = (|v_1|^k + |v_2|^k + ..... + | v_k | ^k)^{\\frac{1}{k}}\n",
    "$$"
   ]
  },
  {
   "cell_type": "code",
   "execution_count": 36,
   "id": "18c9d676",
   "metadata": {},
   "outputs": [],
   "source": [
    "def l1Norm(x):\n",
    "    return sum(x)\n",
    "    \n",
    "def l2Norm(x):\n",
    "    n = len(x)\n",
    "    total_sum = sum(list(map(lambda _list:_list * _list, x)))\n",
    "    return math.sqrt(total_sum)\n",
    "\n",
    "def lkNorm(vector,k):\n",
    "    total_sum = sum(list(map(lambda _list: abs(_list) ** k,vector)))\n",
    "    return total_sum ** (1/k)\n",
    "    "
   ]
  },
  {
   "cell_type": "code",
   "execution_count": 40,
   "id": "405c8b94",
   "metadata": {},
   "outputs": [
    {
     "name": "stdout",
     "output_type": "stream",
     "text": [
      "[7, 3, 4]\n",
      "l1 14\n",
      "l2 8.602325267042627\n",
      "lK 7.571174278190852\n"
     ]
    }
   ],
   "source": [
    "vector = random.sample(range(1,10),3)\n",
    "print(vector)\n",
    "print(\"l1\",l1Norm(vector))\n",
    "print(\"l2\",l2Norm(vector))\n",
    "print(\"lK\",lkNorm(vector,3))"
   ]
  },
  {
   "cell_type": "code",
   "execution_count": 53,
   "id": "51d88c97",
   "metadata": {},
   "outputs": [],
   "source": [
    "DOWNLOAD_ROOT = \"https://raw.githubusercontent.com/ageron/handson-ml/master/\"\n",
    "HOUSING_PATH = os.path.join(\"datasets\", \"housing\")\n",
    "HOUSING_URL = DOWNLOAD_ROOT + \"datasets/housing/housing.tgz\""
   ]
  },
  {
   "cell_type": "code",
   "execution_count": 56,
   "id": "4dbf8c73",
   "metadata": {},
   "outputs": [],
   "source": [
    "#fetch the data\n",
    "def fetch_housing_data(housing_url=HOUSING_URL, housing_path=HOUSING_PATH):\n",
    "    os.makedirs(housing_path, exist_ok=True)\n",
    "    tgz_path = os.path.join(housing_path, \"housing.tgz\")\n",
    "    urllib.request.urlretrieve(housing_url, tgz_path)\n",
    "    housing_tgz = tarfile.open(tgz_path)\n",
    "    housing_tgz.extractall(path=housing_path)\n",
    "    housing_tgz.close()\n",
    "\n",
    "#load the data\n",
    "fetch_housing_data()\n",
    "def load_housing_data(housing_path = Housing_Path):\n",
    "    csv_path = os.path.join(housing_path,\"housing.csv\")\n",
    "    return pd.read_csv(csv_path)"
   ]
  },
  {
   "cell_type": "code",
   "execution_count": 57,
   "id": "64363e42",
   "metadata": {},
   "outputs": [],
   "source": [
    "housing = load_housing_data()\n"
   ]
  },
  {
   "cell_type": "code",
   "execution_count": null,
   "id": "c5a50565",
   "metadata": {},
   "outputs": [],
   "source": []
  }
 ],
 "metadata": {
  "kernelspec": {
   "display_name": "Python 3",
   "language": "python",
   "name": "python3"
  },
  "language_info": {
   "codemirror_mode": {
    "name": "ipython",
    "version": 3
   },
   "file_extension": ".py",
   "mimetype": "text/x-python",
   "name": "python",
   "nbconvert_exporter": "python",
   "pygments_lexer": "ipython3",
   "version": "3.8.8"
  }
 },
 "nbformat": 4,
 "nbformat_minor": 5
}
