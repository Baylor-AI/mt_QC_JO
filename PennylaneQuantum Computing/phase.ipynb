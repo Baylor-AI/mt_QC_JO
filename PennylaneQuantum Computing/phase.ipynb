{
 "cells": [
  {
   "cell_type": "markdown",
   "metadata": {},
   "source": [
    "# Questions on Catch the Phase.\n",
    "1. State the motivation behind the quantum phase estimation (QPE) subroutine. \\\n",
    "Answer: QPE is used to solve linear system of equations and finding the ground energy if a molecule. \n",
    "\n",
    "2. List some applications of QPE. \\\n",
    "Answer: Mentioned in 1. \n",
    "\n",
    "3. Describe the phase kickback technique. \\\n",
    "Answer: Let us assume we have an controlled unitary operator $U$ and its corresponding eigenval and eigen vec $\\lambda$ and $\\ket{\\psi_{\\lambda}}$. We can prepare the target wires in $U$ eigen-vector states. The effect of applying $U$ on $\\ket{\\psi_\\lambda}$ is defined as \n",
    "$$\n",
    "U \\ket{\\psi_\\lambda} = \\lambda \\ket{\\psi_\\lambda} = e^{2i \\pi \\theta } \\ket{\\psi_\\lambda}\n",
    "$$ \n",
    "the eigenvalue corresponding to this eigenstate is kicked back to the control wires. Then, the control wires pick up a phase of $e^{2i \\pi \\theta }$. This is called phase kickback.\n",
    "\n",
    "4. Estimate a phase using phase kickback. \\\n",
    "Answer: The phase via kickback is $e^{2i \\pi \\theta }$."
   ]
  },
  {
   "cell_type": "code",
   "execution_count": 1,
   "metadata": {},
   "outputs": [],
   "source": [
    "import pennylane as qml\n",
    "from pennylane import numpy as np"
   ]
  },
  {
   "cell_type": "code",
   "execution_count": 2,
   "metadata": {},
   "outputs": [
    {
     "name": "stdout",
     "output_type": "stream",
     "text": [
      "The Eigen values are: [ 1.41421356 -1.41421356]\n",
      "The eigen vectors are:[[ 0.92387953 -0.38268343]\n",
      " [ 0.38268343  0.92387953]]\n"
     ]
    }
   ],
   "source": [
    "Z_gate = np.asarray([[1,1],[1,-1]])\n",
    "eigen_value_z,eigen_vec_z = np.linalg.eig(Z_gate)\n",
    "print(f\"The Eigen values are: {eigen_value_z}\")\n",
    "print(f\"The eigen vectors are:{eigen_vec_z}\")"
   ]
  },
  {
   "cell_type": "code",
   "execution_count": 3,
   "metadata": {},
   "outputs": [],
   "source": [
    "lamda_1_z,lamda_2_z = eigen_value_z\n",
    "psi_1_z,psi_2_z = eigen_vec_z"
   ]
  },
  {
   "cell_type": "markdown",
   "metadata": {},
   "source": [
    "Since the eigenvectors form an orthonormal set, all unitary matrices can be written in a diagonal representation or an orthonormal decomposition (or equivalently, a spectral decomposition).\n",
    "$\n",
    "\\begin{equation}\n",
    "U = \\sum_{\\lambda} e^{2i \\pi \\theta} \\ket{\\psi_{\\lambda}} \\bra{\\psi_{\\lambda}}\n",
    "\\end{equation}\n",
    "$\n",
    "where $e^{2i \\pi \\theta}$ is an eigenvalue of $\\ket{ \\psi_{\\lambda} }$"
   ]
  },
  {
   "cell_type": "code",
   "execution_count": 4,
   "metadata": {},
   "outputs": [
    {
     "name": "stdout",
     "output_type": "stream",
     "text": [
      "The unitary matrix is: [ 1. -1. -1. -1.]\n"
     ]
    }
   ],
   "source": [
    "U = 0\n",
    "for i in range(len(eigen_value_z)):\n",
    "    U += eigen_value_z[i]*np.kron(eigen_vec_z[i],eigen_vec_z[i])\n",
    "print(f\"The unitary matrix is: {U}\")\n"
   ]
  },
  {
   "cell_type": "markdown",
   "metadata": {},
   "source": [
    "Exercise P.1.3. Write the Tgate and the X gate in terms of their eigenbases."
   ]
  },
  {
   "cell_type": "code",
   "execution_count": 5,
   "metadata": {},
   "outputs": [
    {
     "name": "stdout",
     "output_type": "stream",
     "text": [
      "The Eigen values of X gate are: [-1.  1.]\n",
      "The eigen vectors of X gate are:[[-0.70710678  0.70710678]\n",
      " [ 0.70710678  0.70710678]]\n",
      "\n",
      "The Eigen values of T gate are: [0.70710678 1.        ]\n",
      "The eigen vectors of T gate are:[[0.+0.j 1.+0.j]\n",
      " [1.+0.j 0.+0.j]]\n"
     ]
    }
   ],
   "source": [
    "X_gate = np.array([[0,1],[1,0]])\n",
    "T_gate = np.asarray([[1,0],[0,np.exp(1j*np.pi/4)]])\n",
    "eigen_val_x,eigen_vec_x = np.linalg.eigh(X_gate)\n",
    "eigen_val_t,eigen_vec_t = np.linalg.eigh(T_gate)\n",
    "print(f\"The Eigen values of X gate are: {eigen_val_x}\")\n",
    "print(f\"The eigen vectors of X gate are:{eigen_vec_x}\")\n",
    "print()\n",
    "print(f\"The Eigen values of T gate are: {eigen_val_t}\")\n",
    "print(f\"The eigen vectors of T gate are:{eigen_vec_t}\")"
   ]
  },
  {
   "cell_type": "code",
   "execution_count": 6,
   "metadata": {},
   "outputs": [
    {
     "name": "stdout",
     "output_type": "stream",
     "text": [
      "The unitary matrix of X gate is: [0. 1. 1. 0.]\n",
      "\n",
      "The unitary matrix of T gate is: [1.        +0.j 0.        +0.j 0.        +0.j 0.70710678+0.j]\n"
     ]
    }
   ],
   "source": [
    "U_x,U_t = 0,0\n",
    "for i in range(len(eigen_val_x)):\n",
    "    U_x += eigen_val_x[i]*np.kron(eigen_vec_x[i],eigen_vec_x[i])\n",
    "    U_t += eigen_val_t[i]*np.kron(eigen_vec_t[i],eigen_vec_t[i])\n",
    "\n",
    "print(f\"The unitary matrix of X gate is: {U_x}\")\n",
    "print()\n",
    "print(f\"The unitary matrix of T gate is: {U_t}\")"
   ]
  },
  {
   "cell_type": "code",
   "execution_count": 7,
   "metadata": {},
   "outputs": [],
   "source": [
    "CNOT_gate = np.array([[1,0,0,0],[0,1,0,0],[0,0,0,1],[0,0,1,0]])\n",
    "Toffoli_gate = np.identity(8)\n",
    "Toffoli_gate[-1,-1],Toffoli_gate[-2,-2], = 0,0\n",
    "Toffoli_gate[-1,-2],Toffoli_gate[-2,-1], = 1,1\n",
    "eigen_val_cnot,eigen_vec_cnot = np.linalg.eigh(CNOT_gate)\n",
    "eigen_val_toff,eigen_vec_toff = np.linalg.eigh(Toffoli_gate)"
   ]
  },
  {
   "cell_type": "markdown",
   "metadata": {},
   "source": [
    "prove that the probability of observing 0 when measuring the first qubit is ($1 - sin^2 \\pi \\theta$) and  and the probability of observing 1 is $sin^2 \\pi \\theta$ \\\n",
    "The circuit is $H-CU-H (\\ket{0} \\otimes \\ket{\\psi})$ where $\\ket{\\psi}$ is an eigen vector if controlled unitary operator $CU$. \n",
    "\n",
    "Applying the given gate in orders, we will be at state,\n",
    "$$\n",
    "\\ket{\\Phi} = \\frac{1}{2}[(1 + e^{2 i \\pi \\theta}) \\ket{0}  + (1 - e^{2 i \\pi \\theta}) \\ket{1} ] \\otimes \\ket{\\psi} \\\\\n",
    "\n",
    "Therefore, P(\\ket{0}) = \\frac{(1 + e^{2 i \\pi \\theta})}{2^2}^2 = 1-sin^2 \\pi \\theta \\\\\n",
    "\n",
    "and, P(\\ket{1}) = sin^2 \\pi \\theta\n",
    "$$"
   ]
  },
  {
   "cell_type": "markdown",
   "metadata": {},
   "source": [
    "### Codercise P.1.1.\n",
    " You are given a unitary that is promised to be either the Z gate or the −Z gate. Write a quantum program using phase kickback that will result in the state |0⟩ with a probability of 100% on the first qubit if Z is applied and |1⟩ with a probability of 100% on the first qubit if −Z is applied."
   ]
  },
  {
   "cell_type": "code",
   "execution_count": 9,
   "metadata": {},
   "outputs": [],
   "source": [
    "dev = qml.device(\"default.qubit\", wires=2, shots=1)\n",
    "\n",
    "@qml.qnode(dev)\n",
    "def guess_the_unitary(unitary):\n",
    "    \"\"\"Given a unitary that performs a Z or a -Z operation\n",
    "    on a qubit, guess which one it is.\n",
    "    \n",
    "    Args: \n",
    "        U (array[complex]): A unitary matrix, guaranteed to be either Z or -Z.\n",
    "    \n",
    "    Returns:\n",
    "        array [int]:  Probabilities on  on the first qubit\n",
    "        using qml.probs()\n",
    "    \"\"\"\n",
    "    ##################\n",
    "    # YOUR CODE HERE #\n",
    "    ##################  \n",
    "    qml.Hadamard(wires = 0)\n",
    "    qml.ControlledQubitUnitary(unitary, control_wires = 0, wires = 1)\n",
    "    qml.Hadamard(wires = 1)\n",
    "    return qml.probs(wires = [0])\n",
    "    \n",
    "\n",
    "# Z gate \n",
    "U = qml.PauliZ.matrix \n",
    "\n",
    "# -Z gate\n",
    "# U = (-1)*qml.PauliZ.matrix\n",
    "\n",
    "# print(guess_the_unitary(U))\n"
   ]
  },
  {
   "cell_type": "markdown",
   "metadata": {},
   "source": [
    "### Codercise P.1.2. \n",
    "Find the eigenvalues of the X gate"
   ]
  },
  {
   "cell_type": "code",
   "execution_count": 11,
   "metadata": {},
   "outputs": [
    {
     "name": "stdout",
     "output_type": "stream",
     "text": [
      "[1. 0.]\n",
      "[0. 1.]\n"
     ]
    }
   ],
   "source": [
    "dev = qml.device(\"default.qubit\", wires=2)\n",
    "        \n",
    "@qml.qnode(dev)\n",
    "def phase_kickback_X(eigenvector):\n",
    "    \"\"\" Given an eigenvector of X, \n",
    "    apply the phase kickback circuit to observe \n",
    "    the probabilities on the control wire\n",
    "    \n",
    "    Args: \n",
    "        eigenvector(String): A string \"plus\" or \"minus\" depicting \n",
    "        the eigenvector of X\n",
    "    \n",
    "    Returns:\n",
    "        array[int]: Measurement outcome on the first qubit using qml.probs()\n",
    "    \"\"\"\n",
    "    # Prepare |ψ>\n",
    "    ##################\n",
    "    # YOUR CODE HERE #\n",
    "    ##################  \n",
    "    if eigenvector == \"minus\":  \n",
    "        qml.PauliX (wires = 1)\n",
    "    qml.Hadamard(wires = 1)\n",
    "    qml.Hadamard(wires = 0)\n",
    "    qml.CNOT(wires = [0,1])\n",
    "    qml.Hadamard(wires = 0)\n",
    "\n",
    "    # Phase kickback\n",
    "    ##################\n",
    "    # YOUR CODE HERE #\n",
    "    ################## \n",
    " \n",
    "    return qml.probs(wires=[0])   \n",
    "\n",
    "print(phase_kickback_X(\"plus\"))\n",
    "print(phase_kickback_X(\"minus\"))\n",
    "\n",
    "# MODIFY EIGENVALUES BELOW \n",
    "eigenvalue_of_X_plus = 1\n",
    "eigenvalue_of_X_minus = -1\n"
   ]
  }
 ],
 "metadata": {
  "kernelspec": {
   "display_name": "Python 3.10.5 ('tf_mac')",
   "language": "python",
   "name": "python3"
  },
  "language_info": {
   "codemirror_mode": {
    "name": "ipython",
    "version": 3
   },
   "file_extension": ".py",
   "mimetype": "text/x-python",
   "name": "python",
   "nbconvert_exporter": "python",
   "pygments_lexer": "ipython3",
   "version": "3.10.5"
  },
  "orig_nbformat": 4,
  "vscode": {
   "interpreter": {
    "hash": "7cfd4d0365b7115e4020ce87e4cdea86bf1d0ae836bec2ad30920d104c9ba58a"
   }
  }
 },
 "nbformat": 4,
 "nbformat_minor": 2
}
