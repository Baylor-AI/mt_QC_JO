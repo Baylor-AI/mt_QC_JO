{
 "cells": [
  {
   "cell_type": "markdown",
   "metadata": {},
   "source": [
    "# Questions on Catch the Phase.\n"
   ]
  },
  {
   "cell_type": "markdown",
   "metadata": {},
   "source": [
    "\n",
    "## P.1\n"
   ]
  },
  {
   "cell_type": "markdown",
   "metadata": {},
   "source": [
    "\n",
    "1. State the motivation behind the quantum phase estimation (QPE) subroutine. \\\n",
    "Answer: QPE is used to solve linear system of equations and finding the ground energy if a molecule. \n",
    "\n",
    "2. List some applications of QPE. \\\n",
    "Answer: Mentioned in 1. \n",
    "\n",
    "3. Describe the phase kickback technique. \\\n",
    "Answer: Let us assume we have an controlled unitary operator $U$ and its corresponding eigenval and eigen vec $\\lambda$ and $\\ket{\\psi_{\\lambda}}$. We can prepare the target wires in $U$ eigen-vector states. The effect of applying $U$ on $\\ket{\\psi_\\lambda}$ is defined as \n",
    "$$\n",
    "U \\ket{\\psi_\\lambda} = \\lambda \\ket{\\psi_\\lambda} = e^{2i \\pi \\theta } \\ket{\\psi_\\lambda}\n",
    "$$ \n",
    "the eigenvalue corresponding to this eigenstate is kicked back to the control wires. Then, the control wires pick up a phase of $e^{2i \\pi \\theta }$. This is called phase kickback.\n",
    "\n",
    "4. Estimate a phase using phase kickback. \\\n",
    "Answer: The phase via kickback is $e^{2i \\pi \\theta }$."
   ]
  },
  {
   "cell_type": "code",
   "execution_count": 28,
   "metadata": {},
   "outputs": [],
   "source": [
    "import pennylane as qml\n",
    "from pennylane import numpy as np"
   ]
  },
  {
   "cell_type": "code",
   "execution_count": 29,
   "metadata": {},
   "outputs": [
    {
     "name": "stdout",
     "output_type": "stream",
     "text": [
      "The Eigen values are: [ 1.41421356 -1.41421356]\n",
      "The eigen vectors are:[[ 0.92387953 -0.38268343]\n",
      " [ 0.38268343  0.92387953]]\n"
     ]
    }
   ],
   "source": [
    "Z_gate = np.asarray([[1,1],[1,-1]])\n",
    "eigen_value_z,eigen_vec_z = np.linalg.eig(Z_gate)\n",
    "print(f\"The Eigen values are: {eigen_value_z}\")\n",
    "print(f\"The eigen vectors are:{eigen_vec_z}\")"
   ]
  },
  {
   "cell_type": "code",
   "execution_count": 30,
   "metadata": {},
   "outputs": [],
   "source": [
    "lamda_1_z,lamda_2_z = eigen_value_z\n",
    "psi_1_z,psi_2_z = eigen_vec_z"
   ]
  },
  {
   "cell_type": "markdown",
   "metadata": {},
   "source": [
    "Since the eigenvectors form an orthonormal set, all unitary matrices can be written in a diagonal representation or an orthonormal decomposition (or equivalently, a spectral decomposition).\n",
    "$\n",
    "\\begin{equation}\n",
    "U = \\sum_{\\lambda} e^{2i \\pi \\theta} \\ket{\\psi_{\\lambda}} \\bra{\\psi_{\\lambda}}\n",
    "\\end{equation}\n",
    "$\n",
    "where $e^{2i \\pi \\theta}$ is an eigenvalue of $\\ket{ \\psi_{\\lambda} }$"
   ]
  },
  {
   "cell_type": "code",
   "execution_count": 31,
   "metadata": {},
   "outputs": [
    {
     "name": "stdout",
     "output_type": "stream",
     "text": [
      "The unitary matrix is: [ 1. -1. -1. -1.]\n"
     ]
    }
   ],
   "source": [
    "U = 0\n",
    "for i in range(len(eigen_value_z)):\n",
    "    U += eigen_value_z[i]*np.kron(eigen_vec_z[i],eigen_vec_z[i])\n",
    "print(f\"The unitary matrix is: {U}\")\n"
   ]
  },
  {
   "cell_type": "markdown",
   "metadata": {},
   "source": [
    "Exercise P.1.3. Write the Tgate and the X gate in terms of their eigenbases."
   ]
  },
  {
   "cell_type": "code",
   "execution_count": 32,
   "metadata": {},
   "outputs": [
    {
     "name": "stdout",
     "output_type": "stream",
     "text": [
      "The Eigen values of X gate are: [-1.  1.]\n",
      "The eigen vectors of X gate are:[[-0.70710678  0.70710678]\n",
      " [ 0.70710678  0.70710678]]\n",
      "\n",
      "The Eigen values of T gate are: [0.70710678 1.        ]\n",
      "The eigen vectors of T gate are:[[0.+0.j 1.+0.j]\n",
      " [1.+0.j 0.+0.j]]\n"
     ]
    }
   ],
   "source": [
    "X_gate = np.array([[0,1],[1,0]])\n",
    "T_gate = np.asarray([[1,0],[0,np.exp(1j*np.pi/4)]])\n",
    "eigen_val_x,eigen_vec_x = np.linalg.eigh(X_gate)\n",
    "eigen_val_t,eigen_vec_t = np.linalg.eigh(T_gate)\n",
    "print(f\"The Eigen values of X gate are: {eigen_val_x}\")\n",
    "print(f\"The eigen vectors of X gate are:{eigen_vec_x}\")\n",
    "print()\n",
    "print(f\"The Eigen values of T gate are: {eigen_val_t}\")\n",
    "print(f\"The eigen vectors of T gate are:{eigen_vec_t}\")"
   ]
  },
  {
   "cell_type": "code",
   "execution_count": 33,
   "metadata": {},
   "outputs": [
    {
     "name": "stdout",
     "output_type": "stream",
     "text": [
      "The unitary matrix of X gate is: [0. 1. 1. 0.]\n",
      "\n",
      "The unitary matrix of T gate is: [1.        +0.j 0.        +0.j 0.        +0.j 0.70710678+0.j]\n"
     ]
    }
   ],
   "source": [
    "U_x,U_t = 0,0\n",
    "for i in range(len(eigen_val_x)):\n",
    "    U_x += eigen_val_x[i]*np.kron(eigen_vec_x[i],eigen_vec_x[i])\n",
    "    U_t += eigen_val_t[i]*np.kron(eigen_vec_t[i],eigen_vec_t[i])\n",
    "\n",
    "print(f\"The unitary matrix of X gate is: {U_x}\")\n",
    "print()\n",
    "print(f\"The unitary matrix of T gate is: {U_t}\")"
   ]
  },
  {
   "cell_type": "code",
   "execution_count": 34,
   "metadata": {},
   "outputs": [],
   "source": [
    "CNOT_gate = np.array([[1,0,0,0],[0,1,0,0],[0,0,0,1],[0,0,1,0]])\n",
    "Toffoli_gate = np.identity(8)\n",
    "Toffoli_gate[-1,-1],Toffoli_gate[-2,-2], = 0,0\n",
    "Toffoli_gate[-1,-2],Toffoli_gate[-2,-1], = 1,1\n",
    "eigen_val_cnot,eigen_vec_cnot = np.linalg.eigh(CNOT_gate)\n",
    "eigen_val_toff,eigen_vec_toff = np.linalg.eigh(Toffoli_gate)"
   ]
  },
  {
   "cell_type": "markdown",
   "metadata": {},
   "source": [
    "prove that the probability of observing 0 when measuring the first qubit is ($1 - sin^2 \\pi \\theta$) and  and the probability of observing 1 is $sin^2 \\pi \\theta$ \\\n",
    "The circuit is $H-CU-H (\\ket{0} \\otimes \\ket{\\psi})$ where $\\ket{\\psi}$ is an eigen vector if controlled unitary operator $CU$. \n",
    "\n",
    "Applying the given gate in orders, we will be at state,\n",
    "$$\n",
    "\\ket{\\Phi} = \\frac{1}{2}[(1 + e^{2 i \\pi \\theta}) \\ket{0}  + (1 - e^{2 i \\pi \\theta}) \\ket{1} ] \\otimes \\ket{\\psi} \\\\\n",
    "\n",
    "Therefore, P(\\ket{0}) = \\frac{(1 + e^{2 i \\pi \\theta})}{2^2}^2 = 1-sin^2 \\pi \\theta \\\\\n",
    "\n",
    "and, P(\\ket{1}) = sin^2 \\pi \\theta\n",
    "$$"
   ]
  },
  {
   "cell_type": "markdown",
   "metadata": {},
   "source": [
    "### Codercise P.1.1.\n",
    " You are given a unitary that is promised to be either the Z gate or the −Z gate. Write a quantum program using phase kickback that will result in the state |0⟩ with a probability of 100% on the first qubit if Z is applied and |1⟩ with a probability of 100% on the first qubit if −Z is applied."
   ]
  },
  {
   "cell_type": "code",
   "execution_count": 35,
   "metadata": {},
   "outputs": [],
   "source": [
    "dev = qml.device(\"default.qubit\", wires=2, shots=1)\n",
    "\n",
    "@qml.qnode(dev)\n",
    "def guess_the_unitary(unitary):\n",
    "    \"\"\"Given a unitary that performs a Z or a -Z operation\n",
    "    on a qubit, guess which one it is.\n",
    "    \n",
    "    Args: \n",
    "        U (array[complex]): A unitary matrix, guaranteed to be either Z or -Z.\n",
    "    \n",
    "    Returns:\n",
    "        array [int]:  Probabilities on  on the first qubit\n",
    "        using qml.probs()\n",
    "    \"\"\"\n",
    "    ##################\n",
    "    # YOUR CODE HERE #\n",
    "    ##################  \n",
    "    qml.Hadamard(wires = 0)\n",
    "    qml.ControlledQubitUnitary(unitary, control_wires = 0, wires = 1)\n",
    "    qml.Hadamard(wires = 1)\n",
    "    return qml.probs(wires = [0])\n",
    "    \n",
    "\n",
    "# Z gate \n",
    "U = qml.PauliZ.matrix \n",
    "\n",
    "# -Z gate\n",
    "# U = (-1)*qml.PauliZ.matrix\n",
    "\n",
    "# print(guess_the_unitary(U))\n"
   ]
  },
  {
   "cell_type": "markdown",
   "metadata": {},
   "source": [
    "### Codercise P.1.2. \n",
    "Find the eigenvalues of the X gate"
   ]
  },
  {
   "cell_type": "code",
   "execution_count": 36,
   "metadata": {},
   "outputs": [
    {
     "name": "stdout",
     "output_type": "stream",
     "text": [
      "[1. 0.]\n",
      "[0. 1.]\n"
     ]
    }
   ],
   "source": [
    "dev = qml.device(\"default.qubit\", wires=2)\n",
    "        \n",
    "@qml.qnode(dev)\n",
    "def phase_kickback_X(eigenvector):\n",
    "    \"\"\" Given an eigenvector of X, \n",
    "    apply the phase kickback circuit to observe \n",
    "    the probabilities on the control wire\n",
    "    \n",
    "    Args: \n",
    "        eigenvector(String): A string \"plus\" or \"minus\" depicting \n",
    "        the eigenvector of X\n",
    "    \n",
    "    Returns:\n",
    "        array[int]: Measurement outcome on the first qubit using qml.probs()\n",
    "    \"\"\"\n",
    "    # Prepare |ψ>\n",
    "    ##################\n",
    "    # YOUR CODE HERE #\n",
    "    ##################  \n",
    "    if eigenvector == \"minus\":  \n",
    "        qml.PauliX (wires = 1)\n",
    "    qml.Hadamard(wires = 1)\n",
    "    qml.Hadamard(wires = 0)\n",
    "    qml.CNOT(wires = [0,1])\n",
    "    qml.Hadamard(wires = 0)\n",
    "\n",
    "    # Phase kickback\n",
    "    ##################\n",
    "    # YOUR CODE HERE #\n",
    "    ################## \n",
    " \n",
    "    return qml.probs(wires=[0])   \n",
    "\n",
    "print(phase_kickback_X(\"plus\"))\n",
    "print(phase_kickback_X(\"minus\"))\n",
    "\n",
    "# MODIFY EIGENVALUES BELOW \n",
    "eigenvalue_of_X_plus = 1\n",
    "eigenvalue_of_X_minus = -1\n"
   ]
  },
  {
   "cell_type": "markdown",
   "metadata": {},
   "source": [
    "## P.2"
   ]
  },
  {
   "cell_type": "markdown",
   "metadata": {},
   "source": [
    "### Codercise P.2.1. \n",
    "Given a unitary matrix U , compute the value of a higher power, $U^{2^k}$. You can use the matrix_power function from NumPy's linear algebra library."
   ]
  },
  {
   "cell_type": "code",
   "execution_count": 37,
   "metadata": {},
   "outputs": [
    {
     "name": "stdout",
     "output_type": "stream",
     "text": [
      "<class 'pennylane.ops.qubit.non_parametric_ops.T'>\n"
     ]
    },
    {
     "data": {
      "text/plain": [
       "tensor([[ 1.+0.00000000e+00j,  0.+0.00000000e+00j],\n",
       "        [ 0.+0.00000000e+00j, -1.+3.99346924e-16j]], requires_grad=True)"
      ]
     },
     "execution_count": 37,
     "metadata": {},
     "output_type": "execute_result"
    }
   ],
   "source": [
    "def U_power_2k(unitary, k):\n",
    "    \"\"\" Computes U at a power of 2k (U^2^k)\n",
    "    \n",
    "    Args: \n",
    "        unitary (array[complex]): A unitary matrix\n",
    "    \n",
    "    Returns: \n",
    "        array[complex]: the unitary raised to the power of 2^k\n",
    "    \"\"\"\n",
    "    ##################\n",
    "    # YOUR CODE HERE #\n",
    "    ##################\n",
    "    pwr = np.power(2,k)\n",
    "    return np.linalg.matrix_power(unitary,pwr )\n",
    "            \n",
    "\n",
    "# Try out a higher power of U\n",
    "U = qml.T\n",
    "print(U)\n",
    "\n",
    "U_power_2k(T_gate, 2)\n",
    "    \n",
    "   \n"
   ]
  },
  {
   "cell_type": "markdown",
   "metadata": {},
   "source": [
    "### Codercise P.2.2. \n",
    "Implement a subroutine that applies the sequence of $U^{2^k}$ unitaries on the target wires controlled on the estimation wires. The function U_power_2k from the previous exercise is available for you to use."
   ]
  },
  {
   "cell_type": "code",
   "execution_count": 38,
   "metadata": {},
   "outputs": [],
   "source": [
    "estimation_wires = [0, 1, 2]\n",
    "target_wires = [3]\n",
    "\n",
    "def apply_controlled_powers_of_U(unitary):\n",
    "    \"\"\"A quantum function that applies the sequence of powers of U^2^k to\n",
    "    the estimation wires.\n",
    "    \n",
    "    Args: \n",
    "        unitary (array [complex]): A unitary matrix\n",
    "    \"\"\"\n",
    "\n",
    "    ##################\n",
    "    # YOUR CODE HERE #\n",
    "    ##################\n",
    "    i = 0\n",
    "    for wire in reversed(range(len(estimation_wires))):\n",
    "        u_mat = U_power_2k(unitary,wire)\n",
    "        qml.ControlledQubitUnitary(u_mat,control_wires = estimation_wires[i], wires = target_wires)\n",
    "        i += 1\n",
    "    \n",
    "apply_controlled_powers_of_U(T_gate)"
   ]
  },
  {
   "cell_type": "markdown",
   "metadata": {},
   "source": [
    "### Codercise P.2.3. \n",
    "Implement the QPE subroutine given a unitary, a set of estimation wires, and a set of target wires. The functions defined above (U_power_2k and apply_controlled_powers_of_U ) are available to use. Additionally, the function prepare_eigenvector which prepares an eigenvector of the unitary operator is also given to you below. To implement the $QFT^{\\dagger}$\n",
    ", you can make use of PennyLane's template for QFT and qml.adjoint."
   ]
  },
  {
   "cell_type": "code",
   "execution_count": 39,
   "metadata": {},
   "outputs": [
    {
     "name": "stdout",
     "output_type": "stream",
     "text": [
      "[8.54017922e-33 1.00000000e+00 2.83952386e-32 2.43148655e-32\n",
      " 3.85054815e-32 5.56593754e-32 9.51759284e-32 2.40741243e-31]\n"
     ]
    }
   ],
   "source": [
    "dev = qml.device(\"default.qubit\", wires=4)\n",
    "\n",
    "estimation_wires = [0, 1, 2]\n",
    "target_wires = [3]\n",
    "\n",
    "def prepare_eigenvector():\n",
    "    qml.PauliX(wires=target_wires)\n",
    "\n",
    "@qml.qnode(dev)\n",
    "def qpe(unitary):\n",
    "    \"\"\" Estimate the phase for a given unitary.\n",
    "    \n",
    "    Args:\n",
    "        unitary (array[complex]): A unitary matrix.\n",
    "        \n",
    "    Returns:\n",
    "        array[float]: Measurement outcome probabilities on the estimation wires.\n",
    "    \"\"\"\n",
    "    ##################\n",
    "    # YOUR CODE HERE #\n",
    "    ################## \n",
    "    for wire in estimation_wires:\n",
    "        qml.Hadamard(wires = wire)\n",
    "    prepare_eigenvector()\n",
    "    apply_controlled_powers_of_U(unitary)\n",
    "    qml.adjoint(qml.QFT)(wires = estimation_wires)\n",
    "    return qml.probs(wires = estimation_wires)\n",
    "    \n",
    "    \n",
    "\n",
    "# U = qml.T._matrix()\n",
    "print(qpe(T_gate))\n"
   ]
  },
  {
   "cell_type": "markdown",
   "metadata": {},
   "source": [
    "### Codercise P.2.4. \n",
    "Given the probabilities on the estimation wires, estimate the phase associated with the T gate, when the eigenvector is prepared in the state\n",
    "$\\ket{1}$."
   ]
  },
  {
   "cell_type": "code",
   "execution_count": 40,
   "metadata": {},
   "outputs": [
    {
     "name": "stdout",
     "output_type": "stream",
     "text": [
      "0.125\n"
     ]
    }
   ],
   "source": [
    "estimation_wires = [0, 1, 2]\n",
    "target_wires = [3]\n",
    "\n",
    "def estimate_phase(probs):\n",
    "    \"\"\"Estimate the value of a phase given measurement outcome probabilities\n",
    "    of the QPE routine.\n",
    "    \n",
    "    Args: \n",
    "        probs (array[float]): Probabilities on the estimation wires.\n",
    "    \n",
    "    Returns:\n",
    "        float: the estimated phase   \n",
    "    \"\"\"\n",
    "    ##################\n",
    "    # YOUR CODE HERE #\n",
    "    ################## \n",
    "    temp = 1/np.power(2,len(estimation_wires))\n",
    "    list_ = [temp*i for i in range(len(probs))]\n",
    "    return float(np.sum(np.array(probs)*list_))\n",
    "\n",
    "# U = qml.T._matrix()\n",
    "\n",
    "# probs = qpe(U)\n",
    "probs = [1.3479e-32,1.0000e+00, 2.7843e-32 ,2.4652e-32 ,3.3868e-32 ,5.6093e-32, 8.4698e-32 ,2.6193e-31]\n",
    "\n",
    "\n",
    "estimated_phase = estimate_phase(probs)\n",
    "print(estimated_phase)"
   ]
  },
  {
   "cell_type": "markdown",
   "metadata": {},
   "source": [
    "### Codercise P.2.5.\n",
    "Use PennyLane's template for QPE to calculate the phase of the T gate."
   ]
  },
  {
   "cell_type": "code",
   "execution_count": 41,
   "metadata": {},
   "outputs": [
    {
     "name": "stdout",
     "output_type": "stream",
     "text": [
      "0.125\n"
     ]
    }
   ],
   "source": [
    "dev = qml.device(\"default.qubit\", wires=4)\n",
    "\n",
    "estimation_wires = [0, 1, 2]\n",
    "target_wires = [3]\n",
    "\n",
    "def prepare_eigenvector():\n",
    "    qml.PauliX(wires=target_wires)\n",
    "\n",
    "@qml.qnode(dev)\n",
    "def qpe(unitary):\n",
    "    \"\"\"Estimate the phase for a given unitary.\n",
    "    \n",
    "    Args:\n",
    "        unitary (array[complex]): A unitary matrix.\n",
    "        \n",
    "    Returns:\n",
    "        array[float]: Probabilities on the estimation wires.\n",
    "    \"\"\"\n",
    "    \n",
    "    prepare_eigenvector()\n",
    "    \n",
    "    ##################\n",
    "    # YOUR CODE HERE #\n",
    "    ################## \n",
    "    qml.QuantumPhaseEstimation(unitary, target_wires, estimation_wires)\n",
    "    return qml.probs(wires = estimation_wires)\n",
    "\n",
    "\n",
    "# U = qml.T._matrix()\n",
    "# probs = qpe(U)\n",
    "print(estimate_phase(probs))\n"
   ]
  },
  {
   "cell_type": "markdown",
   "metadata": {},
   "source": [
    "## P.3"
   ]
  },
  {
   "cell_type": "markdown",
   "metadata": {},
   "source": [
    "### Let's be rational (Theory)\n",
    "\n",
    "What if there is no $t-bits$ binary expansion for the phase?"
   ]
  },
  {
   "cell_type": "markdown",
   "metadata": {},
   "source": [
    "During our $QPE$ when we apply the $\\textbf{ORACLE}$ $ H^{\\otimes n}$ on circuit, we arrive at $QFT$ base. Recall QFT is defined as,\n",
    "$$\n",
    "U_{QFT} \\ket{x} = \\frac{1}{\\sqrt{N}} \\sum_{y=0}^{N-1} e^{\\frac{2i\\pi}{N} x . y} \\ket{y}, \\text{where } N = 2^n\n",
    "$$ "
   ]
  },
  {
   "cell_type": "markdown",
   "metadata": {},
   "source": [
    "What if phase can not be represented by bilary representation, i.e something like $\\theta = 0.\\theta_1 \\theta_2 \\theta_1 \\theta_2 ... \\rightarrow \\theta =  0.\\overline{\\theta_1 \\theta_2}$. Then we need to approx the t-bits probability. If $\\tilde{\\theta}$ is the real phase, we can define $\\tilde{\\theta}  = \\theta + \\delta$ where $\\delta = \\frac {1}{2^t}$ and apply $QFT^{\\dagger}$ on the above state. Doing so, we will get the success probability as, \n",
    "$$\n",
    " \\left |\\frac{1}{2^t} \\sum_{y=0}^{2^t -1 }e ^{\\frac{2 i \\pi \\delta y}{2^t}} \\right |^2\n",
    "$$\n",
    "This is similar to geometric series. So the success prob can be solved to ,\n",
    "$$\n",
    "P = \\frac{1}{2^t} \\frac{1 - e^{2 i \\pi \\delta}}{1 - e^{\\frac{2i\\pi \\delta} {2^t}}}\n",
    "$$\n",
    "Solving it, we get,\n",
    "$$\n",
    " \\left |\\frac{1}{2^t} \\sum_{y=0}^{2^t -1 }e ^{\\frac{2 i \\pi \\delta y}{2^t}} \\right |^2 = \\left | \\left ( \\frac{2}{\\pi}\\right )  \\right |^2 = 0.4053\n",
    "$$\n"
   ]
  },
  {
   "cell_type": "markdown",
   "metadata": {},
   "source": [
    "### Codercise"
   ]
  },
  {
   "cell_type": "markdown",
   "metadata": {},
   "source": [
    "### Codercise P.3.1. \n",
    "Using the QPE algorithm, estimate the two most likely outcomes of the eigenphase of the eigenvector $\\ket{1}$\n",
    " of a unitary operator. The function `qpe(unitary, estimation_wires, target_wires)` is provided for you and returns a list of probabilities on the estimation wires. Since this involves testing your solution for a different number of estimation wires, please change the return value of the variable done to True when you are finished with testing."
   ]
  },
  {
   "cell_type": "code",
   "execution_count": 42,
   "metadata": {},
   "outputs": [
    {
     "name": "stdout",
     "output_type": "stream",
     "text": [
      "(0.875, 0.125)\n"
     ]
    }
   ],
   "source": [
    "dev = qml.device(\"default.qubit\", wires=10)\n",
    "\n",
    "def fractional_binary_to_decimal(binary_fraction, wires):\n",
    "    return float(binary_fraction/ 2 ** len(wires))\n",
    "\n",
    "def phase_window(probs, estimation_wires):\n",
    "    \"\"\" Given an array of probabilities, return the phase window of the unitary's eigenvalue\n",
    "    \n",
    "    Args: \n",
    "        probs (array[float]): Probabilities on the estimation wires.\n",
    "        estimation_wires (list[int]): List of estimation wires\n",
    "    \n",
    "    Returns:\n",
    "        (float, float): the lower and upper bound of the phase\n",
    "    \"\"\"\n",
    "    index_1 = np.argmax(probs)\n",
    "    bound_1 = fractional_binary_to_decimal(index_1,estimation_wires)\n",
    "    probs[index_1] = 0.0\n",
    "    index_1 = np.argmax(probs)\n",
    "    bound_2 = fractional_binary_to_decimal(index_1,estimation_wires)\n",
    "    ##################\n",
    "    # YOUR CODE HERE #\n",
    "    ################## \n",
    "    # bound_1 = 0 # MOST LIKELY OUTCOME\n",
    "    #bound_2 = 1 #SECOND MOST LIKELY OUTCOME\n",
    "    return (bound_2, bound_1)\n",
    "\n",
    "\n",
    "# Test your solution\n",
    "\n",
    "# You can increase the number of estimation wires to a maximum of range(0, 9)\n",
    "estimation_wires = range(0, 3)\n",
    "\n",
    "# The target is set to the last qubit\n",
    "target_wires = [9]\n",
    "\n",
    "# Define the unitary\n",
    "#U = np.array([[1, 0], [0, np.exp((2*np.pi*1j/7))]])\n",
    "\n",
    "#probs = qpe(U, estimation_wires, target_wires)\n",
    "\n",
    "print(phase_window(probs, estimation_wires))\n",
    "\n",
    "# MODIFY TO TRUE AFTER TESTING YOUR SOLUTION\n",
    "done = True\n"
   ]
  },
  {
   "cell_type": "markdown",
   "metadata": {},
   "source": [
    "### Codercise P.3.2.\n",
    " On a device with 10 qubits, the last wire is set as the target wire and the first 9 wires are set as the estimation wires. Calculate the phase estimates starting at 1 to a maximum of 9 estimation wires. The qpe(unitary, estimation_wires, target_wires) and phase_window(probs, estimation_wires) functions have been defined for you and the target_wires have been prepared in the state $\\ket{1}$. Hit the submit button to see how the phase window gets smaller (and the estimate gets closer to the actual phase) as the number of estimation wires increases for the following unitary:\n",
    " $ \\begin{bmatrix}\n",
    "1 & 0 \\\\\n",
    "0 & e^{\\frac{2i\\pi}{7}}\n",
    "\\end{bmatrix} $"
   ]
  },
  {
   "cell_type": "code",
   "execution_count": 43,
   "metadata": {},
   "outputs": [],
   "source": [
    "dev = qml.device(\"default.qubit\", wires=10)\n",
    "\n",
    "def estimates_array(unitary):\n",
    "    \"\"\" Given a unitary, return a list of its phase windows\n",
    "    \n",
    "    Args: \n",
    "        unitary (array[complex]): A unitary matrix.\n",
    "    \n",
    "    Returns:\n",
    "        [(float, float)]: a list of phase windows for 1 to 9 \n",
    "        estimation wires\n",
    "    \"\"\"\n",
    "\n",
    "    estimates = []\n",
    "    target_wires = [9]\n",
    "\n",
    "    ##################\n",
    "    # YOUR CODE HERE #\n",
    "    ################## \n",
    "    for i in range(2,10):\n",
    "        probs = qpe(unitary, range(i), target_wires)\n",
    "        bounds = phase_window(probs, range(i))\n",
    "        estimates.append(bounds)\n",
    "        \n",
    "\n",
    "    return estimates\n",
    "\n",
    "# Define the unitary\n",
    "U = np.array([[1, 0], [0, np.exp((2*np.pi*1j/7))]])\n",
    "\n",
    "#estimates_array(U)\n",
    "\n",
    "###################\n",
    "# SUBMIT FOR PLOT #\n",
    "###################\n"
   ]
  }
 ],
 "metadata": {
  "kernelspec": {
   "display_name": "Python 3.10.5 ('tf_mac')",
   "language": "python",
   "name": "python3"
  },
  "language_info": {
   "codemirror_mode": {
    "name": "ipython",
    "version": 3
   },
   "file_extension": ".py",
   "mimetype": "text/x-python",
   "name": "python",
   "nbconvert_exporter": "python",
   "pygments_lexer": "ipython3",
   "version": "3.10.5"
  },
  "orig_nbformat": 4,
  "vscode": {
   "interpreter": {
    "hash": "7cfd4d0365b7115e4020ce87e4cdea86bf1d0ae836bec2ad30920d104c9ba58a"
   }
  }
 },
 "nbformat": 4,
 "nbformat_minor": 2
}
