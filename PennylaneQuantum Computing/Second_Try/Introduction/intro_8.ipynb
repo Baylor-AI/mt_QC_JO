{
 "cells": [
  {
   "cell_type": "code",
   "execution_count": 1,
   "metadata": {},
   "outputs": [],
   "source": [
    "import pennylane as qml\n",
    "from pennylane import numpy as np\n",
    "import matplotlib.pyplot as plt"
   ]
  },
  {
   "cell_type": "code",
   "execution_count": 3,
   "metadata": {},
   "outputs": [
    {
     "data": {
      "text/plain": [
       "tensor([ 4.32978028e-17-0.70710678j, -5.00000000e-01+0.5j       ], requires_grad=True)"
      ]
     },
     "execution_count": 3,
     "metadata": {},
     "output_type": "execute_result"
    }
   ],
   "source": [
    "#1\n",
    "dev = qml.device(\"default.qubit\", wires=1)\n",
    "\n",
    "@qml.qnode(dev)\n",
    "def prepare_state():\n",
    "    ##################\n",
    "    # YOUR CODE HERE #\n",
    "    ##################\n",
    "\n",
    "    # APPLY OPERATIONS TO PREPARE THE TARGET STATE\n",
    "    qml.Hadamard(wires = 0)\n",
    "    qml.T(wires = 0)\n",
    "    qml.RZ(np.pi,wires = 0)\n",
    "    \n",
    "\n",
    "    return qml.state()\n",
    "prepare_state()\n"
   ]
  },
  {
   "cell_type": "code",
   "execution_count": 4,
   "metadata": {},
   "outputs": [
    {
     "data": {
      "text/plain": [
       "tensor([0.8660254+0.j , 0.       -0.5j], requires_grad=True)"
      ]
     },
     "execution_count": 4,
     "metadata": {},
     "output_type": "execute_result"
    }
   ],
   "source": [
    "# 2\n",
    "dev = qml.device(\"default.qubit\", wires=1)\n",
    "\n",
    "@qml.qnode(dev)\n",
    "def prepare_state():\n",
    "    ##################\n",
    "    # YOUR CODE HERE #\n",
    "    ##################\n",
    "\n",
    "    # APPLY OPERATIONS TO PREPARE THE TARGET STATE\n",
    "    qml.RX(np.pi/3,wires = 0)\n",
    "\n",
    "    return qml.state()\n",
    "prepare_state()"
   ]
  },
  {
   "cell_type": "code",
   "execution_count": 5,
   "metadata": {},
   "outputs": [
    {
     "name": "stdout",
     "output_type": "stream",
     "text": [
      "[0.49365933-0.24166034j 0.75032489+0.36730546j]\n",
      "\n",
      "0: ──MottonenStatePreparation(M0)─┤  State\n"
     ]
    }
   ],
   "source": [
    "# 3\n",
    "v = np.array([0.52889389-0.14956775j, 0.67262317+0.49545818j])\n",
    "\n",
    "##################\n",
    "# YOUR CODE HERE #\n",
    "##################\n",
    "\n",
    "# CREATE A DEVICE\n",
    "\n",
    "\n",
    "# CONSTRUCT A QNODE THAT USES qml.MottonenStatePreparation\n",
    "# TO PREPARE A QUBIT IN STATE V, AND RETURN THE STATE\n",
    "dev = qml.device('default.qubit',wires = 1)\n",
    "\n",
    "@qml.qnode(dev)\n",
    "def prepare_state(state=v):\n",
    "    qml.MottonenStatePreparation(state_vector=state,wires = 0)\n",
    "    \n",
    "    return qml.state()\n",
    "\n",
    "# This will draw the quantum circuit and allow you to inspect the output gates\n",
    "print(prepare_state(v))\n",
    "print()\n",
    "print(qml.draw(prepare_state)(v))\n"
   ]
  },
  {
   "cell_type": "code",
   "execution_count": null,
   "metadata": {},
   "outputs": [],
   "source": []
  }
 ],
 "metadata": {
  "kernelspec": {
   "display_name": "Python 3.10.5 ('tf_mac')",
   "language": "python",
   "name": "python3"
  },
  "language_info": {
   "codemirror_mode": {
    "name": "ipython",
    "version": 3
   },
   "file_extension": ".py",
   "mimetype": "text/x-python",
   "name": "python",
   "nbconvert_exporter": "python",
   "pygments_lexer": "ipython3",
   "version": "3.10.5"
  },
  "orig_nbformat": 4,
  "vscode": {
   "interpreter": {
    "hash": "7cfd4d0365b7115e4020ce87e4cdea86bf1d0ae836bec2ad30920d104c9ba58a"
   }
  }
 },
 "nbformat": 4,
 "nbformat_minor": 2
}
