{
 "cells": [
  {
   "cell_type": "code",
   "execution_count": 1,
   "metadata": {},
   "outputs": [],
   "source": [
    "import pennylane as qml\n",
    "from pennylane import numpy as np"
   ]
  },
  {
   "cell_type": "code",
   "execution_count": 2,
   "metadata": {},
   "outputs": [
    {
     "name": "stdout",
     "output_type": "stream",
     "text": [
      "The eigenvalue of Hadamarad gates are: [-1.  1.]\n",
      " THe eigenVec of Hadamard gates are: [[ 0.38268343 -0.92387953]\n",
      " [-0.92387953 -0.38268343]]\n"
     ]
    }
   ],
   "source": [
    "Hadamard_gate = 1/np.sqrt(2) * np.asarray([[1,1],[1,-1]])\n",
    "eigen_val_H,eigen_vec_H = np.linalg.eigh(Hadamard_gate)\n",
    "print(f\"The eigenvalue of Hadamarad gates are: {eigen_val_H}\")\n",
    "print(f\" THe eigenVec of Hadamard gates are: {eigen_vec_H}\")"
   ]
  },
  {
   "cell_type": "code",
   "execution_count": 4,
   "metadata": {},
   "outputs": [
    {
     "name": "stdout",
     "output_type": "stream",
     "text": [
      "[ 0.70710678+0.j -0.70710678+0.j]\n"
     ]
    }
   ],
   "source": [
    "# 1\n",
    "dev = qml.device(\"default.qubit\", wires=1)\n",
    "\n",
    "@qml.qnode(dev)\n",
    "def apply_z_to_plus():\n",
    "    \"\"\"Write a circuit that applies PauliZ to the |+> state and returns\n",
    "    the state.\n",
    "\n",
    "    Returns:\n",
    "        array[complex]: The state of the qubit after the operations.\n",
    "    \"\"\"\n",
    "\n",
    "    ##################\n",
    "    # YOUR CODE HERE #\n",
    "    ##################\n",
    "\n",
    "    # CREATE THE |+> STATE\n",
    "    qml.Hadamard(wires = 0)\n",
    "\n",
    "    # APPLY PAULI Z\n",
    "    qml.PauliZ(wires = 0)\n",
    "\n",
    "    # RETURN THE STATE\n",
    "    return qml.state()\n",
    "\n",
    "print(apply_z_to_plus())\n"
   ]
  },
  {
   "cell_type": "code",
   "execution_count": 5,
   "metadata": {},
   "outputs": [
    {
     "data": {
      "text/plain": [
       "tensor([4.32978028e-17-0.70710678j, 4.32978028e-17+0.70710678j], requires_grad=True)"
      ]
     },
     "execution_count": 5,
     "metadata": {},
     "output_type": "execute_result"
    }
   ],
   "source": [
    "# 2\n",
    "dev = qml.device(\"default.qubit\", wires=1)\n",
    "\n",
    "@qml.qnode(dev)\n",
    "def fake_z():\n",
    "    \"\"\"Use RZ to produce the same action as Pauli Z on the |+> state.\n",
    "\n",
    "    Returns:\n",
    "        array[complex]: The state of the qubit after the operations.\n",
    "    \"\"\"\n",
    "\n",
    "    ##################\n",
    "    # YOUR CODE HERE #\n",
    "    ##################\n",
    "\n",
    "    # CREATE THE |+> STATE\n",
    "    qml.Hadamard(wires = 0)\n",
    "\n",
    "    # APPLY RZ\n",
    "    qml.RZ(np.pi,wires = 0)\n",
    "\n",
    "    # RETURN THE STATE\n",
    "    return qml.state()\n",
    "fake_z()"
   ]
  },
  {
   "cell_type": "code",
   "execution_count": 6,
   "metadata": {},
   "outputs": [
    {
     "data": {
      "text/plain": [
       "tensor([0.69916673-0.10566872j, 0.56910461-0.41966647j], requires_grad=True)"
      ]
     },
     "execution_count": 6,
     "metadata": {},
     "output_type": "execute_result"
    }
   ],
   "source": [
    "# 3\n",
    "dev = qml.device(\"default.qubit\", wires=1)\n",
    "\n",
    "@qml.qnode(dev)\n",
    "def many_rotations():\n",
    "    \"\"\"Implement the circuit depicted above and return the quantum state.\n",
    "\n",
    "    Returns:\n",
    "        array[complex]: The state of the qubit after the operations.\n",
    "    \"\"\"\n",
    "\n",
    "    ##################\n",
    "    # YOUR CODE HERE #\n",
    "    ##################\n",
    "\n",
    "    # IMPLEMENT THE CIRCUIT\n",
    "\n",
    "    # RETURN THE STATE\n",
    "    qml.Hadamard(wires = 0)\n",
    "    qml.S(wires = 0)\n",
    "    qml.adjoint(qml.T)(wires = 0)\n",
    "    qml.RZ(0.3,wires = 0)\n",
    "    qml.adjoint(qml.S)(wires = 0)\n",
    "\n",
    "    return qml.state()\n",
    "many_rotations()"
   ]
  },
  {
   "cell_type": "code",
   "execution_count": 8,
   "metadata": {},
   "outputs": [
    {
     "data": {
      "text/plain": [
       "tensor([0.   , 0.   , 0.   , 0.   , 0.375, 0.125, 0.375, 0.125], requires_grad=True)"
      ]
     },
     "execution_count": 8,
     "metadata": {},
     "output_type": "execute_result"
    }
   ],
   "source": [
    "# 4\n",
    "dev = qml.device('default.qubit', wires=3)\n",
    "\n",
    "@qml.qnode(dev)\n",
    "def too_many_ts():\n",
    "    \"\"\"You can implement the original circuit here as well, it may help you with\n",
    "    testing to ensure that the circuits have the same effect.\n",
    "\n",
    "    Returns:\n",
    "        array[float]: The measurement outcome probabilities.\n",
    "    \"\"\"\n",
    "\n",
    "    return qml.probs(wires=[0, 1, 2])\n",
    "\n",
    "@qml.qnode(dev)\n",
    "def just_enough_ts():\n",
    "    \"\"\"Implement an equivalent circuit as the above with the minimum number of \n",
    "    T and T^\\dagger gates required.\n",
    "\n",
    "    Returns:\n",
    "        array[float]: The measurement outcome probabilities.\n",
    "    \"\"\"\n",
    "\n",
    "    ##################\n",
    "    # YOUR CODE HERE #\n",
    "    ##################\n",
    "\n",
    "    # IMPLEMENT THE CIRCUIT, BUT COMBINE AND OPTIMIZE THE GATES\n",
    "    # TO MINIMIZE THE NUMBER OF TS\n",
    "    qml.Hadamard(wires=0)\n",
    "    qml.Hadamard(wires=1)\n",
    "    qml.Hadamard(wires=2)\n",
    "    qml.S(wires=0)\n",
    "    qml.Hadamard(wires = 0)\n",
    "    qml.adjoint(qml.S)(wires = 0)\n",
    "    qml.Hadamard(wires=0)\n",
    "    qml.T(wires=1)\n",
    "    qml.Hadamard(wires=1)\n",
    "    qml.PauliZ(wires=1)\n",
    "    qml.Hadamard(wires=1)\n",
    "    qml.adjoint(qml.T)(wires=2)\n",
    "    qml.Hadamard(wires=2)\n",
    "    qml.adjoint(qml.S)(wires=2)\n",
    "    qml.adjoint(qml.T)(wires = 2)\n",
    "    qml.Hadamard(wires=2)\n",
    "\n",
    "    return qml.probs(wires=[0, 1, 2])\n",
    "\n",
    "##################\n",
    "# YOUR CODE HERE #\n",
    "##################\n",
    "\n",
    "# FILL IN THE CORRECT VALUES FOR THE ORIGINAL CIRCUIT\n",
    "original_depth = 8\n",
    "original_t_count = 13\n",
    "original_t_depth = 6\n",
    "\n",
    "# FILL IN THE CORRECT VALUES FOR THE NEW, OPTIMIZED CIRCUIT\n",
    "optimal_depth = 6\n",
    "optimal_t_count = 3\n",
    "optimal_t_depth = 2\n",
    "just_enough_ts()"
   ]
  },
  {
   "cell_type": "code",
   "execution_count": null,
   "metadata": {},
   "outputs": [],
   "source": []
  }
 ],
 "metadata": {
  "kernelspec": {
   "display_name": "Python 3.10.5 ('tf_mac')",
   "language": "python",
   "name": "python3"
  },
  "language_info": {
   "codemirror_mode": {
    "name": "ipython",
    "version": 3
   },
   "file_extension": ".py",
   "mimetype": "text/x-python",
   "name": "python",
   "nbconvert_exporter": "python",
   "pygments_lexer": "ipython3",
   "version": "3.10.5"
  },
  "orig_nbformat": 4,
  "vscode": {
   "interpreter": {
    "hash": "7cfd4d0365b7115e4020ce87e4cdea86bf1d0ae836bec2ad30920d104c9ba58a"
   }
  }
 },
 "nbformat": 4,
 "nbformat_minor": 2
}
