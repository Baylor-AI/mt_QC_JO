{
 "cells": [
  {
   "cell_type": "code",
   "execution_count": 1,
   "metadata": {},
   "outputs": [
    {
     "data": {
      "text/plain": [
       "'SETUP for Using TensorFlow'"
      ]
     },
     "execution_count": 1,
     "metadata": {},
     "output_type": "execute_result"
    }
   ],
   "source": [
    "'''SETUP for Using TensorFlow'''\n",
    "\n",
    "# import sys\n",
    "# import tensorflow as tf\n",
    "# physical_devices = tf.config.list_physical_devices('GPU')\n",
    "# print(f\"Tensor-Flow Version: {tf.__version__}\")\n",
    "# print(f\"Python {sys.version}\")\n",
    "# gpu = len(tf.config.list_physical_devices('GPU'))>0\n",
    "# print(\"GPU is\", \"available\" if gpu else \"NOT AVAILABLE\")\n",
    "# print(f\"GPU Devices {tf.config.list_physical_devices('GPU')}\")\n",
    "# print(f\"Setting dynamic growth of GPU to True\")\n",
    "# tf.config.experimental.set_memory_growth(physical_devices[0], True)\n"
   ]
  },
  {
   "cell_type": "code",
   "execution_count": 2,
   "metadata": {},
   "outputs": [],
   "source": [
    "import pennylane as qml\n",
    "from pennylane import numpy as np"
   ]
  },
  {
   "cell_type": "markdown",
   "metadata": {},
   "source": [
    "# F.1"
   ]
  },
  {
   "cell_type": "markdown",
   "metadata": {},
   "source": [
    "## Fast Fourier Transformation\n"
   ]
  },
  {
   "cell_type": "markdown",
   "metadata": {},
   "source": [
    "### Multiply two polynomials\n",
    "Given two polynomials,$A(x) = 1 + x$ and $B(x) = 1 - x$, use FFT to multiply these two polynomials"
   ]
  },
  {
   "cell_type": "code",
   "execution_count": 3,
   "metadata": {},
   "outputs": [
    {
     "name": "stdout",
     "output_type": "stream",
     "text": [
      "   2\n",
      "1 x - 1\n"
     ]
    },
    {
     "data": {
      "text/plain": [
       "poly1d(([ 1,  0, -1], requires_grad=True)"
      ]
     },
     "execution_count": 3,
     "metadata": {},
     "output_type": "execute_result"
    }
   ],
   "source": [
    "# Step 1. \n",
    "coeff_rep_of_p1 = np.asarray([1,1])\n",
    "coeff_rep_of_p2 = np.asarray([1,-1])\n",
    "#Multiply two polynomialas using Fast Fourier Transform\n",
    "def multiply_polynomials(p1,p2):\n",
    "    # Step 2. \n",
    "    # Convert the polynomials to coefficients\n",
    "    coeff_rep_of_p1 = np.asarray([1,1])\n",
    "    coeff_rep_of_p2 = np.asarray([1,-1])\n",
    "    # Step 3.\n",
    "    # Multiply the coefficients\n",
    "    coeff_rep_of_p1_times_p2 = np.convolve(coeff_rep_of_p1, coeff_rep_of_p2)\n",
    "    # Step 4.\n",
    "    # Convert the coefficients to polynomials\n",
    "    p1_times_p2 = np.poly1d(coeff_rep_of_p1_times_p2)\n",
    "    return p1_times_p2\n",
    "p1 = np.poly1d([1,1])\n",
    "p2 = np.poly1d([1,-1])\n",
    "ans = multiply_polynomials(p1,p2)\n",
    "print(ans)\n",
    "ans\n",
    "\n",
    "\n"
   ]
  },
  {
   "cell_type": "markdown",
   "metadata": {},
   "source": [
    "### Codercise F.1.1. \n",
    "Given a polynomial in its coefficient representation, convert it into a value representation using NumPy's DFT/FFT module."
   ]
  },
  {
   "cell_type": "code",
   "execution_count": 4,
   "metadata": {},
   "outputs": [
    {
     "name": "stdout",
     "output_type": "stream",
     "text": [
      "[10.+0.j  2.-2.j  2.+0.j  2.+2.j]\n"
     ]
    }
   ],
   "source": [
    "def coefficients_to_values(coefficients):\n",
    "    \"\"\"Returns the value representation of a polynomial\n",
    "    \n",
    "    Args:\n",
    "        coefficients (array[complex]): a 1-D array of complex \n",
    "            coefficients of a polynomial with \n",
    "            index i representing the i-th degree coefficient\n",
    "\n",
    "    Returns: \n",
    "        array[complex]: the value representation of the \n",
    "            polynomial \n",
    "    \"\"\"\n",
    "    ##################\n",
    "    # YOUR CODE HERE #\n",
    "    ################## \n",
    "    val = np.fft.fft(coefficients)\n",
    "    return val\n",
    "\n",
    "A = [4, 3, 2, 1]\n",
    "print(coefficients_to_values(A))"
   ]
  },
  {
   "cell_type": "markdown",
   "metadata": {},
   "source": [
    "### Codercise F.1.2. \n",
    "Given a polynomial in its value representation, use the NumPy's DFT/FFT module to convert from the value representation to the coefficient representation."
   ]
  },
  {
   "cell_type": "code",
   "execution_count": 5,
   "metadata": {},
   "outputs": [
    {
     "name": "stdout",
     "output_type": "stream",
     "text": [
      "[4.+0.j 3.+0.j 2.+0.j 1.+0.j]\n"
     ]
    }
   ],
   "source": [
    "def values_to_coefficients(values):\n",
    "    \"\"\"Returns the coefficient representation of a polynomial\n",
    "    \n",
    "    Args:\n",
    "        values (array[complex]): a 1-D complex array with \n",
    "            the value representation of a polynomial \n",
    "\n",
    "    Returns: \n",
    "        array[complex]: a 1-D complex array of coefficients\n",
    "    \"\"\"\n",
    "    \n",
    "    ##################\n",
    "    # YOUR CODE HERE #\n",
    "    ################## \n",
    "    return np.fft.ifft(values)\n",
    "\n",
    "\n",
    "A = [10.+0.j,  2.-2.j,  2.+0.j,  2.+2.j]\n",
    "print(values_to_coefficients(A))"
   ]
  },
  {
   "cell_type": "code",
   "execution_count": 6,
   "metadata": {},
   "outputs": [
    {
     "data": {
      "text/plain": [
       "5"
      ]
     },
     "execution_count": 6,
     "metadata": {},
     "output_type": "execute_result"
    }
   ],
   "source": [
    "# calculates a power of 2 that is greater than a given number.\n",
    "def next_power_of_2(n):\n",
    "    \"\"\"Returns the next power of 2 that is greater than a given number\n",
    "    \n",
    "    Args:\n",
    "        n (int): a positive integer\n",
    "    \n",
    "    Returns: \n",
    "        int: the next power of 2 that is greater than n\n",
    "    \"\"\"\n",
    "    ##################\n",
    "    # YOUR CODE HERE #\n",
    "    ################## \n",
    "    return int(np.ceil(np.log2(n)))\n",
    "next_power_of_2(18)"
   ]
  },
  {
   "cell_type": "markdown",
   "metadata": {},
   "source": [
    "### Codercise F.1.3. \n",
    "Implement a helper function nearest_power_of_2 that calculates a power of 2 that is greater than a given number."
   ]
  },
  {
   "cell_type": "code",
   "execution_count": 7,
   "metadata": {},
   "outputs": [
    {
     "data": {
      "text/plain": [
       "32"
      ]
     },
     "execution_count": 7,
     "metadata": {},
     "output_type": "execute_result"
    }
   ],
   "source": [
    "def nearest_power_of_2(x):\n",
    "    \"\"\"Given an integer, return the nearest power of 2. \n",
    "    \n",
    "    Args:\n",
    "        x (int): a positive integer\n",
    "\n",
    "    Returns: \n",
    "        int: the nearest power of 2 of x\n",
    "    \"\"\"\n",
    "    ##################\n",
    "    # YOUR CODE HERE #\n",
    "    ################## \n",
    "    power = int(np.ceil(np.log2(x)))\n",
    "    return 2**power\n",
    "nearest_power_of_2(25)   \n"
   ]
  },
  {
   "cell_type": "markdown",
   "metadata": {},
   "source": [
    "### Codercise F.1.4. \n",
    "Given two polynomials in their coefficient representation, write a function to multiply them both using the functions coefficients_to_values, nearest_power_of_2, and values_to_coefficients."
   ]
  },
  {
   "cell_type": "code",
   "execution_count": 8,
   "metadata": {},
   "outputs": [],
   "source": [
    "def fft_multiplication(poly_a, poly_b):\n",
    "    \"\"\"Returns the result of multiplying two polynomials\n",
    "    \n",
    "    Args:\n",
    "        poly_a (array[complex]): 1-D array of coefficients \n",
    "        poly_b (array[complex]): 1-D array of coefficients \n",
    "\n",
    "    Returns: \n",
    "        array[complex]: complex coefficients of the product\n",
    "            of the polynomials\n",
    "    \"\"\"\n",
    "    ##################\n",
    "    # YOUR CODE HERE #\n",
    "    ################## \n",
    "\n",
    "    # Calculate the number of values required\n",
    "    x = len(poly_a) + len(poly_b) + 5\n",
    "\n",
    "    # Figure out the nearest power of 2\n",
    "    nearest_power = nearest_power_of_2(x)\n",
    "    roots = int(np.log2(nearest_power))\n",
    "\n",
    "    # Pad zeros to the polynomial\n",
    "    poly_a_paded = np.pad(poly_a,(0,roots - len(poly_a)),'constant', constant_values=(0+ 0.j))\n",
    "    poly_b_paded = np.pad(poly_b,(0,roots - len(poly_b)),'constant', constant_values=(0 + 0.j))\n",
    "    # Convert the polynomials to value representation \n",
    "    values_a = coefficients_to_values(poly_a_paded)\n",
    "    values_b = coefficients_to_values(poly_b_paded)\n",
    "    # Multiply\n",
    "    ele_mult = np.multiply(values_a,values_b)\n",
    "\n",
    "    # Convert back to coefficient representation\n",
    "    coeff = values_to_coefficients(ele_mult)\n",
    "    return coeff"
   ]
  },
  {
   "cell_type": "code",
   "execution_count": 9,
   "metadata": {},
   "outputs": [
    {
     "name": "stdout",
     "output_type": "stream",
     "text": [
      "[6.+0.j 6.+0.j 1.+0.j 7.+0.j]\n"
     ]
    }
   ],
   "source": [
    "poly_a = np.array([1 + 0.j,1+0.j,2 + 0.j])\n",
    "poly_b = np.array([-1 + 0.j,1+0.j, 2 + 0.j,3 + 0.j])\n",
    "print\n",
    "print(fft_multiplication(poly_a,poly_b))"
   ]
  },
  {
   "cell_type": "markdown",
   "metadata": {},
   "source": [
    "## Quantum Fourier transform"
   ]
  },
  {
   "cell_type": "markdown",
   "metadata": {},
   "source": [
    "### Codercise F.2.1.\n",
    "Implement the circuit that performs the single-qubit QFT operation, i.e., for $n = 1$."
   ]
  },
  {
   "cell_type": "code",
   "execution_count": 10,
   "metadata": {},
   "outputs": [
    {
     "data": {
      "text/plain": [
       "tensor([ 0.70710678+0.j, -0.70710678+0.j], requires_grad=True)"
      ]
     },
     "execution_count": 10,
     "metadata": {},
     "output_type": "execute_result"
    }
   ],
   "source": [
    "dev = qml.device(\"default.qubit\", wires=1)\n",
    "\n",
    "@qml.qnode(dev)\n",
    "def one_qubit_QFT(basis_id):\n",
    "    \"\"\"A circuit that computes the QFT on a single qubit. \n",
    "    \n",
    "    Args:\n",
    "        basis_id (int): An integer value identifying \n",
    "            the basis state to construct.\n",
    "    \n",
    "    Returns:\n",
    "        array[complex]: The state of the qubit after applying QFT.\n",
    "    \"\"\"\n",
    "    # Prepare the basis state |basis_id>\n",
    "    bits = [int(x) for x in np.binary_repr(basis_id, width=dev.num_wires)]\n",
    "    qml.BasisStatePreparation(bits, wires=[0])\n",
    "\n",
    "    ##################\n",
    "    # YOUR CODE HERE #\n",
    "    ##################\n",
    "    qml.Hadamard(wires = 0)\n",
    "    return qml.state()\n",
    "one_qubit_QFT(1)\n"
   ]
  },
  {
   "cell_type": "markdown",
   "metadata": {},
   "source": [
    "### Codercise F.2.2. \n",
    "Implement a circuit that performs the two-qubit QFT operation. First, derive the QFT matrix for $n = 2$. Then, use the qml.QubitUnitary operation to apply it."
   ]
  },
  {
   "cell_type": "code",
   "execution_count": 11,
   "metadata": {},
   "outputs": [
    {
     "data": {
      "text/plain": [
       "tensor([ 0.5+0.j ,  0. -0.5j, -0.5+0.j ,  0. +0.5j], requires_grad=True)"
      ]
     },
     "execution_count": 11,
     "metadata": {},
     "output_type": "execute_result"
    }
   ],
   "source": [
    "n_bits = 2\n",
    "dev = qml.device(\"default.qubit\", wires=n_bits)\n",
    "\n",
    "@qml.qnode(dev)\n",
    "def two_qubit_QFT(basis_id):\n",
    "    \"\"\"A circuit that computes the QFT on two qubits using qml.QubitUnitary. \n",
    "    \n",
    "    Args:\n",
    "        basis_id (int): An integer value identifying the basis state to construct.\n",
    "    \n",
    "    Returns:\n",
    "        array[complex]: The state of the qubits after the QFT operation.\n",
    "    \"\"\"\n",
    "    \n",
    "    # Prepare the basis state |basis_id>\n",
    "    bits = [int(x) for x in np.binary_repr(basis_id, width=dev.num_wires)]\n",
    "    qml.BasisStatePreparation(bits, wires=[0, 1])\n",
    "    ##################\n",
    "    # YOUR CODE HERE #\n",
    "    ##################\n",
    "    omega = 0 +1.j\n",
    "    matrix_ = np.zeros((4,4), dtype=complex)\n",
    "    for i in range(4):\n",
    "        for j in range(4):\n",
    "            if i == 0:\n",
    "                matrix_[i,j] = 1\n",
    "            elif j == 0:\n",
    "                matrix_[i,j] = 1\n",
    "            else:\n",
    "                matrix_[i,j] = omega**(i*j)\n",
    "    qml.QubitUnitary( 1/2 * matrix_,wires = [0,1])\n",
    "    return qml.state()\n",
    "            \n",
    "two_qubit_QFT(3)  \n",
    "    \n",
    "    \n"
   ]
  },
  {
   "cell_type": "code",
   "execution_count": 37,
   "metadata": {},
   "outputs": [
    {
     "data": {
      "text/plain": [
       "(4, 4)"
      ]
     },
     "execution_count": 37,
     "metadata": {},
     "output_type": "execute_result"
    }
   ],
   "source": [
    "hadamard_gate = 1/np.sqrt(2) * np.array([[1, 1], [1, -1]])\n",
    "s_gate = np.array([[1, 0], [0, 1j]])\n",
    "hadamard_gate_s = np.tensordot(s_gate, hadamard_gate, axes=1)\n",
    "U_QFT = [hadamard_gate,hadamard_gate,hadamard_gate_s, -1 * hadamard_gate_s] * 1/np.sqrt(2)\n",
    "\n"
   ]
  },
  {
   "cell_type": "markdown",
   "metadata": {},
   "source": [
    "### Codercise F.2.3. \n",
    "Implement the two-qubit QFT using a combination of gates (without using qml.QubitUnitary)."
   ]
  },
  {
   "cell_type": "code",
   "execution_count": 39,
   "metadata": {},
   "outputs": [
    {
     "data": {
      "text/plain": [
       "tensor([ 5.000000e-01+0.j , -3.061617e-17-0.5j, -5.000000e-01+0.j ,\n",
       "         3.061617e-17+0.5j], requires_grad=True)"
      ]
     },
     "execution_count": 39,
     "metadata": {},
     "output_type": "execute_result"
    }
   ],
   "source": [
    "dev = qml.device(\"default.qubit\", wires=2)\n",
    "\n",
    "@qml.qnode(dev)\n",
    "def decompose_two_qubit_QFT(basis_id):\n",
    "    \"\"\"A circuit that computes the QFT on two qubits using elementary gates.\n",
    "    \n",
    "    Args:\n",
    "        basis_id (int): An integer value identifying the basis state to construct.\n",
    "    \n",
    "    Returns:\n",
    "        array[complex]: The state of the qubits after the QFT operation.\n",
    "    \"\"\"\n",
    "    # Prepare the basis state |basis_id>\n",
    "    bits = [int(x) for x in np.binary_repr(basis_id, width=dev.num_wires)]\n",
    "    qml.BasisStatePreparation(bits, wires=[0, 1])\n",
    "    \n",
    "    ##################\n",
    "    # YOUR CODE HERE #\n",
    "    ##################\n",
    "    # # qml.Hadamard(wires = 1)\n",
    "    # qml.S(wires = 1)\n",
    "    # qml.ctrl(qml.S,control = 1)(wires = 0)\n",
    "    # qml.Hadamard(wires = 0)\n",
    "    # return qml.state()\n",
    "    qml.Hadamard(wires = 0)\n",
    "    #qml.S(wires = 0)\n",
    "    qml.ctrl(qml.S, control = 0)(wires = 1)\n",
    "    qml.Hadamard(wires = 1)\n",
    "    qml.SWAP(wires = [0,1])\n",
    "    return qml.state()\n",
    "decompose_two_qubit_QFT(3)"
   ]
  },
  {
   "cell_type": "markdown",
   "metadata": {},
   "source": [
    "## F.3"
   ]
  },
  {
   "cell_type": "markdown",
   "metadata": {},
   "source": [
    "## Codercise F.3.1. \n",
    "Implement the QFT for three qubits.\n",
    "\n"
   ]
  },
  {
   "cell_type": "code",
   "execution_count": 41,
   "metadata": {},
   "outputs": [
    {
     "data": {
      "text/plain": [
       "tensor([ 3.53553391e-01+0.j        ,  2.50000000e-01-0.25j      ,\n",
       "        -2.16489014e-17-0.35355339j, -2.50000000e-01-0.25j      ,\n",
       "        -3.53553391e-01+0.j        , -2.50000000e-01+0.25j      ,\n",
       "         2.16489014e-17+0.35355339j,  2.50000000e-01+0.25j      ], requires_grad=True)"
      ]
     },
     "execution_count": 41,
     "metadata": {},
     "output_type": "execute_result"
    }
   ],
   "source": [
    "dev = qml.device(\"default.qubit\", wires=3)\n",
    "\n",
    "@qml.qnode(dev)\n",
    "def three_qubit_QFT(basis_id):\n",
    "    \"\"\"A circuit that computes the QFT on three qubits.\n",
    "    \n",
    "    Args:\n",
    "        basis_id (int): An integer value identifying the basis state to construct.\n",
    "        \n",
    "    Returns:\n",
    "        array[complex]: The state of the qubits after the QFT operation.\n",
    "    \"\"\"\n",
    "    # Prepare the basis state |basis_id>\n",
    "    bits = [int(x) for x in np.binary_repr(basis_id, width=dev.num_wires)]\n",
    "    qml.BasisStatePreparation(bits, wires=[0, 1, 2])\n",
    "    qml.Hadamard(wires = 0)\n",
    "    qml.ctrl(qml.S,control = 0 )(wires = 1)\n",
    "    qml.ctrl(qml.T,control = 0 )(wires = 2)\n",
    "    qml.Hadamard(wires = 1)\n",
    "    qml.ctrl(qml.S,control = 1 )(wires = 2)\n",
    "    qml.Hadamard(wires = 2)\n",
    "    qml.SWAP(wires = [0,2])\n",
    "    return qml.state()\n",
    "    ##################\n",
    "    # YOUR CODE HERE #\n",
    "    ################## \n",
    "three_qubit_QFT(7)\n",
    "\n"
   ]
  },
  {
   "cell_type": "markdown",
   "metadata": {},
   "source": [
    "## Codercise F.3.2. \n",
    "Implement a circuit that reverses the order of $n$qubits using SWAP gates. You need only $n/2$ gates for this."
   ]
  },
  {
   "cell_type": "code",
   "execution_count": 91,
   "metadata": {},
   "outputs": [
    {
     "name": "stdout",
     "output_type": "stream",
     "text": [
      "Range: 2\n",
      "I: 0,wire1: 0, wire2: 3\n",
      "I: 1,wire1: 1, wire2: 2\n"
     ]
    },
    {
     "data": {
      "text/plain": [
       "tensor([0.+0.j, 0.+0.j, 0.+0.j, 0.+0.j, 0.+0.j, 0.+0.j, 0.+0.j, 0.+0.j,\n",
       "        0.+0.j, 0.+0.j, 0.+0.j, 0.+0.j, 1.+0.j, 0.+0.j, 0.+0.j, 0.+0.j], requires_grad=True)"
      ]
     },
     "execution_count": 91,
     "metadata": {},
     "output_type": "execute_result"
    }
   ],
   "source": [
    "dev = qml.device('default.qubit', wires=4)\n",
    "\n",
    "            \n",
    "def swap_bits(n_qubits):\n",
    "    \"\"\"A circuit that reverses the order of qubits, i.e.,\n",
    "    performs a SWAP such that [q1, q2, ..., qn] -> [qn, ... q2, q1].\n",
    "    \n",
    "    Args:\n",
    "        n_qubits (int): An integer value identifying the number of qubits.\n",
    "    \"\"\"\n",
    "    ##################\n",
    "    # YOUR CODE HERE #\n",
    "    ##################\n",
    "    n_qubits = n_qubits\n",
    "    print(\"Range:\",n_qubits//2)\n",
    "    for i in range(n_qubits//2):\n",
    "        print(f\"I: {i},wire1: {i}, wire2: {n_qubits-i-1}\")\n",
    "        qml.SWAP(wires = [i,n_qubits-i-1])\n",
    "\n",
    "@qml.qnode(dev) \n",
    "def qft_node(basis_id, n_qubits):\n",
    "    # Prepare the basis state |basis_id>\n",
    "    bits = [int(x) for x in np.binary_repr(basis_id, width=n_qubits)]\n",
    "    qml.BasisStatePreparation(bits, wires=range(n_qubits))\n",
    "    # qft_rotations(n_qubits)\n",
    "    swap_bits(n_qubits)\n",
    "    return qml.state()\n",
    "qft_node(3,4)\n"
   ]
  },
  {
   "cell_type": "code",
   "execution_count": 125,
   "metadata": {},
   "outputs": [
    {
     "name": "stdout",
     "output_type": "stream",
     "text": [
      "Rotation angle 2 ,source 0 ,target 1\n",
      "Rotation angle 3 ,source 0 ,target 2\n",
      "Rotation angle 4 ,source 0 ,target 3\n",
      "Rotation angle 2 ,source 1 ,target 1\n",
      "Rotation angle 3 ,source 1 ,target 2\n",
      "Rotation angle 2 ,source 2 ,target 1\n",
      "Range: 2\n",
      "I: 0,wire1: 0, wire2: 3\n",
      "I: 1,wire1: 1, wire2: 2\n"
     ]
    },
    {
     "data": {
      "text/plain": [
       "tensor([ 2.50000000e-01+0.j        , -2.30969883e-01+0.09567086j,\n",
       "         1.76776695e-01-0.1767767j , -9.56708581e-02+0.23096988j,\n",
       "        -1.53080850e-17-0.25j      ,  9.56708581e-02+0.23096988j,\n",
       "        -1.76776695e-01-0.1767767j ,  2.30969883e-01+0.09567086j,\n",
       "        -2.50000000e-01+0.j        ,  2.30969883e-01-0.09567086j,\n",
       "        -1.76776695e-01+0.1767767j ,  9.56708581e-02-0.23096988j,\n",
       "         1.53080850e-17+0.25j      , -9.56708581e-02-0.23096988j,\n",
       "         1.76776695e-01+0.1767767j , -2.30969883e-01-0.09567086j], requires_grad=True)"
      ]
     },
     "execution_count": 125,
     "metadata": {},
     "output_type": "execute_result"
    }
   ],
   "source": [
    "dev = qml.device('default.qubit', wires=4)\n",
    "\n",
    "def qft_rotations(n_qubits):\n",
    "    \"\"\"A circuit performs the QFT rotations on the specified qubits.\n",
    "    \n",
    "    Args:\n",
    "        n_qubits (int): An integer value identifying the number of qubits.\n",
    "    \"\"\"\n",
    "\n",
    "    ##################\n",
    "    # YOUR CODE HERE #\n",
    "    ################## \n",
    "    for qubit in range(n_qubits):\n",
    "        #print(f\"Hadamard on qubit {qubit}\")\n",
    "        qml.Hadamard(qubit)\n",
    "        rotation_ = 2\n",
    "        target_ = 1\n",
    "        for q in range(qubit+1,n_qubits):\n",
    "            #print(f\"Source {qubit} Target {qubit+next_}\")\n",
    "            print(f\"Rotation angle {rotation_} ,source {qubit} ,target {target_}\")\n",
    "            qml.ControlledPhaseShift((2*np.pi)/ 2**rotation_,wires = [qubit,qubit+target_])\n",
    "            rotation_ += 1\n",
    "            target_ += 1\n",
    "        #print()\n",
    "\n",
    "            \n",
    "        \n",
    "        \n",
    "\n",
    "@qml.qnode(dev) \n",
    "def qft_node(basis_id, n_qubits):\n",
    "    # Prepare the basis state |basis_id>\n",
    "    bits = [int(x) for x in np.binary_repr(basis_id, width=n_qubits)]\n",
    "    qml.BasisStatePreparation(bits, wires=range(n_qubits))\n",
    "    qft_rotations(n_qubits)\n",
    "    swap_bits(n_qubits)\n",
    "    return qml.state()\n",
    "\n",
    "\n",
    "qft_node(7,4)"
   ]
  },
  {
   "cell_type": "markdown",
   "metadata": {},
   "source": [
    "### Codercise F.3.5. \n",
    "Implement the QFT using qml.QFT.\n",
    "\n"
   ]
  },
  {
   "cell_type": "code",
   "execution_count": 127,
   "metadata": {},
   "outputs": [
    {
     "data": {
      "text/plain": [
       "tensor([ 2.50000000e-01+0.00000000e+00j,  9.56708581e-02+2.30969883e-01j,\n",
       "        -1.76776695e-01+1.76776695e-01j, -2.30969883e-01-9.56708581e-02j,\n",
       "         1.66533454e-16-2.50000000e-01j,  2.30969883e-01-9.56708581e-02j,\n",
       "         1.76776695e-01+1.76776695e-01j, -9.56708581e-02+2.30969883e-01j,\n",
       "        -2.50000000e-01-3.33066907e-16j, -9.56708581e-02-2.30969883e-01j,\n",
       "         1.76776695e-01-1.76776695e-01j,  2.30969883e-01+9.56708581e-02j,\n",
       "        -4.99600361e-16+2.50000000e-01j, -2.30969883e-01+9.56708581e-02j,\n",
       "        -1.76776695e-01-1.76776695e-01j,  9.56708581e-02-2.30969883e-01j], requires_grad=True)"
      ]
     },
     "execution_count": 127,
     "metadata": {},
     "output_type": "execute_result"
    }
   ],
   "source": [
    "dev = qml.device('default.qubit', wires=4)\n",
    "\n",
    "@qml.qnode(dev)\n",
    "def pennylane_qft(basis_id, n_qubits):\n",
    "    \"\"\"A that circuit performs the QFT using PennyLane's QFT template.\n",
    "    \n",
    "    Args:\n",
    "        basis_id (int): An integer value identifying \n",
    "            the basis state to construct.\n",
    "        n_qubits (int): An integer identifying the \n",
    "            number of qubits.\n",
    "            \n",
    "    Returns:\n",
    "        array[complex]: The state after applying the QFT to the qubits.\n",
    "    \"\"\"\n",
    "    # Prepare the basis state |basis_id>\n",
    "    bits = [int(x) for x in np.binary_repr(basis_id, width=n_qubits)]\n",
    "    qml.BasisStatePreparation(bits, wires=range(n_qubits))\n",
    "\n",
    "    ##################\n",
    "    # YOUR CODE HERE #\n",
    "    ################## \n",
    "    qml.QFT(wires=range(n_qubits))\n",
    "    return qml.state()\n",
    "pennylane_qft(3, 4)"
   ]
  }
 ],
 "metadata": {
  "kernelspec": {
   "display_name": "Python 3.10.5",
   "language": "python",
   "name": "python3"
  },
  "language_info": {
   "codemirror_mode": {
    "name": "ipython",
    "version": 3
   },
   "file_extension": ".py",
   "mimetype": "text/x-python",
   "name": "python",
   "nbconvert_exporter": "python",
   "pygments_lexer": "ipython3",
   "version": "3.10.5"
  },
  "orig_nbformat": 4,
  "vscode": {
   "interpreter": {
    "hash": "7cfd4d0365b7115e4020ce87e4cdea86bf1d0ae836bec2ad30920d104c9ba58a"
   }
  }
 },
 "nbformat": 4,
 "nbformat_minor": 2
}
