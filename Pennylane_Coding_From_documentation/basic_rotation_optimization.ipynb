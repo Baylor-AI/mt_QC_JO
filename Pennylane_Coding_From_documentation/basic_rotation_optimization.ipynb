{
 "cells": [
  {
   "cell_type": "code",
   "execution_count": 1,
   "metadata": {},
   "outputs": [],
   "source": [
    "import pennylane as qml\n",
    "from pennylane import numpy as np"
   ]
  },
  {
   "cell_type": "code",
   "execution_count": 2,
   "metadata": {},
   "outputs": [
    {
     "name": "stdout",
     "output_type": "stream",
     "text": [
      "0.6560117839072015\n"
     ]
    }
   ],
   "source": [
    "dev = qml.device(\"default.qubit\",wires=1)\n",
    "\n",
    "@qml.qnode(dev)\n",
    "def circuit(params):\n",
    "    qml.RX(params[0],wires = 0)\n",
    "    qml.RY(params[1],wires = 0)\n",
    "    return qml.expval(qml.PauliZ(0))\n",
    "print(circuit([0.54,0.7]))\n"
   ]
  },
  {
   "cell_type": "markdown",
   "metadata": {},
   "source": [
    "Here we have a quantum circuit. If we assume it as a function, that takes the input $params$ call it as $C(P_1, P_2)$ then, we can calculate the gradient of the circuit."
   ]
  },
  {
   "cell_type": "code",
   "execution_count": 3,
   "metadata": {},
   "outputs": [
    {
     "name": "stdout",
     "output_type": "stream",
     "text": [
      "([array(-0.3932329), array(-0.5525511)],)\n"
     ]
    }
   ],
   "source": [
    "grad_circuit = qml.grad(circuit,argnum=[0])\n",
    "print(grad_circuit([0.54,0.7]))"
   ]
  },
  {
   "cell_type": "markdown",
   "metadata": {},
   "source": [
    "Thus, we have the partial derivatives with respect to both the paramaters, $P_1, P_2$"
   ]
  },
  {
   "cell_type": "code",
   "execution_count": 4,
   "metadata": {},
   "outputs": [],
   "source": [
    "@qml.qnode(dev)\n",
    "def circuit2(param1,param2):\n",
    "    qml.RX(param1,wires = 0)\n",
    "    qml.RY(param2,wires = 0)\n",
    "    return qml.expval(qml.PauliZ(0))"
   ]
  },
  {
   "cell_type": "code",
   "execution_count": 5,
   "metadata": {},
   "outputs": [
    {
     "name": "stdout",
     "output_type": "stream",
     "text": [
      "(array(-0.3932329), array(-0.5525511))\n"
     ]
    }
   ],
   "source": [
    "grad_circuit = qml.grad(circuit2,argnum=[0,1])\n",
    "print(grad_circuit(0.54,0.7))"
   ]
  },
  {
   "cell_type": "code",
   "execution_count": 6,
   "metadata": {},
   "outputs": [
    {
     "name": "stdout",
     "output_type": "stream",
     "text": [
      "0.9999975000017084\n"
     ]
    }
   ],
   "source": [
    "#Defining a cost function\n",
    "\n",
    "def cost(x):\n",
    "    return circuit(x)\n",
    "initial_params = np.array([0.001,0.002],requires_grad = True)\n",
    "print(cost(initial_params))"
   ]
  },
  {
   "cell_type": "code",
   "execution_count": 7,
   "metadata": {},
   "outputs": [
    {
     "name": "stdout",
     "output_type": "stream",
     "text": [
      "Cost after step     5:  0.9999277\n",
      "Cost after step    10:  0.9979109\n",
      "Cost after step    15:  0.9416168\n",
      "Cost after step    20:  0.1565140\n",
      "Cost after step    25: -0.9117703\n",
      "Cost after step    30: -0.9993834\n",
      "Cost after step    35: -0.9999963\n",
      "Cost after step    40: -1.0000000\n",
      "Cost after step    45: -1.0000000\n",
      "Cost after step    50: -1.0000000\n",
      "Cost after step    55: -1.0000000\n",
      "Cost after step    60: -1.0000000\n",
      "Cost after step    65: -1.0000000\n",
      "Cost after step    70: -1.0000000\n",
      "Cost after step    75: -1.0000000\n",
      "Cost after step    80: -1.0000000\n",
      "Cost after step    85: -1.0000000\n",
      "Cost after step    90: -1.0000000\n",
      "Cost after step    95: -1.0000000\n",
      "Cost after step   100: -1.0000000\n",
      "The rotating angles are [5.85347939e-18 3.14159265e+00]\n"
     ]
    }
   ],
   "source": [
    "# Lets try to optimize it.\n",
    "\n",
    "opt = qml.GradientDescentOptimizer(stepsize = 0.4)\n",
    "training_steps = 100\n",
    "parameters = initial_params\n",
    "\n",
    "for i in range(training_steps):\n",
    "    '''\n",
    "    With the following step, opt.step(cost,parameters) we are updating the parameters with each step of gradient using the normal gradient\n",
    "    descent method\n",
    "    '''\n",
    "    parameters = opt.step(cost,parameters)\n",
    "    # print(parameters)\n",
    "    #Once we have an updated params, lets calculate the cost\n",
    "    if (i+1) % 5 == 0: \n",
    "        print(\"Cost after step {:5d}: {: .7f}\".format(i + 1, cost(parameters)))\n",
    "print(f\"The rotating angles are {parameters}\")"
   ]
  },
  {
   "cell_type": "code",
   "execution_count": null,
   "metadata": {},
   "outputs": [],
   "source": []
  }
 ],
 "metadata": {
  "kernelspec": {
   "display_name": "Python 3.10.5 ('tf_mac')",
   "language": "python",
   "name": "python3"
  },
  "language_info": {
   "codemirror_mode": {
    "name": "ipython",
    "version": 3
   },
   "file_extension": ".py",
   "mimetype": "text/x-python",
   "name": "python",
   "nbconvert_exporter": "python",
   "pygments_lexer": "ipython3",
   "version": "3.10.5"
  },
  "orig_nbformat": 4,
  "vscode": {
   "interpreter": {
    "hash": "7cfd4d0365b7115e4020ce87e4cdea86bf1d0ae836bec2ad30920d104c9ba58a"
   }
  }
 },
 "nbformat": 4,
 "nbformat_minor": 2
}
